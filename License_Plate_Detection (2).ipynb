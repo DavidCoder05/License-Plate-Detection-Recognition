{
  "nbformat": 4,
  "nbformat_minor": 0,
  "metadata": {
    "colab": {
      "provenance": [],
      "gpuType": "T4"
    },
    "kernelspec": {
      "name": "python3",
      "display_name": "Python 3"
    },
    "language_info": {
      "name": "python"
    },
    "accelerator": "GPU"
  },
  "cells": [
    {
      "cell_type": "code",
      "source": [
        "# import os\n",
        "\n",
        "# # Set your paths\n",
        "# images_dir = '/content/drive/MyDrive/Colab Notebooks/license_data/images/train'  # change this to your actual path\n",
        "# labels_dir = '/content/drive/MyDrive/Colab Notebooks/license_data/labels/train'  # change this to your actual path\n",
        "\n",
        "# # List files\n",
        "# image_files = set(os.path.splitext(f)[0] for f in os.listdir(images_dir) if f.lower().endswith(('.jpg', '.jpeg', '.png')))\n",
        "# label_files = set(os.path.splitext(f)[0] for f in os.listdir(labels_dir) if f.lower().endswith('.txt'))\n",
        "\n",
        "# # Files that exist in only one of the sets\n",
        "# images_without_labels = image_files - label_files\n",
        "# labels_without_images = label_files - image_files\n",
        "\n",
        "# # Delete unmatched image files\n",
        "# for fname in images_without_labels:\n",
        "#     for ext in ['.jpg', '.jpeg', '.png']:\n",
        "#         path = os.path.join(images_dir, fname + ext)\n",
        "#         if os.path.exists(path):\n",
        "#             os.remove(path)\n",
        "#             print(f\"Deleted image: {path}\")\n",
        "\n",
        "# # Delete unmatched label files\n",
        "# for fname in labels_without_images:\n",
        "#     path = os.path.join(labels_dir, fname + '.txt')\n",
        "#     if os.path.exists(path):\n",
        "#         os.remove(path)\n",
        "#         print(f\"Deleted label: {path}\")\n"
      ],
      "metadata": {
        "id": "TidjZbcSxHW-"
      },
      "execution_count": null,
      "outputs": []
    },
    {
      "cell_type": "code",
      "source": [
        "import importlib.util\n",
        "if importlib.util.find_spec(\"ultralytics\") is None:\n",
        "    !pip install ultralytics\n",
        "\n",
        "!pip install easyocr\n",
        "!pip install paddleocr paddlepaddle"
      ],
      "metadata": {
        "id": "n7Surl4-07M1"
      },
      "execution_count": null,
      "outputs": []
    },
    {
      "cell_type": "code",
      "execution_count": null,
      "metadata": {
        "id": "KLlDBRC_0vSn"
      },
      "outputs": [],
      "source": [
        "from ultralytics import YOLO\n",
        "import easyocr\n",
        "import cv2\n",
        "import matplotlib.pyplot as plt\n",
        "import numpy as np"
      ]
    },
    {
      "cell_type": "code",
      "source": [
        "model=YOLO('yolov8n.pt')"
      ],
      "metadata": {
        "id": "03Y3zslC1ABC"
      },
      "execution_count": null,
      "outputs": []
    },
    {
      "cell_type": "code",
      "source": [
        "result= model.train(data=\"/content/drive/MyDrive/Colab Notebooks/config1.yaml\", epochs=25)"
      ],
      "metadata": {
        "id": "xY9YkOfZlXyN"
      },
      "execution_count": null,
      "outputs": []
    },
    {
      "cell_type": "code",
      "source": [
        "!scp -r /content/runs '/content/drive/MyDrive/Colab Notebooks/license'"
      ],
      "metadata": {
        "id": "itoWh1ziAONB"
      },
      "execution_count": null,
      "outputs": []
    },
    {
      "cell_type": "code",
      "source": [
        "model = YOLO('/content/drive/MyDrive/Colab Notebooks/license/runs/detect/train3/weights/best.pt')"
      ],
      "metadata": {
        "id": "ToQcIsPU1Wom"
      },
      "execution_count": null,
      "outputs": []
    },
    {
      "cell_type": "code",
      "source": [
        "results = model('/content/drive/MyDrive/Colab Notebooks/download.jpeg', show=True)"
      ],
      "metadata": {
        "id": "LCCCff_656qN"
      },
      "execution_count": null,
      "outputs": []
    },
    {
      "cell_type": "code",
      "source": [
        "for r in results:\n",
        "    print(r.boxes)        # Detected boxes\n",
        "    print(r.names)        # Class names\n",
        "    print(r.probs)        # Class probabilities"
      ],
      "metadata": {
        "id": "8NIhsGfh6rP3"
      },
      "execution_count": null,
      "outputs": []
    },
    {
      "cell_type": "code",
      "source": [
        "results[0].save(filename='/content/drive/MyDrive/Colab Notebooks/detected_image.jpg')"
      ],
      "metadata": {
        "id": "ysC7gJ8vRgKu"
      },
      "execution_count": null,
      "outputs": []
    },
    {
      "cell_type": "code",
      "source": [
        "model = YOLO('/content/drive/MyDrive/Colab Notebooks/license/runs/detect/train3/weights/best.pt')"
      ],
      "metadata": {
        "id": "6doEyyFeSC-E"
      },
      "execution_count": null,
      "outputs": []
    },
    {
      "cell_type": "code",
      "source": [
        "reader= easyocr.Reader(['en'])\n",
        "\n",
        "img_path='/content/drive/MyDrive/Colab Notebooks/download.jpeg'\n",
        "image=cv2.imread(img_path)"
      ],
      "metadata": {
        "id": "21FNQegZObrl"
      },
      "execution_count": null,
      "outputs": []
    },
    {
      "cell_type": "code",
      "source": [
        "import cv2\n",
        "import csv\n",
        "from datetime import datetime\n",
        "from ultralytics import YOLO\n",
        "from paddleocr import PaddleOCR\n",
        "\n",
        "# Load YOLO model (trained for license plate detection)\n",
        "yolo_model = YOLO(\"/content/drive/MyDrive/Colab Notebooks/license/runs/detect/train3/weights/best.pt\")\n",
        "\n",
        "# Load PaddleOCR\n",
        "ocr = PaddleOCR(use_angle_cls=True, lang='en')\n",
        "\n",
        "# Image path\n",
        "img_path = \"/content/drive/MyDrive/Colab Notebooks/download.jpeg\"\n",
        "img = cv2.imread(img_path)\n",
        "\n",
        "# CSV file setup\n",
        "csv_file = \"/content/drive/MyDrive/Colab Notebooks/plate_texts.csv\"\n",
        "with open(csv_file, mode='w', newline='') as f:\n",
        "    writer = csv.writer(f)\n",
        "    writer.writerow([\"Timestamp\", \"Plate_ID\", \"Detected_Texts\", \"Avg_Confidence\"])  # header\n",
        "\n",
        "\n",
        "# Function to log OCR results into CSV\n",
        "def log_ocr_texts_combined(ocr, image, csv_file, plate_id):\n",
        "    result = ocr.ocr(image)\n",
        "\n",
        "    if result and isinstance(result, list):\n",
        "        all_texts = []\n",
        "        all_scores = []\n",
        "\n",
        "        for res in result:\n",
        "            if \"rec_texts\" in res:\n",
        "                all_texts.extend(res[\"rec_texts\"])\n",
        "                all_scores.extend([float(s) for s in res[\"rec_scores\"]])\n",
        "\n",
        "        if all_texts:\n",
        "            timestamp = datetime.now().strftime(\"%Y-%m-%d %H:%M:%S\")\n",
        "            combined_text = \" | \".join(all_texts)\n",
        "            avg_confidence = sum(all_scores) / len(all_scores)\n",
        "\n",
        "            # Print on screen\n",
        "            print(f\"[{timestamp}] PlateID {plate_id} → Texts: {combined_text}, Avg Confidence: {avg_confidence:.2f}\")\n",
        "\n",
        "            # Write to CSV\n",
        "            with open(csv_file, mode='a', newline='') as f:\n",
        "                writer = csv.writer(f)\n",
        "                writer.writerow([timestamp, plate_id, combined_text, f\"{avg_confidence:.2f}\"])\n",
        "\n",
        "\n",
        "# Detect license plates with YOLO and process with OCR\n",
        "plate_id = 1\n",
        "results = yolo_model(img)\n",
        "\n",
        "for r in results:\n",
        "    for box in r.boxes:\n",
        "        x1, y1, x2, y2 = map(int, box.xyxy[0])  # bounding box\n",
        "        plate = img[y1:y2, x1:x2]\n",
        "\n",
        "        log_ocr_texts_combined(ocr, plate, csv_file, plate_id)\n",
        "        plate_id += 1\n"
      ],
      "metadata": {
        "id": "1OFQXinbmKEf"
      },
      "execution_count": null,
      "outputs": []
    }
  ]
}