{
  "nbformat": 4,
  "nbformat_minor": 0,
  "metadata": {
    "colab": {
      "provenance": [],
      "gpuType": "T4"
    },
    "kernelspec": {
      "name": "python3",
      "display_name": "Python 3"
    },
    "language_info": {
      "name": "python"
    },
    "widgets": {
      "application/vnd.jupyter.widget-state+json": {
        "c524a19c36264ac58fe101ef8f62bd30": {
          "model_module": "@jupyter-widgets/controls",
          "model_name": "HBoxModel",
          "model_module_version": "1.5.0",
          "state": {
            "_dom_classes": [],
            "_model_module": "@jupyter-widgets/controls",
            "_model_module_version": "1.5.0",
            "_model_name": "HBoxModel",
            "_view_count": null,
            "_view_module": "@jupyter-widgets/controls",
            "_view_module_version": "1.5.0",
            "_view_name": "HBoxView",
            "box_style": "",
            "children": [
              "IPY_MODEL_21719e1c8a6f4609abb0e0912ae59857",
              "IPY_MODEL_bf5e63cfedc145448f8871c6037ffe7b",
              "IPY_MODEL_5ee365b2a62f4aab82901611051c6dd4"
            ],
            "layout": "IPY_MODEL_fc9644f420c2436bbfa21d7221ddcff7"
          }
        },
        "21719e1c8a6f4609abb0e0912ae59857": {
          "model_module": "@jupyter-widgets/controls",
          "model_name": "HTMLModel",
          "model_module_version": "1.5.0",
          "state": {
            "_dom_classes": [],
            "_model_module": "@jupyter-widgets/controls",
            "_model_module_version": "1.5.0",
            "_model_name": "HTMLModel",
            "_view_count": null,
            "_view_module": "@jupyter-widgets/controls",
            "_view_module_version": "1.5.0",
            "_view_name": "HTMLView",
            "description": "",
            "description_tooltip": null,
            "layout": "IPY_MODEL_f8028f7203b94d85a443332f7dc7d727",
            "placeholder": "​",
            "style": "IPY_MODEL_094ca8a78cc4438ba35082443181147a",
            "value": "Fetching 6 files: 100%"
          }
        },
        "bf5e63cfedc145448f8871c6037ffe7b": {
          "model_module": "@jupyter-widgets/controls",
          "model_name": "FloatProgressModel",
          "model_module_version": "1.5.0",
          "state": {
            "_dom_classes": [],
            "_model_module": "@jupyter-widgets/controls",
            "_model_module_version": "1.5.0",
            "_model_name": "FloatProgressModel",
            "_view_count": null,
            "_view_module": "@jupyter-widgets/controls",
            "_view_module_version": "1.5.0",
            "_view_name": "ProgressView",
            "bar_style": "success",
            "description": "",
            "description_tooltip": null,
            "layout": "IPY_MODEL_dd8c2754560b455cb6ea63cb9d8f8cf7",
            "max": 6,
            "min": 0,
            "orientation": "horizontal",
            "style": "IPY_MODEL_e8e22a95f3ff497389aecf8be563dddd",
            "value": 6
          }
        },
        "5ee365b2a62f4aab82901611051c6dd4": {
          "model_module": "@jupyter-widgets/controls",
          "model_name": "HTMLModel",
          "model_module_version": "1.5.0",
          "state": {
            "_dom_classes": [],
            "_model_module": "@jupyter-widgets/controls",
            "_model_module_version": "1.5.0",
            "_model_name": "HTMLModel",
            "_view_count": null,
            "_view_module": "@jupyter-widgets/controls",
            "_view_module_version": "1.5.0",
            "_view_name": "HTMLView",
            "description": "",
            "description_tooltip": null,
            "layout": "IPY_MODEL_84328ab60c4e4ce9aab3a45937f55c3e",
            "placeholder": "​",
            "style": "IPY_MODEL_32de7ec713f64c14ad166ab59e715045",
            "value": " 6/6 [00:00&lt;00:00, 112.95it/s]"
          }
        },
        "fc9644f420c2436bbfa21d7221ddcff7": {
          "model_module": "@jupyter-widgets/base",
          "model_name": "LayoutModel",
          "model_module_version": "1.2.0",
          "state": {
            "_model_module": "@jupyter-widgets/base",
            "_model_module_version": "1.2.0",
            "_model_name": "LayoutModel",
            "_view_count": null,
            "_view_module": "@jupyter-widgets/base",
            "_view_module_version": "1.2.0",
            "_view_name": "LayoutView",
            "align_content": null,
            "align_items": null,
            "align_self": null,
            "border": null,
            "bottom": null,
            "display": null,
            "flex": null,
            "flex_flow": null,
            "grid_area": null,
            "grid_auto_columns": null,
            "grid_auto_flow": null,
            "grid_auto_rows": null,
            "grid_column": null,
            "grid_gap": null,
            "grid_row": null,
            "grid_template_areas": null,
            "grid_template_columns": null,
            "grid_template_rows": null,
            "height": null,
            "justify_content": null,
            "justify_items": null,
            "left": null,
            "margin": null,
            "max_height": null,
            "max_width": null,
            "min_height": null,
            "min_width": null,
            "object_fit": null,
            "object_position": null,
            "order": null,
            "overflow": null,
            "overflow_x": null,
            "overflow_y": null,
            "padding": null,
            "right": null,
            "top": null,
            "visibility": null,
            "width": null
          }
        },
        "f8028f7203b94d85a443332f7dc7d727": {
          "model_module": "@jupyter-widgets/base",
          "model_name": "LayoutModel",
          "model_module_version": "1.2.0",
          "state": {
            "_model_module": "@jupyter-widgets/base",
            "_model_module_version": "1.2.0",
            "_model_name": "LayoutModel",
            "_view_count": null,
            "_view_module": "@jupyter-widgets/base",
            "_view_module_version": "1.2.0",
            "_view_name": "LayoutView",
            "align_content": null,
            "align_items": null,
            "align_self": null,
            "border": null,
            "bottom": null,
            "display": null,
            "flex": null,
            "flex_flow": null,
            "grid_area": null,
            "grid_auto_columns": null,
            "grid_auto_flow": null,
            "grid_auto_rows": null,
            "grid_column": null,
            "grid_gap": null,
            "grid_row": null,
            "grid_template_areas": null,
            "grid_template_columns": null,
            "grid_template_rows": null,
            "height": null,
            "justify_content": null,
            "justify_items": null,
            "left": null,
            "margin": null,
            "max_height": null,
            "max_width": null,
            "min_height": null,
            "min_width": null,
            "object_fit": null,
            "object_position": null,
            "order": null,
            "overflow": null,
            "overflow_x": null,
            "overflow_y": null,
            "padding": null,
            "right": null,
            "top": null,
            "visibility": null,
            "width": null
          }
        },
        "094ca8a78cc4438ba35082443181147a": {
          "model_module": "@jupyter-widgets/controls",
          "model_name": "DescriptionStyleModel",
          "model_module_version": "1.5.0",
          "state": {
            "_model_module": "@jupyter-widgets/controls",
            "_model_module_version": "1.5.0",
            "_model_name": "DescriptionStyleModel",
            "_view_count": null,
            "_view_module": "@jupyter-widgets/base",
            "_view_module_version": "1.2.0",
            "_view_name": "StyleView",
            "description_width": ""
          }
        },
        "dd8c2754560b455cb6ea63cb9d8f8cf7": {
          "model_module": "@jupyter-widgets/base",
          "model_name": "LayoutModel",
          "model_module_version": "1.2.0",
          "state": {
            "_model_module": "@jupyter-widgets/base",
            "_model_module_version": "1.2.0",
            "_model_name": "LayoutModel",
            "_view_count": null,
            "_view_module": "@jupyter-widgets/base",
            "_view_module_version": "1.2.0",
            "_view_name": "LayoutView",
            "align_content": null,
            "align_items": null,
            "align_self": null,
            "border": null,
            "bottom": null,
            "display": null,
            "flex": null,
            "flex_flow": null,
            "grid_area": null,
            "grid_auto_columns": null,
            "grid_auto_flow": null,
            "grid_auto_rows": null,
            "grid_column": null,
            "grid_gap": null,
            "grid_row": null,
            "grid_template_areas": null,
            "grid_template_columns": null,
            "grid_template_rows": null,
            "height": null,
            "justify_content": null,
            "justify_items": null,
            "left": null,
            "margin": null,
            "max_height": null,
            "max_width": null,
            "min_height": null,
            "min_width": null,
            "object_fit": null,
            "object_position": null,
            "order": null,
            "overflow": null,
            "overflow_x": null,
            "overflow_y": null,
            "padding": null,
            "right": null,
            "top": null,
            "visibility": null,
            "width": null
          }
        },
        "e8e22a95f3ff497389aecf8be563dddd": {
          "model_module": "@jupyter-widgets/controls",
          "model_name": "ProgressStyleModel",
          "model_module_version": "1.5.0",
          "state": {
            "_model_module": "@jupyter-widgets/controls",
            "_model_module_version": "1.5.0",
            "_model_name": "ProgressStyleModel",
            "_view_count": null,
            "_view_module": "@jupyter-widgets/base",
            "_view_module_version": "1.2.0",
            "_view_name": "StyleView",
            "bar_color": null,
            "description_width": ""
          }
        },
        "84328ab60c4e4ce9aab3a45937f55c3e": {
          "model_module": "@jupyter-widgets/base",
          "model_name": "LayoutModel",
          "model_module_version": "1.2.0",
          "state": {
            "_model_module": "@jupyter-widgets/base",
            "_model_module_version": "1.2.0",
            "_model_name": "LayoutModel",
            "_view_count": null,
            "_view_module": "@jupyter-widgets/base",
            "_view_module_version": "1.2.0",
            "_view_name": "LayoutView",
            "align_content": null,
            "align_items": null,
            "align_self": null,
            "border": null,
            "bottom": null,
            "display": null,
            "flex": null,
            "flex_flow": null,
            "grid_area": null,
            "grid_auto_columns": null,
            "grid_auto_flow": null,
            "grid_auto_rows": null,
            "grid_column": null,
            "grid_gap": null,
            "grid_row": null,
            "grid_template_areas": null,
            "grid_template_columns": null,
            "grid_template_rows": null,
            "height": null,
            "justify_content": null,
            "justify_items": null,
            "left": null,
            "margin": null,
            "max_height": null,
            "max_width": null,
            "min_height": null,
            "min_width": null,
            "object_fit": null,
            "object_position": null,
            "order": null,
            "overflow": null,
            "overflow_x": null,
            "overflow_y": null,
            "padding": null,
            "right": null,
            "top": null,
            "visibility": null,
            "width": null
          }
        },
        "32de7ec713f64c14ad166ab59e715045": {
          "model_module": "@jupyter-widgets/controls",
          "model_name": "DescriptionStyleModel",
          "model_module_version": "1.5.0",
          "state": {
            "_model_module": "@jupyter-widgets/controls",
            "_model_module_version": "1.5.0",
            "_model_name": "DescriptionStyleModel",
            "_view_count": null,
            "_view_module": "@jupyter-widgets/base",
            "_view_module_version": "1.2.0",
            "_view_name": "StyleView",
            "description_width": ""
          }
        },
        "b985d441f0484794a90a09e6118dbb79": {
          "model_module": "@jupyter-widgets/controls",
          "model_name": "HBoxModel",
          "model_module_version": "1.5.0",
          "state": {
            "_dom_classes": [],
            "_model_module": "@jupyter-widgets/controls",
            "_model_module_version": "1.5.0",
            "_model_name": "HBoxModel",
            "_view_count": null,
            "_view_module": "@jupyter-widgets/controls",
            "_view_module_version": "1.5.0",
            "_view_name": "HBoxView",
            "box_style": "",
            "children": [
              "IPY_MODEL_99408cc7ae5e4c3584f7e4fade83496e",
              "IPY_MODEL_f4189253334f44af9ffcd1a74fc94def",
              "IPY_MODEL_440c9afae9a94b17bebe6ed963aa36bb"
            ],
            "layout": "IPY_MODEL_280565a44aaf4065b931db29ba9fd695"
          }
        },
        "99408cc7ae5e4c3584f7e4fade83496e": {
          "model_module": "@jupyter-widgets/controls",
          "model_name": "HTMLModel",
          "model_module_version": "1.5.0",
          "state": {
            "_dom_classes": [],
            "_model_module": "@jupyter-widgets/controls",
            "_model_module_version": "1.5.0",
            "_model_name": "HTMLModel",
            "_view_count": null,
            "_view_module": "@jupyter-widgets/controls",
            "_view_module_version": "1.5.0",
            "_view_name": "HTMLView",
            "description": "",
            "description_tooltip": null,
            "layout": "IPY_MODEL_81a8935ffec94650a9a1329226362b44",
            "placeholder": "​",
            "style": "IPY_MODEL_caa222cb5a7840f3854bd6003f9eda22",
            "value": "Fetching 6 files: 100%"
          }
        },
        "f4189253334f44af9ffcd1a74fc94def": {
          "model_module": "@jupyter-widgets/controls",
          "model_name": "FloatProgressModel",
          "model_module_version": "1.5.0",
          "state": {
            "_dom_classes": [],
            "_model_module": "@jupyter-widgets/controls",
            "_model_module_version": "1.5.0",
            "_model_name": "FloatProgressModel",
            "_view_count": null,
            "_view_module": "@jupyter-widgets/controls",
            "_view_module_version": "1.5.0",
            "_view_name": "ProgressView",
            "bar_style": "success",
            "description": "",
            "description_tooltip": null,
            "layout": "IPY_MODEL_ab769935a3744a16a1c0d8e16231c757",
            "max": 6,
            "min": 0,
            "orientation": "horizontal",
            "style": "IPY_MODEL_eb82f1c082154d0888ffe5514b78797b",
            "value": 6
          }
        },
        "440c9afae9a94b17bebe6ed963aa36bb": {
          "model_module": "@jupyter-widgets/controls",
          "model_name": "HTMLModel",
          "model_module_version": "1.5.0",
          "state": {
            "_dom_classes": [],
            "_model_module": "@jupyter-widgets/controls",
            "_model_module_version": "1.5.0",
            "_model_name": "HTMLModel",
            "_view_count": null,
            "_view_module": "@jupyter-widgets/controls",
            "_view_module_version": "1.5.0",
            "_view_name": "HTMLView",
            "description": "",
            "description_tooltip": null,
            "layout": "IPY_MODEL_e4363fc741924e5ca7e1a6761679ead6",
            "placeholder": "​",
            "style": "IPY_MODEL_f5785b6f89fd43bd8e7eb462305f32e0",
            "value": " 6/6 [00:00&lt;00:00, 451.00it/s]"
          }
        },
        "280565a44aaf4065b931db29ba9fd695": {
          "model_module": "@jupyter-widgets/base",
          "model_name": "LayoutModel",
          "model_module_version": "1.2.0",
          "state": {
            "_model_module": "@jupyter-widgets/base",
            "_model_module_version": "1.2.0",
            "_model_name": "LayoutModel",
            "_view_count": null,
            "_view_module": "@jupyter-widgets/base",
            "_view_module_version": "1.2.0",
            "_view_name": "LayoutView",
            "align_content": null,
            "align_items": null,
            "align_self": null,
            "border": null,
            "bottom": null,
            "display": null,
            "flex": null,
            "flex_flow": null,
            "grid_area": null,
            "grid_auto_columns": null,
            "grid_auto_flow": null,
            "grid_auto_rows": null,
            "grid_column": null,
            "grid_gap": null,
            "grid_row": null,
            "grid_template_areas": null,
            "grid_template_columns": null,
            "grid_template_rows": null,
            "height": null,
            "justify_content": null,
            "justify_items": null,
            "left": null,
            "margin": null,
            "max_height": null,
            "max_width": null,
            "min_height": null,
            "min_width": null,
            "object_fit": null,
            "object_position": null,
            "order": null,
            "overflow": null,
            "overflow_x": null,
            "overflow_y": null,
            "padding": null,
            "right": null,
            "top": null,
            "visibility": null,
            "width": null
          }
        },
        "81a8935ffec94650a9a1329226362b44": {
          "model_module": "@jupyter-widgets/base",
          "model_name": "LayoutModel",
          "model_module_version": "1.2.0",
          "state": {
            "_model_module": "@jupyter-widgets/base",
            "_model_module_version": "1.2.0",
            "_model_name": "LayoutModel",
            "_view_count": null,
            "_view_module": "@jupyter-widgets/base",
            "_view_module_version": "1.2.0",
            "_view_name": "LayoutView",
            "align_content": null,
            "align_items": null,
            "align_self": null,
            "border": null,
            "bottom": null,
            "display": null,
            "flex": null,
            "flex_flow": null,
            "grid_area": null,
            "grid_auto_columns": null,
            "grid_auto_flow": null,
            "grid_auto_rows": null,
            "grid_column": null,
            "grid_gap": null,
            "grid_row": null,
            "grid_template_areas": null,
            "grid_template_columns": null,
            "grid_template_rows": null,
            "height": null,
            "justify_content": null,
            "justify_items": null,
            "left": null,
            "margin": null,
            "max_height": null,
            "max_width": null,
            "min_height": null,
            "min_width": null,
            "object_fit": null,
            "object_position": null,
            "order": null,
            "overflow": null,
            "overflow_x": null,
            "overflow_y": null,
            "padding": null,
            "right": null,
            "top": null,
            "visibility": null,
            "width": null
          }
        },
        "caa222cb5a7840f3854bd6003f9eda22": {
          "model_module": "@jupyter-widgets/controls",
          "model_name": "DescriptionStyleModel",
          "model_module_version": "1.5.0",
          "state": {
            "_model_module": "@jupyter-widgets/controls",
            "_model_module_version": "1.5.0",
            "_model_name": "DescriptionStyleModel",
            "_view_count": null,
            "_view_module": "@jupyter-widgets/base",
            "_view_module_version": "1.2.0",
            "_view_name": "StyleView",
            "description_width": ""
          }
        },
        "ab769935a3744a16a1c0d8e16231c757": {
          "model_module": "@jupyter-widgets/base",
          "model_name": "LayoutModel",
          "model_module_version": "1.2.0",
          "state": {
            "_model_module": "@jupyter-widgets/base",
            "_model_module_version": "1.2.0",
            "_model_name": "LayoutModel",
            "_view_count": null,
            "_view_module": "@jupyter-widgets/base",
            "_view_module_version": "1.2.0",
            "_view_name": "LayoutView",
            "align_content": null,
            "align_items": null,
            "align_self": null,
            "border": null,
            "bottom": null,
            "display": null,
            "flex": null,
            "flex_flow": null,
            "grid_area": null,
            "grid_auto_columns": null,
            "grid_auto_flow": null,
            "grid_auto_rows": null,
            "grid_column": null,
            "grid_gap": null,
            "grid_row": null,
            "grid_template_areas": null,
            "grid_template_columns": null,
            "grid_template_rows": null,
            "height": null,
            "justify_content": null,
            "justify_items": null,
            "left": null,
            "margin": null,
            "max_height": null,
            "max_width": null,
            "min_height": null,
            "min_width": null,
            "object_fit": null,
            "object_position": null,
            "order": null,
            "overflow": null,
            "overflow_x": null,
            "overflow_y": null,
            "padding": null,
            "right": null,
            "top": null,
            "visibility": null,
            "width": null
          }
        },
        "eb82f1c082154d0888ffe5514b78797b": {
          "model_module": "@jupyter-widgets/controls",
          "model_name": "ProgressStyleModel",
          "model_module_version": "1.5.0",
          "state": {
            "_model_module": "@jupyter-widgets/controls",
            "_model_module_version": "1.5.0",
            "_model_name": "ProgressStyleModel",
            "_view_count": null,
            "_view_module": "@jupyter-widgets/base",
            "_view_module_version": "1.2.0",
            "_view_name": "StyleView",
            "bar_color": null,
            "description_width": ""
          }
        },
        "e4363fc741924e5ca7e1a6761679ead6": {
          "model_module": "@jupyter-widgets/base",
          "model_name": "LayoutModel",
          "model_module_version": "1.2.0",
          "state": {
            "_model_module": "@jupyter-widgets/base",
            "_model_module_version": "1.2.0",
            "_model_name": "LayoutModel",
            "_view_count": null,
            "_view_module": "@jupyter-widgets/base",
            "_view_module_version": "1.2.0",
            "_view_name": "LayoutView",
            "align_content": null,
            "align_items": null,
            "align_self": null,
            "border": null,
            "bottom": null,
            "display": null,
            "flex": null,
            "flex_flow": null,
            "grid_area": null,
            "grid_auto_columns": null,
            "grid_auto_flow": null,
            "grid_auto_rows": null,
            "grid_column": null,
            "grid_gap": null,
            "grid_row": null,
            "grid_template_areas": null,
            "grid_template_columns": null,
            "grid_template_rows": null,
            "height": null,
            "justify_content": null,
            "justify_items": null,
            "left": null,
            "margin": null,
            "max_height": null,
            "max_width": null,
            "min_height": null,
            "min_width": null,
            "object_fit": null,
            "object_position": null,
            "order": null,
            "overflow": null,
            "overflow_x": null,
            "overflow_y": null,
            "padding": null,
            "right": null,
            "top": null,
            "visibility": null,
            "width": null
          }
        },
        "f5785b6f89fd43bd8e7eb462305f32e0": {
          "model_module": "@jupyter-widgets/controls",
          "model_name": "DescriptionStyleModel",
          "model_module_version": "1.5.0",
          "state": {
            "_model_module": "@jupyter-widgets/controls",
            "_model_module_version": "1.5.0",
            "_model_name": "DescriptionStyleModel",
            "_view_count": null,
            "_view_module": "@jupyter-widgets/base",
            "_view_module_version": "1.2.0",
            "_view_name": "StyleView",
            "description_width": ""
          }
        },
        "71d6df0df0f6465db0c020edb2edbaf7": {
          "model_module": "@jupyter-widgets/controls",
          "model_name": "HBoxModel",
          "model_module_version": "1.5.0",
          "state": {
            "_dom_classes": [],
            "_model_module": "@jupyter-widgets/controls",
            "_model_module_version": "1.5.0",
            "_model_name": "HBoxModel",
            "_view_count": null,
            "_view_module": "@jupyter-widgets/controls",
            "_view_module_version": "1.5.0",
            "_view_name": "HBoxView",
            "box_style": "",
            "children": [
              "IPY_MODEL_e89ad57bf86546aca67df726c6bbd4f6",
              "IPY_MODEL_b9bb3c77f0d5465dbe5650c9195d419d",
              "IPY_MODEL_fd2bf15fcbf9488ebfa57e446f583560"
            ],
            "layout": "IPY_MODEL_d5160db3bc394cc1af04bb1aa49b1636"
          }
        },
        "e89ad57bf86546aca67df726c6bbd4f6": {
          "model_module": "@jupyter-widgets/controls",
          "model_name": "HTMLModel",
          "model_module_version": "1.5.0",
          "state": {
            "_dom_classes": [],
            "_model_module": "@jupyter-widgets/controls",
            "_model_module_version": "1.5.0",
            "_model_name": "HTMLModel",
            "_view_count": null,
            "_view_module": "@jupyter-widgets/controls",
            "_view_module_version": "1.5.0",
            "_view_name": "HTMLView",
            "description": "",
            "description_tooltip": null,
            "layout": "IPY_MODEL_fc1ae1b177374e9ca3d2eaf24831ea1f",
            "placeholder": "​",
            "style": "IPY_MODEL_4d2f3d63b0764f6e82720973d996f4f3",
            "value": "Fetching 6 files: 100%"
          }
        },
        "b9bb3c77f0d5465dbe5650c9195d419d": {
          "model_module": "@jupyter-widgets/controls",
          "model_name": "FloatProgressModel",
          "model_module_version": "1.5.0",
          "state": {
            "_dom_classes": [],
            "_model_module": "@jupyter-widgets/controls",
            "_model_module_version": "1.5.0",
            "_model_name": "FloatProgressModel",
            "_view_count": null,
            "_view_module": "@jupyter-widgets/controls",
            "_view_module_version": "1.5.0",
            "_view_name": "ProgressView",
            "bar_style": "success",
            "description": "",
            "description_tooltip": null,
            "layout": "IPY_MODEL_2618077109ef4994bbaec0d0f939fc04",
            "max": 6,
            "min": 0,
            "orientation": "horizontal",
            "style": "IPY_MODEL_6f1f83d8a43942a0a9e094594859e67c",
            "value": 6
          }
        },
        "fd2bf15fcbf9488ebfa57e446f583560": {
          "model_module": "@jupyter-widgets/controls",
          "model_name": "HTMLModel",
          "model_module_version": "1.5.0",
          "state": {
            "_dom_classes": [],
            "_model_module": "@jupyter-widgets/controls",
            "_model_module_version": "1.5.0",
            "_model_name": "HTMLModel",
            "_view_count": null,
            "_view_module": "@jupyter-widgets/controls",
            "_view_module_version": "1.5.0",
            "_view_name": "HTMLView",
            "description": "",
            "description_tooltip": null,
            "layout": "IPY_MODEL_7b77e0e156dc4bd4acdb34a28cff8d34",
            "placeholder": "​",
            "style": "IPY_MODEL_0f8d699da96147e5983b7a58856471a0",
            "value": " 6/6 [00:00&lt;00:00, 336.64it/s]"
          }
        },
        "d5160db3bc394cc1af04bb1aa49b1636": {
          "model_module": "@jupyter-widgets/base",
          "model_name": "LayoutModel",
          "model_module_version": "1.2.0",
          "state": {
            "_model_module": "@jupyter-widgets/base",
            "_model_module_version": "1.2.0",
            "_model_name": "LayoutModel",
            "_view_count": null,
            "_view_module": "@jupyter-widgets/base",
            "_view_module_version": "1.2.0",
            "_view_name": "LayoutView",
            "align_content": null,
            "align_items": null,
            "align_self": null,
            "border": null,
            "bottom": null,
            "display": null,
            "flex": null,
            "flex_flow": null,
            "grid_area": null,
            "grid_auto_columns": null,
            "grid_auto_flow": null,
            "grid_auto_rows": null,
            "grid_column": null,
            "grid_gap": null,
            "grid_row": null,
            "grid_template_areas": null,
            "grid_template_columns": null,
            "grid_template_rows": null,
            "height": null,
            "justify_content": null,
            "justify_items": null,
            "left": null,
            "margin": null,
            "max_height": null,
            "max_width": null,
            "min_height": null,
            "min_width": null,
            "object_fit": null,
            "object_position": null,
            "order": null,
            "overflow": null,
            "overflow_x": null,
            "overflow_y": null,
            "padding": null,
            "right": null,
            "top": null,
            "visibility": null,
            "width": null
          }
        },
        "fc1ae1b177374e9ca3d2eaf24831ea1f": {
          "model_module": "@jupyter-widgets/base",
          "model_name": "LayoutModel",
          "model_module_version": "1.2.0",
          "state": {
            "_model_module": "@jupyter-widgets/base",
            "_model_module_version": "1.2.0",
            "_model_name": "LayoutModel",
            "_view_count": null,
            "_view_module": "@jupyter-widgets/base",
            "_view_module_version": "1.2.0",
            "_view_name": "LayoutView",
            "align_content": null,
            "align_items": null,
            "align_self": null,
            "border": null,
            "bottom": null,
            "display": null,
            "flex": null,
            "flex_flow": null,
            "grid_area": null,
            "grid_auto_columns": null,
            "grid_auto_flow": null,
            "grid_auto_rows": null,
            "grid_column": null,
            "grid_gap": null,
            "grid_row": null,
            "grid_template_areas": null,
            "grid_template_columns": null,
            "grid_template_rows": null,
            "height": null,
            "justify_content": null,
            "justify_items": null,
            "left": null,
            "margin": null,
            "max_height": null,
            "max_width": null,
            "min_height": null,
            "min_width": null,
            "object_fit": null,
            "object_position": null,
            "order": null,
            "overflow": null,
            "overflow_x": null,
            "overflow_y": null,
            "padding": null,
            "right": null,
            "top": null,
            "visibility": null,
            "width": null
          }
        },
        "4d2f3d63b0764f6e82720973d996f4f3": {
          "model_module": "@jupyter-widgets/controls",
          "model_name": "DescriptionStyleModel",
          "model_module_version": "1.5.0",
          "state": {
            "_model_module": "@jupyter-widgets/controls",
            "_model_module_version": "1.5.0",
            "_model_name": "DescriptionStyleModel",
            "_view_count": null,
            "_view_module": "@jupyter-widgets/base",
            "_view_module_version": "1.2.0",
            "_view_name": "StyleView",
            "description_width": ""
          }
        },
        "2618077109ef4994bbaec0d0f939fc04": {
          "model_module": "@jupyter-widgets/base",
          "model_name": "LayoutModel",
          "model_module_version": "1.2.0",
          "state": {
            "_model_module": "@jupyter-widgets/base",
            "_model_module_version": "1.2.0",
            "_model_name": "LayoutModel",
            "_view_count": null,
            "_view_module": "@jupyter-widgets/base",
            "_view_module_version": "1.2.0",
            "_view_name": "LayoutView",
            "align_content": null,
            "align_items": null,
            "align_self": null,
            "border": null,
            "bottom": null,
            "display": null,
            "flex": null,
            "flex_flow": null,
            "grid_area": null,
            "grid_auto_columns": null,
            "grid_auto_flow": null,
            "grid_auto_rows": null,
            "grid_column": null,
            "grid_gap": null,
            "grid_row": null,
            "grid_template_areas": null,
            "grid_template_columns": null,
            "grid_template_rows": null,
            "height": null,
            "justify_content": null,
            "justify_items": null,
            "left": null,
            "margin": null,
            "max_height": null,
            "max_width": null,
            "min_height": null,
            "min_width": null,
            "object_fit": null,
            "object_position": null,
            "order": null,
            "overflow": null,
            "overflow_x": null,
            "overflow_y": null,
            "padding": null,
            "right": null,
            "top": null,
            "visibility": null,
            "width": null
          }
        },
        "6f1f83d8a43942a0a9e094594859e67c": {
          "model_module": "@jupyter-widgets/controls",
          "model_name": "ProgressStyleModel",
          "model_module_version": "1.5.0",
          "state": {
            "_model_module": "@jupyter-widgets/controls",
            "_model_module_version": "1.5.0",
            "_model_name": "ProgressStyleModel",
            "_view_count": null,
            "_view_module": "@jupyter-widgets/base",
            "_view_module_version": "1.2.0",
            "_view_name": "StyleView",
            "bar_color": null,
            "description_width": ""
          }
        },
        "7b77e0e156dc4bd4acdb34a28cff8d34": {
          "model_module": "@jupyter-widgets/base",
          "model_name": "LayoutModel",
          "model_module_version": "1.2.0",
          "state": {
            "_model_module": "@jupyter-widgets/base",
            "_model_module_version": "1.2.0",
            "_model_name": "LayoutModel",
            "_view_count": null,
            "_view_module": "@jupyter-widgets/base",
            "_view_module_version": "1.2.0",
            "_view_name": "LayoutView",
            "align_content": null,
            "align_items": null,
            "align_self": null,
            "border": null,
            "bottom": null,
            "display": null,
            "flex": null,
            "flex_flow": null,
            "grid_area": null,
            "grid_auto_columns": null,
            "grid_auto_flow": null,
            "grid_auto_rows": null,
            "grid_column": null,
            "grid_gap": null,
            "grid_row": null,
            "grid_template_areas": null,
            "grid_template_columns": null,
            "grid_template_rows": null,
            "height": null,
            "justify_content": null,
            "justify_items": null,
            "left": null,
            "margin": null,
            "max_height": null,
            "max_width": null,
            "min_height": null,
            "min_width": null,
            "object_fit": null,
            "object_position": null,
            "order": null,
            "overflow": null,
            "overflow_x": null,
            "overflow_y": null,
            "padding": null,
            "right": null,
            "top": null,
            "visibility": null,
            "width": null
          }
        },
        "0f8d699da96147e5983b7a58856471a0": {
          "model_module": "@jupyter-widgets/controls",
          "model_name": "DescriptionStyleModel",
          "model_module_version": "1.5.0",
          "state": {
            "_model_module": "@jupyter-widgets/controls",
            "_model_module_version": "1.5.0",
            "_model_name": "DescriptionStyleModel",
            "_view_count": null,
            "_view_module": "@jupyter-widgets/base",
            "_view_module_version": "1.2.0",
            "_view_name": "StyleView",
            "description_width": ""
          }
        },
        "8b372061120a4da796b7dd056dee8ea2": {
          "model_module": "@jupyter-widgets/controls",
          "model_name": "HBoxModel",
          "model_module_version": "1.5.0",
          "state": {
            "_dom_classes": [],
            "_model_module": "@jupyter-widgets/controls",
            "_model_module_version": "1.5.0",
            "_model_name": "HBoxModel",
            "_view_count": null,
            "_view_module": "@jupyter-widgets/controls",
            "_view_module_version": "1.5.0",
            "_view_name": "HBoxView",
            "box_style": "",
            "children": [
              "IPY_MODEL_2171bfda993f4ea19d070dc86f2b41d3",
              "IPY_MODEL_77f62130f9eb4e2f874891d8eac1ef49",
              "IPY_MODEL_039d5ff8a59b48b4976b435a444db718"
            ],
            "layout": "IPY_MODEL_be3ca27f4f304312a4a8487a0c049649"
          }
        },
        "2171bfda993f4ea19d070dc86f2b41d3": {
          "model_module": "@jupyter-widgets/controls",
          "model_name": "HTMLModel",
          "model_module_version": "1.5.0",
          "state": {
            "_dom_classes": [],
            "_model_module": "@jupyter-widgets/controls",
            "_model_module_version": "1.5.0",
            "_model_name": "HTMLModel",
            "_view_count": null,
            "_view_module": "@jupyter-widgets/controls",
            "_view_module_version": "1.5.0",
            "_view_name": "HTMLView",
            "description": "",
            "description_tooltip": null,
            "layout": "IPY_MODEL_e9b2958577844826afa148231129c153",
            "placeholder": "​",
            "style": "IPY_MODEL_e38debdb25f24fff9dd090e326295e41",
            "value": "Fetching 6 files: 100%"
          }
        },
        "77f62130f9eb4e2f874891d8eac1ef49": {
          "model_module": "@jupyter-widgets/controls",
          "model_name": "FloatProgressModel",
          "model_module_version": "1.5.0",
          "state": {
            "_dom_classes": [],
            "_model_module": "@jupyter-widgets/controls",
            "_model_module_version": "1.5.0",
            "_model_name": "FloatProgressModel",
            "_view_count": null,
            "_view_module": "@jupyter-widgets/controls",
            "_view_module_version": "1.5.0",
            "_view_name": "ProgressView",
            "bar_style": "success",
            "description": "",
            "description_tooltip": null,
            "layout": "IPY_MODEL_b2ed1e3ebe7544158eb4fad79d8be01c",
            "max": 6,
            "min": 0,
            "orientation": "horizontal",
            "style": "IPY_MODEL_2aececdfbb66450e874369fc2c0383c9",
            "value": 6
          }
        },
        "039d5ff8a59b48b4976b435a444db718": {
          "model_module": "@jupyter-widgets/controls",
          "model_name": "HTMLModel",
          "model_module_version": "1.5.0",
          "state": {
            "_dom_classes": [],
            "_model_module": "@jupyter-widgets/controls",
            "_model_module_version": "1.5.0",
            "_model_name": "HTMLModel",
            "_view_count": null,
            "_view_module": "@jupyter-widgets/controls",
            "_view_module_version": "1.5.0",
            "_view_name": "HTMLView",
            "description": "",
            "description_tooltip": null,
            "layout": "IPY_MODEL_612959cbe1bc441e887cc539c3db1688",
            "placeholder": "​",
            "style": "IPY_MODEL_de1a0f2a91254569bcabef07678e0ff0",
            "value": " 6/6 [00:00&lt;00:00, 405.85it/s]"
          }
        },
        "be3ca27f4f304312a4a8487a0c049649": {
          "model_module": "@jupyter-widgets/base",
          "model_name": "LayoutModel",
          "model_module_version": "1.2.0",
          "state": {
            "_model_module": "@jupyter-widgets/base",
            "_model_module_version": "1.2.0",
            "_model_name": "LayoutModel",
            "_view_count": null,
            "_view_module": "@jupyter-widgets/base",
            "_view_module_version": "1.2.0",
            "_view_name": "LayoutView",
            "align_content": null,
            "align_items": null,
            "align_self": null,
            "border": null,
            "bottom": null,
            "display": null,
            "flex": null,
            "flex_flow": null,
            "grid_area": null,
            "grid_auto_columns": null,
            "grid_auto_flow": null,
            "grid_auto_rows": null,
            "grid_column": null,
            "grid_gap": null,
            "grid_row": null,
            "grid_template_areas": null,
            "grid_template_columns": null,
            "grid_template_rows": null,
            "height": null,
            "justify_content": null,
            "justify_items": null,
            "left": null,
            "margin": null,
            "max_height": null,
            "max_width": null,
            "min_height": null,
            "min_width": null,
            "object_fit": null,
            "object_position": null,
            "order": null,
            "overflow": null,
            "overflow_x": null,
            "overflow_y": null,
            "padding": null,
            "right": null,
            "top": null,
            "visibility": null,
            "width": null
          }
        },
        "e9b2958577844826afa148231129c153": {
          "model_module": "@jupyter-widgets/base",
          "model_name": "LayoutModel",
          "model_module_version": "1.2.0",
          "state": {
            "_model_module": "@jupyter-widgets/base",
            "_model_module_version": "1.2.0",
            "_model_name": "LayoutModel",
            "_view_count": null,
            "_view_module": "@jupyter-widgets/base",
            "_view_module_version": "1.2.0",
            "_view_name": "LayoutView",
            "align_content": null,
            "align_items": null,
            "align_self": null,
            "border": null,
            "bottom": null,
            "display": null,
            "flex": null,
            "flex_flow": null,
            "grid_area": null,
            "grid_auto_columns": null,
            "grid_auto_flow": null,
            "grid_auto_rows": null,
            "grid_column": null,
            "grid_gap": null,
            "grid_row": null,
            "grid_template_areas": null,
            "grid_template_columns": null,
            "grid_template_rows": null,
            "height": null,
            "justify_content": null,
            "justify_items": null,
            "left": null,
            "margin": null,
            "max_height": null,
            "max_width": null,
            "min_height": null,
            "min_width": null,
            "object_fit": null,
            "object_position": null,
            "order": null,
            "overflow": null,
            "overflow_x": null,
            "overflow_y": null,
            "padding": null,
            "right": null,
            "top": null,
            "visibility": null,
            "width": null
          }
        },
        "e38debdb25f24fff9dd090e326295e41": {
          "model_module": "@jupyter-widgets/controls",
          "model_name": "DescriptionStyleModel",
          "model_module_version": "1.5.0",
          "state": {
            "_model_module": "@jupyter-widgets/controls",
            "_model_module_version": "1.5.0",
            "_model_name": "DescriptionStyleModel",
            "_view_count": null,
            "_view_module": "@jupyter-widgets/base",
            "_view_module_version": "1.2.0",
            "_view_name": "StyleView",
            "description_width": ""
          }
        },
        "b2ed1e3ebe7544158eb4fad79d8be01c": {
          "model_module": "@jupyter-widgets/base",
          "model_name": "LayoutModel",
          "model_module_version": "1.2.0",
          "state": {
            "_model_module": "@jupyter-widgets/base",
            "_model_module_version": "1.2.0",
            "_model_name": "LayoutModel",
            "_view_count": null,
            "_view_module": "@jupyter-widgets/base",
            "_view_module_version": "1.2.0",
            "_view_name": "LayoutView",
            "align_content": null,
            "align_items": null,
            "align_self": null,
            "border": null,
            "bottom": null,
            "display": null,
            "flex": null,
            "flex_flow": null,
            "grid_area": null,
            "grid_auto_columns": null,
            "grid_auto_flow": null,
            "grid_auto_rows": null,
            "grid_column": null,
            "grid_gap": null,
            "grid_row": null,
            "grid_template_areas": null,
            "grid_template_columns": null,
            "grid_template_rows": null,
            "height": null,
            "justify_content": null,
            "justify_items": null,
            "left": null,
            "margin": null,
            "max_height": null,
            "max_width": null,
            "min_height": null,
            "min_width": null,
            "object_fit": null,
            "object_position": null,
            "order": null,
            "overflow": null,
            "overflow_x": null,
            "overflow_y": null,
            "padding": null,
            "right": null,
            "top": null,
            "visibility": null,
            "width": null
          }
        },
        "2aececdfbb66450e874369fc2c0383c9": {
          "model_module": "@jupyter-widgets/controls",
          "model_name": "ProgressStyleModel",
          "model_module_version": "1.5.0",
          "state": {
            "_model_module": "@jupyter-widgets/controls",
            "_model_module_version": "1.5.0",
            "_model_name": "ProgressStyleModel",
            "_view_count": null,
            "_view_module": "@jupyter-widgets/base",
            "_view_module_version": "1.2.0",
            "_view_name": "StyleView",
            "bar_color": null,
            "description_width": ""
          }
        },
        "612959cbe1bc441e887cc539c3db1688": {
          "model_module": "@jupyter-widgets/base",
          "model_name": "LayoutModel",
          "model_module_version": "1.2.0",
          "state": {
            "_model_module": "@jupyter-widgets/base",
            "_model_module_version": "1.2.0",
            "_model_name": "LayoutModel",
            "_view_count": null,
            "_view_module": "@jupyter-widgets/base",
            "_view_module_version": "1.2.0",
            "_view_name": "LayoutView",
            "align_content": null,
            "align_items": null,
            "align_self": null,
            "border": null,
            "bottom": null,
            "display": null,
            "flex": null,
            "flex_flow": null,
            "grid_area": null,
            "grid_auto_columns": null,
            "grid_auto_flow": null,
            "grid_auto_rows": null,
            "grid_column": null,
            "grid_gap": null,
            "grid_row": null,
            "grid_template_areas": null,
            "grid_template_columns": null,
            "grid_template_rows": null,
            "height": null,
            "justify_content": null,
            "justify_items": null,
            "left": null,
            "margin": null,
            "max_height": null,
            "max_width": null,
            "min_height": null,
            "min_width": null,
            "object_fit": null,
            "object_position": null,
            "order": null,
            "overflow": null,
            "overflow_x": null,
            "overflow_y": null,
            "padding": null,
            "right": null,
            "top": null,
            "visibility": null,
            "width": null
          }
        },
        "de1a0f2a91254569bcabef07678e0ff0": {
          "model_module": "@jupyter-widgets/controls",
          "model_name": "DescriptionStyleModel",
          "model_module_version": "1.5.0",
          "state": {
            "_model_module": "@jupyter-widgets/controls",
            "_model_module_version": "1.5.0",
            "_model_name": "DescriptionStyleModel",
            "_view_count": null,
            "_view_module": "@jupyter-widgets/base",
            "_view_module_version": "1.2.0",
            "_view_name": "StyleView",
            "description_width": ""
          }
        },
        "430b415857fe4f7b97992432fb624ccf": {
          "model_module": "@jupyter-widgets/controls",
          "model_name": "HBoxModel",
          "model_module_version": "1.5.0",
          "state": {
            "_dom_classes": [],
            "_model_module": "@jupyter-widgets/controls",
            "_model_module_version": "1.5.0",
            "_model_name": "HBoxModel",
            "_view_count": null,
            "_view_module": "@jupyter-widgets/controls",
            "_view_module_version": "1.5.0",
            "_view_name": "HBoxView",
            "box_style": "",
            "children": [
              "IPY_MODEL_5dd0203f0b1944c88f75978e9f7ae447",
              "IPY_MODEL_6f37f8e994e941c5ab93bf4b4d456206",
              "IPY_MODEL_1091414925374349980077ced1278fa1"
            ],
            "layout": "IPY_MODEL_31e9a18c94614b0eacb8a985a825cd0f"
          }
        },
        "5dd0203f0b1944c88f75978e9f7ae447": {
          "model_module": "@jupyter-widgets/controls",
          "model_name": "HTMLModel",
          "model_module_version": "1.5.0",
          "state": {
            "_dom_classes": [],
            "_model_module": "@jupyter-widgets/controls",
            "_model_module_version": "1.5.0",
            "_model_name": "HTMLModel",
            "_view_count": null,
            "_view_module": "@jupyter-widgets/controls",
            "_view_module_version": "1.5.0",
            "_view_name": "HTMLView",
            "description": "",
            "description_tooltip": null,
            "layout": "IPY_MODEL_4efcf81e77b1407ab9bb8b210c0709c7",
            "placeholder": "​",
            "style": "IPY_MODEL_d7ffd758eb0a4de6b6416bc426b3dcea",
            "value": "Fetching 6 files: 100%"
          }
        },
        "6f37f8e994e941c5ab93bf4b4d456206": {
          "model_module": "@jupyter-widgets/controls",
          "model_name": "FloatProgressModel",
          "model_module_version": "1.5.0",
          "state": {
            "_dom_classes": [],
            "_model_module": "@jupyter-widgets/controls",
            "_model_module_version": "1.5.0",
            "_model_name": "FloatProgressModel",
            "_view_count": null,
            "_view_module": "@jupyter-widgets/controls",
            "_view_module_version": "1.5.0",
            "_view_name": "ProgressView",
            "bar_style": "success",
            "description": "",
            "description_tooltip": null,
            "layout": "IPY_MODEL_eb4638c6c1e1410e9065c3599b1d016b",
            "max": 6,
            "min": 0,
            "orientation": "horizontal",
            "style": "IPY_MODEL_0aec0e234aed4d359b50e3bbe51bbdff",
            "value": 6
          }
        },
        "1091414925374349980077ced1278fa1": {
          "model_module": "@jupyter-widgets/controls",
          "model_name": "HTMLModel",
          "model_module_version": "1.5.0",
          "state": {
            "_dom_classes": [],
            "_model_module": "@jupyter-widgets/controls",
            "_model_module_version": "1.5.0",
            "_model_name": "HTMLModel",
            "_view_count": null,
            "_view_module": "@jupyter-widgets/controls",
            "_view_module_version": "1.5.0",
            "_view_name": "HTMLView",
            "description": "",
            "description_tooltip": null,
            "layout": "IPY_MODEL_42050b75b6b54539a0e0ff5a1c5586fb",
            "placeholder": "​",
            "style": "IPY_MODEL_52cbac4a4c9c4d71b495b24fcdb8ece5",
            "value": " 6/6 [00:00&lt;00:00, 465.34it/s]"
          }
        },
        "31e9a18c94614b0eacb8a985a825cd0f": {
          "model_module": "@jupyter-widgets/base",
          "model_name": "LayoutModel",
          "model_module_version": "1.2.0",
          "state": {
            "_model_module": "@jupyter-widgets/base",
            "_model_module_version": "1.2.0",
            "_model_name": "LayoutModel",
            "_view_count": null,
            "_view_module": "@jupyter-widgets/base",
            "_view_module_version": "1.2.0",
            "_view_name": "LayoutView",
            "align_content": null,
            "align_items": null,
            "align_self": null,
            "border": null,
            "bottom": null,
            "display": null,
            "flex": null,
            "flex_flow": null,
            "grid_area": null,
            "grid_auto_columns": null,
            "grid_auto_flow": null,
            "grid_auto_rows": null,
            "grid_column": null,
            "grid_gap": null,
            "grid_row": null,
            "grid_template_areas": null,
            "grid_template_columns": null,
            "grid_template_rows": null,
            "height": null,
            "justify_content": null,
            "justify_items": null,
            "left": null,
            "margin": null,
            "max_height": null,
            "max_width": null,
            "min_height": null,
            "min_width": null,
            "object_fit": null,
            "object_position": null,
            "order": null,
            "overflow": null,
            "overflow_x": null,
            "overflow_y": null,
            "padding": null,
            "right": null,
            "top": null,
            "visibility": null,
            "width": null
          }
        },
        "4efcf81e77b1407ab9bb8b210c0709c7": {
          "model_module": "@jupyter-widgets/base",
          "model_name": "LayoutModel",
          "model_module_version": "1.2.0",
          "state": {
            "_model_module": "@jupyter-widgets/base",
            "_model_module_version": "1.2.0",
            "_model_name": "LayoutModel",
            "_view_count": null,
            "_view_module": "@jupyter-widgets/base",
            "_view_module_version": "1.2.0",
            "_view_name": "LayoutView",
            "align_content": null,
            "align_items": null,
            "align_self": null,
            "border": null,
            "bottom": null,
            "display": null,
            "flex": null,
            "flex_flow": null,
            "grid_area": null,
            "grid_auto_columns": null,
            "grid_auto_flow": null,
            "grid_auto_rows": null,
            "grid_column": null,
            "grid_gap": null,
            "grid_row": null,
            "grid_template_areas": null,
            "grid_template_columns": null,
            "grid_template_rows": null,
            "height": null,
            "justify_content": null,
            "justify_items": null,
            "left": null,
            "margin": null,
            "max_height": null,
            "max_width": null,
            "min_height": null,
            "min_width": null,
            "object_fit": null,
            "object_position": null,
            "order": null,
            "overflow": null,
            "overflow_x": null,
            "overflow_y": null,
            "padding": null,
            "right": null,
            "top": null,
            "visibility": null,
            "width": null
          }
        },
        "d7ffd758eb0a4de6b6416bc426b3dcea": {
          "model_module": "@jupyter-widgets/controls",
          "model_name": "DescriptionStyleModel",
          "model_module_version": "1.5.0",
          "state": {
            "_model_module": "@jupyter-widgets/controls",
            "_model_module_version": "1.5.0",
            "_model_name": "DescriptionStyleModel",
            "_view_count": null,
            "_view_module": "@jupyter-widgets/base",
            "_view_module_version": "1.2.0",
            "_view_name": "StyleView",
            "description_width": ""
          }
        },
        "eb4638c6c1e1410e9065c3599b1d016b": {
          "model_module": "@jupyter-widgets/base",
          "model_name": "LayoutModel",
          "model_module_version": "1.2.0",
          "state": {
            "_model_module": "@jupyter-widgets/base",
            "_model_module_version": "1.2.0",
            "_model_name": "LayoutModel",
            "_view_count": null,
            "_view_module": "@jupyter-widgets/base",
            "_view_module_version": "1.2.0",
            "_view_name": "LayoutView",
            "align_content": null,
            "align_items": null,
            "align_self": null,
            "border": null,
            "bottom": null,
            "display": null,
            "flex": null,
            "flex_flow": null,
            "grid_area": null,
            "grid_auto_columns": null,
            "grid_auto_flow": null,
            "grid_auto_rows": null,
            "grid_column": null,
            "grid_gap": null,
            "grid_row": null,
            "grid_template_areas": null,
            "grid_template_columns": null,
            "grid_template_rows": null,
            "height": null,
            "justify_content": null,
            "justify_items": null,
            "left": null,
            "margin": null,
            "max_height": null,
            "max_width": null,
            "min_height": null,
            "min_width": null,
            "object_fit": null,
            "object_position": null,
            "order": null,
            "overflow": null,
            "overflow_x": null,
            "overflow_y": null,
            "padding": null,
            "right": null,
            "top": null,
            "visibility": null,
            "width": null
          }
        },
        "0aec0e234aed4d359b50e3bbe51bbdff": {
          "model_module": "@jupyter-widgets/controls",
          "model_name": "ProgressStyleModel",
          "model_module_version": "1.5.0",
          "state": {
            "_model_module": "@jupyter-widgets/controls",
            "_model_module_version": "1.5.0",
            "_model_name": "ProgressStyleModel",
            "_view_count": null,
            "_view_module": "@jupyter-widgets/base",
            "_view_module_version": "1.2.0",
            "_view_name": "StyleView",
            "bar_color": null,
            "description_width": ""
          }
        },
        "42050b75b6b54539a0e0ff5a1c5586fb": {
          "model_module": "@jupyter-widgets/base",
          "model_name": "LayoutModel",
          "model_module_version": "1.2.0",
          "state": {
            "_model_module": "@jupyter-widgets/base",
            "_model_module_version": "1.2.0",
            "_model_name": "LayoutModel",
            "_view_count": null,
            "_view_module": "@jupyter-widgets/base",
            "_view_module_version": "1.2.0",
            "_view_name": "LayoutView",
            "align_content": null,
            "align_items": null,
            "align_self": null,
            "border": null,
            "bottom": null,
            "display": null,
            "flex": null,
            "flex_flow": null,
            "grid_area": null,
            "grid_auto_columns": null,
            "grid_auto_flow": null,
            "grid_auto_rows": null,
            "grid_column": null,
            "grid_gap": null,
            "grid_row": null,
            "grid_template_areas": null,
            "grid_template_columns": null,
            "grid_template_rows": null,
            "height": null,
            "justify_content": null,
            "justify_items": null,
            "left": null,
            "margin": null,
            "max_height": null,
            "max_width": null,
            "min_height": null,
            "min_width": null,
            "object_fit": null,
            "object_position": null,
            "order": null,
            "overflow": null,
            "overflow_x": null,
            "overflow_y": null,
            "padding": null,
            "right": null,
            "top": null,
            "visibility": null,
            "width": null
          }
        },
        "52cbac4a4c9c4d71b495b24fcdb8ece5": {
          "model_module": "@jupyter-widgets/controls",
          "model_name": "DescriptionStyleModel",
          "model_module_version": "1.5.0",
          "state": {
            "_model_module": "@jupyter-widgets/controls",
            "_model_module_version": "1.5.0",
            "_model_name": "DescriptionStyleModel",
            "_view_count": null,
            "_view_module": "@jupyter-widgets/base",
            "_view_module_version": "1.2.0",
            "_view_name": "StyleView",
            "description_width": ""
          }
        }
      }
    },
    "accelerator": "GPU"
  },
  "cells": [
    {
      "cell_type": "code",
      "source": [
        "# import os\n",
        "\n",
        "# # Set your paths\n",
        "# images_dir = '/content/drive/MyDrive/Colab Notebooks/license_data/images/train'  # change this to your actual path\n",
        "# labels_dir = '/content/drive/MyDrive/Colab Notebooks/license_data/labels/train'  # change this to your actual path\n",
        "\n",
        "# # List files\n",
        "# image_files = set(os.path.splitext(f)[0] for f in os.listdir(images_dir) if f.lower().endswith(('.jpg', '.jpeg', '.png')))\n",
        "# label_files = set(os.path.splitext(f)[0] for f in os.listdir(labels_dir) if f.lower().endswith('.txt'))\n",
        "\n",
        "# # Files that exist in only one of the sets\n",
        "# images_without_labels = image_files - label_files\n",
        "# labels_without_images = label_files - image_files\n",
        "\n",
        "# # Delete unmatched image files\n",
        "# for fname in images_without_labels:\n",
        "#     for ext in ['.jpg', '.jpeg', '.png']:\n",
        "#         path = os.path.join(images_dir, fname + ext)\n",
        "#         if os.path.exists(path):\n",
        "#             os.remove(path)\n",
        "#             print(f\"Deleted image: {path}\")\n",
        "\n",
        "# # Delete unmatched label files\n",
        "# for fname in labels_without_images:\n",
        "#     path = os.path.join(labels_dir, fname + '.txt')\n",
        "#     if os.path.exists(path):\n",
        "#         os.remove(path)\n",
        "#         print(f\"Deleted label: {path}\")\n"
      ],
      "metadata": {
        "id": "TidjZbcSxHW-"
      },
      "execution_count": null,
      "outputs": []
    },
    {
      "cell_type": "code",
      "source": [
        "import importlib.util\n",
        "if importlib.util.find_spec(\"ultralytics\") is None:\n",
        "    !pip install ultralytics\n",
        "\n",
        "!pip install easyocr\n",
        "!pip install paddleocr paddlepaddle"
      ],
      "metadata": {
        "colab": {
          "base_uri": "https://localhost:8080/"
        },
        "id": "n7Surl4-07M1",
        "outputId": "e2a3cda3-31c6-4ee8-f214-f57f2ea18ecc"
      },
      "execution_count": null,
      "outputs": [
        {
          "output_type": "stream",
          "name": "stdout",
          "text": [
            "Collecting ultralytics\n",
            "  Downloading ultralytics-8.3.179-py3-none-any.whl.metadata (37 kB)\n",
            "Requirement already satisfied: numpy>=1.23.0 in /usr/local/lib/python3.11/dist-packages (from ultralytics) (2.0.2)\n",
            "Requirement already satisfied: matplotlib>=3.3.0 in /usr/local/lib/python3.11/dist-packages (from ultralytics) (3.10.0)\n",
            "Requirement already satisfied: opencv-python>=4.6.0 in /usr/local/lib/python3.11/dist-packages (from ultralytics) (4.12.0.88)\n",
            "Requirement already satisfied: pillow>=7.1.2 in /usr/local/lib/python3.11/dist-packages (from ultralytics) (11.3.0)\n",
            "Requirement already satisfied: pyyaml>=5.3.1 in /usr/local/lib/python3.11/dist-packages (from ultralytics) (6.0.2)\n",
            "Requirement already satisfied: requests>=2.23.0 in /usr/local/lib/python3.11/dist-packages (from ultralytics) (2.32.3)\n",
            "Requirement already satisfied: scipy>=1.4.1 in /usr/local/lib/python3.11/dist-packages (from ultralytics) (1.16.1)\n",
            "Requirement already satisfied: torch>=1.8.0 in /usr/local/lib/python3.11/dist-packages (from ultralytics) (2.6.0+cu124)\n",
            "Requirement already satisfied: torchvision>=0.9.0 in /usr/local/lib/python3.11/dist-packages (from ultralytics) (0.21.0+cu124)\n",
            "Requirement already satisfied: tqdm>=4.64.0 in /usr/local/lib/python3.11/dist-packages (from ultralytics) (4.67.1)\n",
            "Requirement already satisfied: psutil in /usr/local/lib/python3.11/dist-packages (from ultralytics) (5.9.5)\n",
            "Requirement already satisfied: py-cpuinfo in /usr/local/lib/python3.11/dist-packages (from ultralytics) (9.0.0)\n",
            "Requirement already satisfied: pandas>=1.1.4 in /usr/local/lib/python3.11/dist-packages (from ultralytics) (2.2.2)\n",
            "Collecting ultralytics-thop>=2.0.0 (from ultralytics)\n",
            "  Downloading ultralytics_thop-2.0.15-py3-none-any.whl.metadata (14 kB)\n",
            "Requirement already satisfied: contourpy>=1.0.1 in /usr/local/lib/python3.11/dist-packages (from matplotlib>=3.3.0->ultralytics) (1.3.3)\n",
            "Requirement already satisfied: cycler>=0.10 in /usr/local/lib/python3.11/dist-packages (from matplotlib>=3.3.0->ultralytics) (0.12.1)\n",
            "Requirement already satisfied: fonttools>=4.22.0 in /usr/local/lib/python3.11/dist-packages (from matplotlib>=3.3.0->ultralytics) (4.59.0)\n",
            "Requirement already satisfied: kiwisolver>=1.3.1 in /usr/local/lib/python3.11/dist-packages (from matplotlib>=3.3.0->ultralytics) (1.4.9)\n",
            "Requirement already satisfied: packaging>=20.0 in /usr/local/lib/python3.11/dist-packages (from matplotlib>=3.3.0->ultralytics) (25.0)\n",
            "Requirement already satisfied: pyparsing>=2.3.1 in /usr/local/lib/python3.11/dist-packages (from matplotlib>=3.3.0->ultralytics) (3.2.3)\n",
            "Requirement already satisfied: python-dateutil>=2.7 in /usr/local/lib/python3.11/dist-packages (from matplotlib>=3.3.0->ultralytics) (2.9.0.post0)\n",
            "Requirement already satisfied: pytz>=2020.1 in /usr/local/lib/python3.11/dist-packages (from pandas>=1.1.4->ultralytics) (2025.2)\n",
            "Requirement already satisfied: tzdata>=2022.7 in /usr/local/lib/python3.11/dist-packages (from pandas>=1.1.4->ultralytics) (2025.2)\n",
            "Requirement already satisfied: charset-normalizer<4,>=2 in /usr/local/lib/python3.11/dist-packages (from requests>=2.23.0->ultralytics) (3.4.3)\n",
            "Requirement already satisfied: idna<4,>=2.5 in /usr/local/lib/python3.11/dist-packages (from requests>=2.23.0->ultralytics) (3.10)\n",
            "Requirement already satisfied: urllib3<3,>=1.21.1 in /usr/local/lib/python3.11/dist-packages (from requests>=2.23.0->ultralytics) (2.5.0)\n",
            "Requirement already satisfied: certifi>=2017.4.17 in /usr/local/lib/python3.11/dist-packages (from requests>=2.23.0->ultralytics) (2025.8.3)\n",
            "Requirement already satisfied: filelock in /usr/local/lib/python3.11/dist-packages (from torch>=1.8.0->ultralytics) (3.18.0)\n",
            "Requirement already satisfied: typing-extensions>=4.10.0 in /usr/local/lib/python3.11/dist-packages (from torch>=1.8.0->ultralytics) (4.14.1)\n",
            "Requirement already satisfied: networkx in /usr/local/lib/python3.11/dist-packages (from torch>=1.8.0->ultralytics) (3.5)\n",
            "Requirement already satisfied: jinja2 in /usr/local/lib/python3.11/dist-packages (from torch>=1.8.0->ultralytics) (3.1.6)\n",
            "Requirement already satisfied: fsspec in /usr/local/lib/python3.11/dist-packages (from torch>=1.8.0->ultralytics) (2025.3.0)\n",
            "Collecting nvidia-cuda-nvrtc-cu12==12.4.127 (from torch>=1.8.0->ultralytics)\n",
            "  Downloading nvidia_cuda_nvrtc_cu12-12.4.127-py3-none-manylinux2014_x86_64.whl.metadata (1.5 kB)\n",
            "Collecting nvidia-cuda-runtime-cu12==12.4.127 (from torch>=1.8.0->ultralytics)\n",
            "  Downloading nvidia_cuda_runtime_cu12-12.4.127-py3-none-manylinux2014_x86_64.whl.metadata (1.5 kB)\n",
            "Collecting nvidia-cuda-cupti-cu12==12.4.127 (from torch>=1.8.0->ultralytics)\n",
            "  Downloading nvidia_cuda_cupti_cu12-12.4.127-py3-none-manylinux2014_x86_64.whl.metadata (1.6 kB)\n",
            "Collecting nvidia-cudnn-cu12==9.1.0.70 (from torch>=1.8.0->ultralytics)\n",
            "  Downloading nvidia_cudnn_cu12-9.1.0.70-py3-none-manylinux2014_x86_64.whl.metadata (1.6 kB)\n",
            "Collecting nvidia-cublas-cu12==12.4.5.8 (from torch>=1.8.0->ultralytics)\n",
            "  Downloading nvidia_cublas_cu12-12.4.5.8-py3-none-manylinux2014_x86_64.whl.metadata (1.5 kB)\n",
            "Collecting nvidia-cufft-cu12==11.2.1.3 (from torch>=1.8.0->ultralytics)\n",
            "  Downloading nvidia_cufft_cu12-11.2.1.3-py3-none-manylinux2014_x86_64.whl.metadata (1.5 kB)\n",
            "Collecting nvidia-curand-cu12==10.3.5.147 (from torch>=1.8.0->ultralytics)\n",
            "  Downloading nvidia_curand_cu12-10.3.5.147-py3-none-manylinux2014_x86_64.whl.metadata (1.5 kB)\n",
            "Collecting nvidia-cusolver-cu12==11.6.1.9 (from torch>=1.8.0->ultralytics)\n",
            "  Downloading nvidia_cusolver_cu12-11.6.1.9-py3-none-manylinux2014_x86_64.whl.metadata (1.6 kB)\n",
            "Collecting nvidia-cusparse-cu12==12.3.1.170 (from torch>=1.8.0->ultralytics)\n",
            "  Downloading nvidia_cusparse_cu12-12.3.1.170-py3-none-manylinux2014_x86_64.whl.metadata (1.6 kB)\n",
            "Requirement already satisfied: nvidia-cusparselt-cu12==0.6.2 in /usr/local/lib/python3.11/dist-packages (from torch>=1.8.0->ultralytics) (0.6.2)\n",
            "Collecting nvidia-nccl-cu12==2.21.5 (from torch>=1.8.0->ultralytics)\n",
            "  Downloading nvidia_nccl_cu12-2.21.5-py3-none-manylinux2014_x86_64.whl.metadata (1.8 kB)\n",
            "Requirement already satisfied: nvidia-nvtx-cu12==12.4.127 in /usr/local/lib/python3.11/dist-packages (from torch>=1.8.0->ultralytics) (12.4.127)\n",
            "Collecting nvidia-nvjitlink-cu12==12.4.127 (from torch>=1.8.0->ultralytics)\n",
            "  Downloading nvidia_nvjitlink_cu12-12.4.127-py3-none-manylinux2014_x86_64.whl.metadata (1.5 kB)\n",
            "Requirement already satisfied: triton==3.2.0 in /usr/local/lib/python3.11/dist-packages (from torch>=1.8.0->ultralytics) (3.2.0)\n",
            "Requirement already satisfied: sympy==1.13.1 in /usr/local/lib/python3.11/dist-packages (from torch>=1.8.0->ultralytics) (1.13.1)\n",
            "Requirement already satisfied: mpmath<1.4,>=1.1.0 in /usr/local/lib/python3.11/dist-packages (from sympy==1.13.1->torch>=1.8.0->ultralytics) (1.3.0)\n",
            "Requirement already satisfied: six>=1.5 in /usr/local/lib/python3.11/dist-packages (from python-dateutil>=2.7->matplotlib>=3.3.0->ultralytics) (1.17.0)\n",
            "Requirement already satisfied: MarkupSafe>=2.0 in /usr/local/lib/python3.11/dist-packages (from jinja2->torch>=1.8.0->ultralytics) (3.0.2)\n",
            "Downloading ultralytics-8.3.179-py3-none-any.whl (1.0 MB)\n",
            "\u001b[2K   \u001b[90m━━━━━━━━━━━━━━━━━━━━━━━━━━━━━━━━━━━━━━━━\u001b[0m \u001b[32m1.0/1.0 MB\u001b[0m \u001b[31m27.5 MB/s\u001b[0m eta \u001b[36m0:00:00\u001b[0m\n",
            "\u001b[?25hDownloading nvidia_cublas_cu12-12.4.5.8-py3-none-manylinux2014_x86_64.whl (363.4 MB)\n",
            "\u001b[2K   \u001b[90m━━━━━━━━━━━━━━━━━━━━━━━━━━━━━━━━━━━━━━━━\u001b[0m \u001b[32m363.4/363.4 MB\u001b[0m \u001b[31m3.9 MB/s\u001b[0m eta \u001b[36m0:00:00\u001b[0m\n",
            "\u001b[?25hDownloading nvidia_cuda_cupti_cu12-12.4.127-py3-none-manylinux2014_x86_64.whl (13.8 MB)\n",
            "\u001b[2K   \u001b[90m━━━━━━━━━━━━━━━━━━━━━━━━━━━━━━━━━━━━━━━━\u001b[0m \u001b[32m13.8/13.8 MB\u001b[0m \u001b[31m122.4 MB/s\u001b[0m eta \u001b[36m0:00:00\u001b[0m\n",
            "\u001b[?25hDownloading nvidia_cuda_nvrtc_cu12-12.4.127-py3-none-manylinux2014_x86_64.whl (24.6 MB)\n",
            "\u001b[2K   \u001b[90m━━━━━━━━━━━━━━━━━━━━━━━━━━━━━━━━━━━━━━━━\u001b[0m \u001b[32m24.6/24.6 MB\u001b[0m \u001b[31m92.0 MB/s\u001b[0m eta \u001b[36m0:00:00\u001b[0m\n",
            "\u001b[?25hDownloading nvidia_cuda_runtime_cu12-12.4.127-py3-none-manylinux2014_x86_64.whl (883 kB)\n",
            "\u001b[2K   \u001b[90m━━━━━━━━━━━━━━━━━━━━━━━━━━━━━━━━━━━━━━━━\u001b[0m \u001b[32m883.7/883.7 kB\u001b[0m \u001b[31m62.0 MB/s\u001b[0m eta \u001b[36m0:00:00\u001b[0m\n",
            "\u001b[?25hDownloading nvidia_cudnn_cu12-9.1.0.70-py3-none-manylinux2014_x86_64.whl (664.8 MB)\n",
            "\u001b[2K   \u001b[90m━━━━━━━━━━━━━━━━━━━━━━━━━━━━━━━━━━━━━━━━\u001b[0m \u001b[32m664.8/664.8 MB\u001b[0m \u001b[31m2.1 MB/s\u001b[0m eta \u001b[36m0:00:00\u001b[0m\n",
            "\u001b[?25hDownloading nvidia_cufft_cu12-11.2.1.3-py3-none-manylinux2014_x86_64.whl (211.5 MB)\n",
            "\u001b[2K   \u001b[90m━━━━━━━━━━━━━━━━━━━━━━━━━━━━━━━━━━━━━━━━\u001b[0m \u001b[32m211.5/211.5 MB\u001b[0m \u001b[31m6.1 MB/s\u001b[0m eta \u001b[36m0:00:00\u001b[0m\n",
            "\u001b[?25hDownloading nvidia_curand_cu12-10.3.5.147-py3-none-manylinux2014_x86_64.whl (56.3 MB)\n",
            "\u001b[2K   \u001b[90m━━━━━━━━━━━━━━━━━━━━━━━━━━━━━━━━━━━━━━━━\u001b[0m \u001b[32m56.3/56.3 MB\u001b[0m \u001b[31m12.8 MB/s\u001b[0m eta \u001b[36m0:00:00\u001b[0m\n",
            "\u001b[?25hDownloading nvidia_cusolver_cu12-11.6.1.9-py3-none-manylinux2014_x86_64.whl (127.9 MB)\n",
            "\u001b[2K   \u001b[90m━━━━━━━━━━━━━━━━━━━━━━━━━━━━━━━━━━━━━━━━\u001b[0m \u001b[32m127.9/127.9 MB\u001b[0m \u001b[31m7.5 MB/s\u001b[0m eta \u001b[36m0:00:00\u001b[0m\n",
            "\u001b[?25hDownloading nvidia_cusparse_cu12-12.3.1.170-py3-none-manylinux2014_x86_64.whl (207.5 MB)\n",
            "\u001b[2K   \u001b[90m━━━━━━━━━━━━━━━━━━━━━━━━━━━━━━━━━━━━━━━━\u001b[0m \u001b[32m207.5/207.5 MB\u001b[0m \u001b[31m5.5 MB/s\u001b[0m eta \u001b[36m0:00:00\u001b[0m\n",
            "\u001b[?25hDownloading nvidia_nccl_cu12-2.21.5-py3-none-manylinux2014_x86_64.whl (188.7 MB)\n",
            "\u001b[2K   \u001b[90m━━━━━━━━━━━━━━━━━━━━━━━━━━━━━━━━━━━━━━━━\u001b[0m \u001b[32m188.7/188.7 MB\u001b[0m \u001b[31m6.4 MB/s\u001b[0m eta \u001b[36m0:00:00\u001b[0m\n",
            "\u001b[?25hDownloading nvidia_nvjitlink_cu12-12.4.127-py3-none-manylinux2014_x86_64.whl (21.1 MB)\n",
            "\u001b[2K   \u001b[90m━━━━━━━━━━━━━━━━━━━━━━━━━━━━━━━━━━━━━━━━\u001b[0m \u001b[32m21.1/21.1 MB\u001b[0m \u001b[31m86.5 MB/s\u001b[0m eta \u001b[36m0:00:00\u001b[0m\n",
            "\u001b[?25hDownloading ultralytics_thop-2.0.15-py3-none-any.whl (28 kB)\n",
            "Installing collected packages: nvidia-nvjitlink-cu12, nvidia-nccl-cu12, nvidia-curand-cu12, nvidia-cufft-cu12, nvidia-cuda-runtime-cu12, nvidia-cuda-nvrtc-cu12, nvidia-cuda-cupti-cu12, nvidia-cublas-cu12, nvidia-cusparse-cu12, nvidia-cudnn-cu12, nvidia-cusolver-cu12, ultralytics-thop, ultralytics\n",
            "  Attempting uninstall: nvidia-nvjitlink-cu12\n",
            "    Found existing installation: nvidia-nvjitlink-cu12 12.5.82\n",
            "    Uninstalling nvidia-nvjitlink-cu12-12.5.82:\n",
            "      Successfully uninstalled nvidia-nvjitlink-cu12-12.5.82\n",
            "  Attempting uninstall: nvidia-nccl-cu12\n",
            "    Found existing installation: nvidia-nccl-cu12 2.23.4\n",
            "    Uninstalling nvidia-nccl-cu12-2.23.4:\n",
            "      Successfully uninstalled nvidia-nccl-cu12-2.23.4\n",
            "  Attempting uninstall: nvidia-curand-cu12\n",
            "    Found existing installation: nvidia-curand-cu12 10.3.6.82\n",
            "    Uninstalling nvidia-curand-cu12-10.3.6.82:\n",
            "      Successfully uninstalled nvidia-curand-cu12-10.3.6.82\n",
            "  Attempting uninstall: nvidia-cufft-cu12\n",
            "    Found existing installation: nvidia-cufft-cu12 11.2.3.61\n",
            "    Uninstalling nvidia-cufft-cu12-11.2.3.61:\n",
            "      Successfully uninstalled nvidia-cufft-cu12-11.2.3.61\n",
            "  Attempting uninstall: nvidia-cuda-runtime-cu12\n",
            "    Found existing installation: nvidia-cuda-runtime-cu12 12.5.82\n",
            "    Uninstalling nvidia-cuda-runtime-cu12-12.5.82:\n",
            "      Successfully uninstalled nvidia-cuda-runtime-cu12-12.5.82\n",
            "  Attempting uninstall: nvidia-cuda-nvrtc-cu12\n",
            "    Found existing installation: nvidia-cuda-nvrtc-cu12 12.5.82\n",
            "    Uninstalling nvidia-cuda-nvrtc-cu12-12.5.82:\n",
            "      Successfully uninstalled nvidia-cuda-nvrtc-cu12-12.5.82\n",
            "  Attempting uninstall: nvidia-cuda-cupti-cu12\n",
            "    Found existing installation: nvidia-cuda-cupti-cu12 12.5.82\n",
            "    Uninstalling nvidia-cuda-cupti-cu12-12.5.82:\n",
            "      Successfully uninstalled nvidia-cuda-cupti-cu12-12.5.82\n",
            "  Attempting uninstall: nvidia-cublas-cu12\n",
            "    Found existing installation: nvidia-cublas-cu12 12.5.3.2\n",
            "    Uninstalling nvidia-cublas-cu12-12.5.3.2:\n",
            "      Successfully uninstalled nvidia-cublas-cu12-12.5.3.2\n",
            "  Attempting uninstall: nvidia-cusparse-cu12\n",
            "    Found existing installation: nvidia-cusparse-cu12 12.5.1.3\n",
            "    Uninstalling nvidia-cusparse-cu12-12.5.1.3:\n",
            "      Successfully uninstalled nvidia-cusparse-cu12-12.5.1.3\n",
            "  Attempting uninstall: nvidia-cudnn-cu12\n",
            "    Found existing installation: nvidia-cudnn-cu12 9.3.0.75\n",
            "    Uninstalling nvidia-cudnn-cu12-9.3.0.75:\n",
            "      Successfully uninstalled nvidia-cudnn-cu12-9.3.0.75\n",
            "  Attempting uninstall: nvidia-cusolver-cu12\n",
            "    Found existing installation: nvidia-cusolver-cu12 11.6.3.83\n",
            "    Uninstalling nvidia-cusolver-cu12-11.6.3.83:\n",
            "      Successfully uninstalled nvidia-cusolver-cu12-11.6.3.83\n",
            "Successfully installed nvidia-cublas-cu12-12.4.5.8 nvidia-cuda-cupti-cu12-12.4.127 nvidia-cuda-nvrtc-cu12-12.4.127 nvidia-cuda-runtime-cu12-12.4.127 nvidia-cudnn-cu12-9.1.0.70 nvidia-cufft-cu12-11.2.1.3 nvidia-curand-cu12-10.3.5.147 nvidia-cusolver-cu12-11.6.1.9 nvidia-cusparse-cu12-12.3.1.170 nvidia-nccl-cu12-2.21.5 nvidia-nvjitlink-cu12-12.4.127 ultralytics-8.3.179 ultralytics-thop-2.0.15\n",
            "Collecting easyocr\n",
            "  Downloading easyocr-1.7.2-py3-none-any.whl.metadata (10 kB)\n",
            "Requirement already satisfied: torch in /usr/local/lib/python3.11/dist-packages (from easyocr) (2.6.0+cu124)\n",
            "Requirement already satisfied: torchvision>=0.5 in /usr/local/lib/python3.11/dist-packages (from easyocr) (0.21.0+cu124)\n",
            "Requirement already satisfied: opencv-python-headless in /usr/local/lib/python3.11/dist-packages (from easyocr) (4.12.0.88)\n",
            "Requirement already satisfied: scipy in /usr/local/lib/python3.11/dist-packages (from easyocr) (1.16.1)\n",
            "Requirement already satisfied: numpy in /usr/local/lib/python3.11/dist-packages (from easyocr) (2.0.2)\n",
            "Requirement already satisfied: Pillow in /usr/local/lib/python3.11/dist-packages (from easyocr) (11.3.0)\n",
            "Requirement already satisfied: scikit-image in /usr/local/lib/python3.11/dist-packages (from easyocr) (0.25.2)\n",
            "Collecting python-bidi (from easyocr)\n",
            "  Downloading python_bidi-0.6.6-cp311-cp311-manylinux_2_17_x86_64.manylinux2014_x86_64.whl.metadata (4.9 kB)\n",
            "Requirement already satisfied: PyYAML in /usr/local/lib/python3.11/dist-packages (from easyocr) (6.0.2)\n",
            "Requirement already satisfied: Shapely in /usr/local/lib/python3.11/dist-packages (from easyocr) (2.1.1)\n",
            "Collecting pyclipper (from easyocr)\n",
            "  Downloading pyclipper-1.3.0.post6-cp311-cp311-manylinux_2_17_x86_64.manylinux2014_x86_64.whl.metadata (9.0 kB)\n",
            "Collecting ninja (from easyocr)\n",
            "  Downloading ninja-1.13.0-py3-none-manylinux2014_x86_64.manylinux_2_17_x86_64.whl.metadata (5.1 kB)\n",
            "Requirement already satisfied: filelock in /usr/local/lib/python3.11/dist-packages (from torch->easyocr) (3.18.0)\n",
            "Requirement already satisfied: typing-extensions>=4.10.0 in /usr/local/lib/python3.11/dist-packages (from torch->easyocr) (4.14.1)\n",
            "Requirement already satisfied: networkx in /usr/local/lib/python3.11/dist-packages (from torch->easyocr) (3.5)\n",
            "Requirement already satisfied: jinja2 in /usr/local/lib/python3.11/dist-packages (from torch->easyocr) (3.1.6)\n",
            "Requirement already satisfied: fsspec in /usr/local/lib/python3.11/dist-packages (from torch->easyocr) (2025.3.0)\n",
            "Requirement already satisfied: nvidia-cuda-nvrtc-cu12==12.4.127 in /usr/local/lib/python3.11/dist-packages (from torch->easyocr) (12.4.127)\n",
            "Requirement already satisfied: nvidia-cuda-runtime-cu12==12.4.127 in /usr/local/lib/python3.11/dist-packages (from torch->easyocr) (12.4.127)\n",
            "Requirement already satisfied: nvidia-cuda-cupti-cu12==12.4.127 in /usr/local/lib/python3.11/dist-packages (from torch->easyocr) (12.4.127)\n",
            "Requirement already satisfied: nvidia-cudnn-cu12==9.1.0.70 in /usr/local/lib/python3.11/dist-packages (from torch->easyocr) (9.1.0.70)\n",
            "Requirement already satisfied: nvidia-cublas-cu12==12.4.5.8 in /usr/local/lib/python3.11/dist-packages (from torch->easyocr) (12.4.5.8)\n",
            "Requirement already satisfied: nvidia-cufft-cu12==11.2.1.3 in /usr/local/lib/python3.11/dist-packages (from torch->easyocr) (11.2.1.3)\n",
            "Requirement already satisfied: nvidia-curand-cu12==10.3.5.147 in /usr/local/lib/python3.11/dist-packages (from torch->easyocr) (10.3.5.147)\n",
            "Requirement already satisfied: nvidia-cusolver-cu12==11.6.1.9 in /usr/local/lib/python3.11/dist-packages (from torch->easyocr) (11.6.1.9)\n",
            "Requirement already satisfied: nvidia-cusparse-cu12==12.3.1.170 in /usr/local/lib/python3.11/dist-packages (from torch->easyocr) (12.3.1.170)\n",
            "Requirement already satisfied: nvidia-cusparselt-cu12==0.6.2 in /usr/local/lib/python3.11/dist-packages (from torch->easyocr) (0.6.2)\n",
            "Requirement already satisfied: nvidia-nccl-cu12==2.21.5 in /usr/local/lib/python3.11/dist-packages (from torch->easyocr) (2.21.5)\n",
            "Requirement already satisfied: nvidia-nvtx-cu12==12.4.127 in /usr/local/lib/python3.11/dist-packages (from torch->easyocr) (12.4.127)\n",
            "Requirement already satisfied: nvidia-nvjitlink-cu12==12.4.127 in /usr/local/lib/python3.11/dist-packages (from torch->easyocr) (12.4.127)\n",
            "Requirement already satisfied: triton==3.2.0 in /usr/local/lib/python3.11/dist-packages (from torch->easyocr) (3.2.0)\n",
            "Requirement already satisfied: sympy==1.13.1 in /usr/local/lib/python3.11/dist-packages (from torch->easyocr) (1.13.1)\n",
            "Requirement already satisfied: mpmath<1.4,>=1.1.0 in /usr/local/lib/python3.11/dist-packages (from sympy==1.13.1->torch->easyocr) (1.3.0)\n",
            "Requirement already satisfied: imageio!=2.35.0,>=2.33 in /usr/local/lib/python3.11/dist-packages (from scikit-image->easyocr) (2.37.0)\n",
            "Requirement already satisfied: tifffile>=2022.8.12 in /usr/local/lib/python3.11/dist-packages (from scikit-image->easyocr) (2025.6.11)\n",
            "Requirement already satisfied: packaging>=21 in /usr/local/lib/python3.11/dist-packages (from scikit-image->easyocr) (25.0)\n",
            "Requirement already satisfied: lazy-loader>=0.4 in /usr/local/lib/python3.11/dist-packages (from scikit-image->easyocr) (0.4)\n",
            "Requirement already satisfied: MarkupSafe>=2.0 in /usr/local/lib/python3.11/dist-packages (from jinja2->torch->easyocr) (3.0.2)\n",
            "Downloading easyocr-1.7.2-py3-none-any.whl (2.9 MB)\n",
            "\u001b[2K   \u001b[90m━━━━━━━━━━━━━━━━━━━━━━━━━━━━━━━━━━━━━━━━\u001b[0m \u001b[32m2.9/2.9 MB\u001b[0m \u001b[31m49.9 MB/s\u001b[0m eta \u001b[36m0:00:00\u001b[0m\n",
            "\u001b[?25hDownloading ninja-1.13.0-py3-none-manylinux2014_x86_64.manylinux_2_17_x86_64.whl (180 kB)\n",
            "\u001b[2K   \u001b[90m━━━━━━━━━━━━━━━━━━━━━━━━━━━━━━━━━━━━━━━━\u001b[0m \u001b[32m180.7/180.7 kB\u001b[0m \u001b[31m18.3 MB/s\u001b[0m eta \u001b[36m0:00:00\u001b[0m\n",
            "\u001b[?25hDownloading pyclipper-1.3.0.post6-cp311-cp311-manylinux_2_17_x86_64.manylinux2014_x86_64.whl (969 kB)\n",
            "\u001b[2K   \u001b[90m━━━━━━━━━━━━━━━━━━━━━━━━━━━━━━━━━━━━━━━━\u001b[0m \u001b[32m969.6/969.6 kB\u001b[0m \u001b[31m65.3 MB/s\u001b[0m eta \u001b[36m0:00:00\u001b[0m\n",
            "\u001b[?25hDownloading python_bidi-0.6.6-cp311-cp311-manylinux_2_17_x86_64.manylinux2014_x86_64.whl (292 kB)\n",
            "\u001b[2K   \u001b[90m━━━━━━━━━━━━━━━━━━━━━━━━━━━━━━━━━━━━━━━━\u001b[0m \u001b[32m292.9/292.9 kB\u001b[0m \u001b[31m1.3 MB/s\u001b[0m eta \u001b[36m0:00:00\u001b[0m\n",
            "\u001b[?25hInstalling collected packages: python-bidi, pyclipper, ninja, easyocr\n",
            "Successfully installed easyocr-1.7.2 ninja-1.13.0 pyclipper-1.3.0.post6 python-bidi-0.6.6\n",
            "Collecting paddleocr\n",
            "  Downloading paddleocr-3.1.1-py3-none-any.whl.metadata (22 kB)\n",
            "Collecting paddlepaddle\n",
            "  Downloading paddlepaddle-3.1.0-cp311-cp311-manylinux1_x86_64.whl.metadata (8.8 kB)\n",
            "Collecting paddlex>=3.1.0 (from paddlex[ie,multimodal,ocr,trans]>=3.1.0->paddleocr)\n",
            "  Downloading paddlex-3.1.4-py3-none-any.whl.metadata (78 kB)\n",
            "\u001b[2K     \u001b[90m━━━━━━━━━━━━━━━━━━━━━━━━━━━━━━━━━━━━━━━━\u001b[0m \u001b[32m78.2/78.2 kB\u001b[0m \u001b[31m4.9 MB/s\u001b[0m eta \u001b[36m0:00:00\u001b[0m\n",
            "\u001b[?25hRequirement already satisfied: PyYAML>=6 in /usr/local/lib/python3.11/dist-packages (from paddleocr) (6.0.2)\n",
            "Requirement already satisfied: typing-extensions>=4.12 in /usr/local/lib/python3.11/dist-packages (from paddleocr) (4.14.1)\n",
            "Requirement already satisfied: httpx in /usr/local/lib/python3.11/dist-packages (from paddlepaddle) (0.28.1)\n",
            "Requirement already satisfied: numpy>=1.21 in /usr/local/lib/python3.11/dist-packages (from paddlepaddle) (2.0.2)\n",
            "Requirement already satisfied: protobuf>=3.20.2 in /usr/local/lib/python3.11/dist-packages (from paddlepaddle) (5.29.5)\n",
            "Requirement already satisfied: Pillow in /usr/local/lib/python3.11/dist-packages (from paddlepaddle) (11.3.0)\n",
            "Requirement already satisfied: decorator in /usr/local/lib/python3.11/dist-packages (from paddlepaddle) (4.4.2)\n",
            "Collecting opt_einsum==3.3.0 (from paddlepaddle)\n",
            "  Downloading opt_einsum-3.3.0-py3-none-any.whl.metadata (6.5 kB)\n",
            "Requirement already satisfied: networkx in /usr/local/lib/python3.11/dist-packages (from paddlepaddle) (3.5)\n",
            "Requirement already satisfied: chardet in /usr/local/lib/python3.11/dist-packages (from paddlex>=3.1.0->paddlex[ie,multimodal,ocr,trans]>=3.1.0->paddleocr) (5.2.0)\n",
            "Collecting colorlog (from paddlex>=3.1.0->paddlex[ie,multimodal,ocr,trans]>=3.1.0->paddleocr)\n",
            "  Downloading colorlog-6.9.0-py3-none-any.whl.metadata (10 kB)\n",
            "Requirement already satisfied: filelock in /usr/local/lib/python3.11/dist-packages (from paddlex>=3.1.0->paddlex[ie,multimodal,ocr,trans]>=3.1.0->paddleocr) (3.18.0)\n",
            "Requirement already satisfied: huggingface_hub in /usr/local/lib/python3.11/dist-packages (from paddlex>=3.1.0->paddlex[ie,multimodal,ocr,trans]>=3.1.0->paddleocr) (0.34.4)\n",
            "Requirement already satisfied: packaging in /usr/local/lib/python3.11/dist-packages (from paddlex>=3.1.0->paddlex[ie,multimodal,ocr,trans]>=3.1.0->paddleocr) (25.0)\n",
            "Requirement already satisfied: pandas>=1.3 in /usr/local/lib/python3.11/dist-packages (from paddlex>=3.1.0->paddlex[ie,multimodal,ocr,trans]>=3.1.0->paddleocr) (2.2.2)\n",
            "Requirement already satisfied: prettytable in /usr/local/lib/python3.11/dist-packages (from paddlex>=3.1.0->paddlex[ie,multimodal,ocr,trans]>=3.1.0->paddleocr) (3.16.0)\n",
            "Requirement already satisfied: py-cpuinfo in /usr/local/lib/python3.11/dist-packages (from paddlex>=3.1.0->paddlex[ie,multimodal,ocr,trans]>=3.1.0->paddleocr) (9.0.0)\n",
            "Requirement already satisfied: pydantic>=2 in /usr/local/lib/python3.11/dist-packages (from paddlex>=3.1.0->paddlex[ie,multimodal,ocr,trans]>=3.1.0->paddleocr) (2.11.7)\n",
            "Requirement already satisfied: requests in /usr/local/lib/python3.11/dist-packages (from paddlex>=3.1.0->paddlex[ie,multimodal,ocr,trans]>=3.1.0->paddleocr) (2.32.3)\n",
            "Collecting ruamel.yaml (from paddlex>=3.1.0->paddlex[ie,multimodal,ocr,trans]>=3.1.0->paddleocr)\n",
            "  Downloading ruamel.yaml-0.18.14-py3-none-any.whl.metadata (24 kB)\n",
            "Collecting ujson (from paddlex>=3.1.0->paddlex[ie,multimodal,ocr,trans]>=3.1.0->paddleocr)\n",
            "  Downloading ujson-5.10.0-cp311-cp311-manylinux_2_17_x86_64.manylinux2014_x86_64.whl.metadata (9.3 kB)\n",
            "Requirement already satisfied: einops in /usr/local/lib/python3.11/dist-packages (from paddlex[ie,multimodal,ocr,trans]>=3.1.0->paddleocr) (0.8.1)\n",
            "Collecting ftfy (from paddlex[ie,multimodal,ocr,trans]>=3.1.0->paddleocr)\n",
            "  Downloading ftfy-6.3.1-py3-none-any.whl.metadata (7.3 kB)\n",
            "Collecting GPUtil>=1.4 (from paddlex[ie,multimodal,ocr,trans]>=3.1.0->paddleocr)\n",
            "  Downloading GPUtil-1.4.0.tar.gz (5.5 kB)\n",
            "  Preparing metadata (setup.py) ... \u001b[?25l\u001b[?25hdone\n",
            "Requirement already satisfied: Jinja2 in /usr/local/lib/python3.11/dist-packages (from paddlex[ie,multimodal,ocr,trans]>=3.1.0->paddleocr) (3.1.6)\n",
            "Collecting opencv-contrib-python==4.10.0.84 (from paddlex[ie,multimodal,ocr,trans]>=3.1.0->paddleocr)\n",
            "  Downloading opencv_contrib_python-4.10.0.84-cp37-abi3-manylinux_2_17_x86_64.manylinux2014_x86_64.whl.metadata (20 kB)\n",
            "Collecting pypdfium2>=4 (from paddlex[ie,multimodal,ocr,trans]>=3.1.0->paddleocr)\n",
            "  Downloading pypdfium2-4.30.0-py3-none-manylinux_2_17_x86_64.manylinux2014_x86_64.whl.metadata (48 kB)\n",
            "\u001b[2K     \u001b[90m━━━━━━━━━━━━━━━━━━━━━━━━━━━━━━━━━━━━━━━━\u001b[0m \u001b[32m48.5/48.5 kB\u001b[0m \u001b[31m4.6 MB/s\u001b[0m eta \u001b[36m0:00:00\u001b[0m\n",
            "\u001b[?25hRequirement already satisfied: regex in /usr/local/lib/python3.11/dist-packages (from paddlex[ie,multimodal,ocr,trans]>=3.1.0->paddleocr) (2024.11.6)\n",
            "Requirement already satisfied: tiktoken in /usr/local/lib/python3.11/dist-packages (from paddlex[ie,multimodal,ocr,trans]>=3.1.0->paddleocr) (0.11.0)\n",
            "Requirement already satisfied: imagesize in /usr/local/lib/python3.11/dist-packages (from paddlex[ie,multimodal,ocr,trans]>=3.1.0->paddleocr) (1.4.1)\n",
            "Requirement already satisfied: langchain>=0.2 in /usr/local/lib/python3.11/dist-packages (from paddlex[ie,multimodal,ocr,trans]>=3.1.0->paddleocr) (0.3.27)\n",
            "Collecting langchain-community>=0.2 (from paddlex[ie,multimodal,ocr,trans]>=3.1.0->paddleocr)\n",
            "  Downloading langchain_community-0.3.27-py3-none-any.whl.metadata (2.9 kB)\n",
            "Requirement already satisfied: langchain-core in /usr/local/lib/python3.11/dist-packages (from paddlex[ie,multimodal,ocr,trans]>=3.1.0->paddleocr) (0.3.74)\n",
            "Collecting langchain-openai>=0.1 (from paddlex[ie,multimodal,ocr,trans]>=3.1.0->paddleocr)\n",
            "  Downloading langchain_openai-0.3.30-py3-none-any.whl.metadata (2.4 kB)\n",
            "Requirement already satisfied: lxml in /usr/local/lib/python3.11/dist-packages (from paddlex[ie,multimodal,ocr,trans]>=3.1.0->paddleocr) (5.4.0)\n",
            "Requirement already satisfied: openai>=1.63 in /usr/local/lib/python3.11/dist-packages (from paddlex[ie,multimodal,ocr,trans]>=3.1.0->paddleocr) (1.99.9)\n",
            "Requirement already satisfied: openpyxl in /usr/local/lib/python3.11/dist-packages (from paddlex[ie,multimodal,ocr,trans]>=3.1.0->paddleocr) (3.1.5)\n",
            "Collecting premailer (from paddlex[ie,multimodal,ocr,trans]>=3.1.0->paddleocr)\n",
            "  Downloading premailer-3.10.0-py2.py3-none-any.whl.metadata (15 kB)\n",
            "Requirement already satisfied: pyclipper in /usr/local/lib/python3.11/dist-packages (from paddlex[ie,multimodal,ocr,trans]>=3.1.0->paddleocr) (1.3.0.post6)\n",
            "Requirement already satisfied: scikit-learn in /usr/local/lib/python3.11/dist-packages (from paddlex[ie,multimodal,ocr,trans]>=3.1.0->paddleocr) (1.6.1)\n",
            "Requirement already satisfied: shapely in /usr/local/lib/python3.11/dist-packages (from paddlex[ie,multimodal,ocr,trans]>=3.1.0->paddleocr) (2.1.1)\n",
            "Requirement already satisfied: tokenizers>=0.19 in /usr/local/lib/python3.11/dist-packages (from paddlex[ie,multimodal,ocr,trans]>=3.1.0->paddleocr) (0.21.4)\n",
            "Requirement already satisfied: beautifulsoup4 in /usr/local/lib/python3.11/dist-packages (from paddlex[ie,multimodal,ocr,trans]>=3.1.0->paddleocr) (4.13.4)\n",
            "Requirement already satisfied: anyio in /usr/local/lib/python3.11/dist-packages (from httpx->paddlepaddle) (4.10.0)\n",
            "Requirement already satisfied: certifi in /usr/local/lib/python3.11/dist-packages (from httpx->paddlepaddle) (2025.8.3)\n",
            "Requirement already satisfied: httpcore==1.* in /usr/local/lib/python3.11/dist-packages (from httpx->paddlepaddle) (1.0.9)\n",
            "Requirement already satisfied: idna in /usr/local/lib/python3.11/dist-packages (from httpx->paddlepaddle) (3.10)\n",
            "Requirement already satisfied: h11>=0.16 in /usr/local/lib/python3.11/dist-packages (from httpcore==1.*->httpx->paddlepaddle) (0.16.0)\n",
            "Requirement already satisfied: langchain-text-splitters<1.0.0,>=0.3.9 in /usr/local/lib/python3.11/dist-packages (from langchain>=0.2->paddlex[ie,multimodal,ocr,trans]>=3.1.0->paddleocr) (0.3.9)\n",
            "Requirement already satisfied: langsmith>=0.1.17 in /usr/local/lib/python3.11/dist-packages (from langchain>=0.2->paddlex[ie,multimodal,ocr,trans]>=3.1.0->paddleocr) (0.4.14)\n",
            "Requirement already satisfied: SQLAlchemy<3,>=1.4 in /usr/local/lib/python3.11/dist-packages (from langchain>=0.2->paddlex[ie,multimodal,ocr,trans]>=3.1.0->paddleocr) (2.0.43)\n",
            "Requirement already satisfied: aiohttp<4.0.0,>=3.8.3 in /usr/local/lib/python3.11/dist-packages (from langchain-community>=0.2->paddlex[ie,multimodal,ocr,trans]>=3.1.0->paddleocr) (3.12.15)\n",
            "Requirement already satisfied: tenacity!=8.4.0,<10,>=8.1.0 in /usr/local/lib/python3.11/dist-packages (from langchain-community>=0.2->paddlex[ie,multimodal,ocr,trans]>=3.1.0->paddleocr) (9.1.2)\n",
            "Collecting dataclasses-json<0.7,>=0.5.7 (from langchain-community>=0.2->paddlex[ie,multimodal,ocr,trans]>=3.1.0->paddleocr)\n",
            "  Downloading dataclasses_json-0.6.7-py3-none-any.whl.metadata (25 kB)\n",
            "Collecting pydantic-settings<3.0.0,>=2.4.0 (from langchain-community>=0.2->paddlex[ie,multimodal,ocr,trans]>=3.1.0->paddleocr)\n",
            "  Downloading pydantic_settings-2.10.1-py3-none-any.whl.metadata (3.4 kB)\n",
            "Collecting httpx-sse<1.0.0,>=0.4.0 (from langchain-community>=0.2->paddlex[ie,multimodal,ocr,trans]>=3.1.0->paddleocr)\n",
            "  Downloading httpx_sse-0.4.1-py3-none-any.whl.metadata (9.4 kB)\n",
            "Requirement already satisfied: jsonpatch<2.0,>=1.33 in /usr/local/lib/python3.11/dist-packages (from langchain-core->paddlex[ie,multimodal,ocr,trans]>=3.1.0->paddleocr) (1.33)\n",
            "Requirement already satisfied: distro<2,>=1.7.0 in /usr/local/lib/python3.11/dist-packages (from openai>=1.63->paddlex[ie,multimodal,ocr,trans]>=3.1.0->paddleocr) (1.9.0)\n",
            "Requirement already satisfied: jiter<1,>=0.4.0 in /usr/local/lib/python3.11/dist-packages (from openai>=1.63->paddlex[ie,multimodal,ocr,trans]>=3.1.0->paddleocr) (0.10.0)\n",
            "Requirement already satisfied: sniffio in /usr/local/lib/python3.11/dist-packages (from openai>=1.63->paddlex[ie,multimodal,ocr,trans]>=3.1.0->paddleocr) (1.3.1)\n",
            "Requirement already satisfied: tqdm>4 in /usr/local/lib/python3.11/dist-packages (from openai>=1.63->paddlex[ie,multimodal,ocr,trans]>=3.1.0->paddleocr) (4.67.1)\n",
            "Requirement already satisfied: python-dateutil>=2.8.2 in /usr/local/lib/python3.11/dist-packages (from pandas>=1.3->paddlex>=3.1.0->paddlex[ie,multimodal,ocr,trans]>=3.1.0->paddleocr) (2.9.0.post0)\n",
            "Requirement already satisfied: pytz>=2020.1 in /usr/local/lib/python3.11/dist-packages (from pandas>=1.3->paddlex>=3.1.0->paddlex[ie,multimodal,ocr,trans]>=3.1.0->paddleocr) (2025.2)\n",
            "Requirement already satisfied: tzdata>=2022.7 in /usr/local/lib/python3.11/dist-packages (from pandas>=1.3->paddlex>=3.1.0->paddlex[ie,multimodal,ocr,trans]>=3.1.0->paddleocr) (2025.2)\n",
            "Requirement already satisfied: annotated-types>=0.6.0 in /usr/local/lib/python3.11/dist-packages (from pydantic>=2->paddlex>=3.1.0->paddlex[ie,multimodal,ocr,trans]>=3.1.0->paddleocr) (0.7.0)\n",
            "Requirement already satisfied: pydantic-core==2.33.2 in /usr/local/lib/python3.11/dist-packages (from pydantic>=2->paddlex>=3.1.0->paddlex[ie,multimodal,ocr,trans]>=3.1.0->paddleocr) (2.33.2)\n",
            "Requirement already satisfied: typing-inspection>=0.4.0 in /usr/local/lib/python3.11/dist-packages (from pydantic>=2->paddlex>=3.1.0->paddlex[ie,multimodal,ocr,trans]>=3.1.0->paddleocr) (0.4.1)\n",
            "Requirement already satisfied: charset-normalizer<4,>=2 in /usr/local/lib/python3.11/dist-packages (from requests->paddlex>=3.1.0->paddlex[ie,multimodal,ocr,trans]>=3.1.0->paddleocr) (3.4.3)\n",
            "Requirement already satisfied: urllib3<3,>=1.21.1 in /usr/local/lib/python3.11/dist-packages (from requests->paddlex>=3.1.0->paddlex[ie,multimodal,ocr,trans]>=3.1.0->paddleocr) (2.5.0)\n",
            "Requirement already satisfied: fsspec>=2023.5.0 in /usr/local/lib/python3.11/dist-packages (from huggingface_hub->paddlex>=3.1.0->paddlex[ie,multimodal,ocr,trans]>=3.1.0->paddleocr) (2025.3.0)\n",
            "Requirement already satisfied: hf-xet<2.0.0,>=1.1.3 in /usr/local/lib/python3.11/dist-packages (from huggingface_hub->paddlex>=3.1.0->paddlex[ie,multimodal,ocr,trans]>=3.1.0->paddleocr) (1.1.7)\n",
            "Requirement already satisfied: soupsieve>1.2 in /usr/local/lib/python3.11/dist-packages (from beautifulsoup4->paddlex[ie,multimodal,ocr,trans]>=3.1.0->paddleocr) (2.7)\n",
            "Requirement already satisfied: wcwidth in /usr/local/lib/python3.11/dist-packages (from ftfy->paddlex[ie,multimodal,ocr,trans]>=3.1.0->paddleocr) (0.2.13)\n",
            "Requirement already satisfied: MarkupSafe>=2.0 in /usr/local/lib/python3.11/dist-packages (from Jinja2->paddlex[ie,multimodal,ocr,trans]>=3.1.0->paddleocr) (3.0.2)\n",
            "Requirement already satisfied: et-xmlfile in /usr/local/lib/python3.11/dist-packages (from openpyxl->paddlex[ie,multimodal,ocr,trans]>=3.1.0->paddleocr) (2.0.0)\n",
            "Collecting cssselect (from premailer->paddlex[ie,multimodal,ocr,trans]>=3.1.0->paddleocr)\n",
            "  Downloading cssselect-1.3.0-py3-none-any.whl.metadata (2.6 kB)\n",
            "Collecting cssutils (from premailer->paddlex[ie,multimodal,ocr,trans]>=3.1.0->paddleocr)\n",
            "  Downloading cssutils-2.11.1-py3-none-any.whl.metadata (8.7 kB)\n",
            "Requirement already satisfied: cachetools in /usr/local/lib/python3.11/dist-packages (from premailer->paddlex[ie,multimodal,ocr,trans]>=3.1.0->paddleocr) (5.5.2)\n",
            "Collecting ruamel.yaml.clib>=0.2.7 (from ruamel.yaml->paddlex>=3.1.0->paddlex[ie,multimodal,ocr,trans]>=3.1.0->paddleocr)\n",
            "  Downloading ruamel.yaml.clib-0.2.12-cp311-cp311-manylinux_2_17_x86_64.manylinux2014_x86_64.whl.metadata (2.7 kB)\n",
            "Requirement already satisfied: scipy>=1.6.0 in /usr/local/lib/python3.11/dist-packages (from scikit-learn->paddlex[ie,multimodal,ocr,trans]>=3.1.0->paddleocr) (1.16.1)\n",
            "Requirement already satisfied: joblib>=1.2.0 in /usr/local/lib/python3.11/dist-packages (from scikit-learn->paddlex[ie,multimodal,ocr,trans]>=3.1.0->paddleocr) (1.5.1)\n",
            "Requirement already satisfied: threadpoolctl>=3.1.0 in /usr/local/lib/python3.11/dist-packages (from scikit-learn->paddlex[ie,multimodal,ocr,trans]>=3.1.0->paddleocr) (3.6.0)\n",
            "Requirement already satisfied: aiohappyeyeballs>=2.5.0 in /usr/local/lib/python3.11/dist-packages (from aiohttp<4.0.0,>=3.8.3->langchain-community>=0.2->paddlex[ie,multimodal,ocr,trans]>=3.1.0->paddleocr) (2.6.1)\n",
            "Requirement already satisfied: aiosignal>=1.4.0 in /usr/local/lib/python3.11/dist-packages (from aiohttp<4.0.0,>=3.8.3->langchain-community>=0.2->paddlex[ie,multimodal,ocr,trans]>=3.1.0->paddleocr) (1.4.0)\n",
            "Requirement already satisfied: attrs>=17.3.0 in /usr/local/lib/python3.11/dist-packages (from aiohttp<4.0.0,>=3.8.3->langchain-community>=0.2->paddlex[ie,multimodal,ocr,trans]>=3.1.0->paddleocr) (25.3.0)\n",
            "Requirement already satisfied: frozenlist>=1.1.1 in /usr/local/lib/python3.11/dist-packages (from aiohttp<4.0.0,>=3.8.3->langchain-community>=0.2->paddlex[ie,multimodal,ocr,trans]>=3.1.0->paddleocr) (1.7.0)\n",
            "Requirement already satisfied: multidict<7.0,>=4.5 in /usr/local/lib/python3.11/dist-packages (from aiohttp<4.0.0,>=3.8.3->langchain-community>=0.2->paddlex[ie,multimodal,ocr,trans]>=3.1.0->paddleocr) (6.6.4)\n",
            "Requirement already satisfied: propcache>=0.2.0 in /usr/local/lib/python3.11/dist-packages (from aiohttp<4.0.0,>=3.8.3->langchain-community>=0.2->paddlex[ie,multimodal,ocr,trans]>=3.1.0->paddleocr) (0.3.2)\n",
            "Requirement already satisfied: yarl<2.0,>=1.17.0 in /usr/local/lib/python3.11/dist-packages (from aiohttp<4.0.0,>=3.8.3->langchain-community>=0.2->paddlex[ie,multimodal,ocr,trans]>=3.1.0->paddleocr) (1.20.1)\n",
            "Collecting marshmallow<4.0.0,>=3.18.0 (from dataclasses-json<0.7,>=0.5.7->langchain-community>=0.2->paddlex[ie,multimodal,ocr,trans]>=3.1.0->paddleocr)\n",
            "  Downloading marshmallow-3.26.1-py3-none-any.whl.metadata (7.3 kB)\n",
            "Collecting typing-inspect<1,>=0.4.0 (from dataclasses-json<0.7,>=0.5.7->langchain-community>=0.2->paddlex[ie,multimodal,ocr,trans]>=3.1.0->paddleocr)\n",
            "  Downloading typing_inspect-0.9.0-py3-none-any.whl.metadata (1.5 kB)\n",
            "Requirement already satisfied: jsonpointer>=1.9 in /usr/local/lib/python3.11/dist-packages (from jsonpatch<2.0,>=1.33->langchain-core->paddlex[ie,multimodal,ocr,trans]>=3.1.0->paddleocr) (3.0.0)\n",
            "Requirement already satisfied: orjson>=3.9.14 in /usr/local/lib/python3.11/dist-packages (from langsmith>=0.1.17->langchain>=0.2->paddlex[ie,multimodal,ocr,trans]>=3.1.0->paddleocr) (3.11.2)\n",
            "Requirement already satisfied: requests-toolbelt>=1.0.0 in /usr/local/lib/python3.11/dist-packages (from langsmith>=0.1.17->langchain>=0.2->paddlex[ie,multimodal,ocr,trans]>=3.1.0->paddleocr) (1.0.0)\n",
            "Requirement already satisfied: zstandard>=0.23.0 in /usr/local/lib/python3.11/dist-packages (from langsmith>=0.1.17->langchain>=0.2->paddlex[ie,multimodal,ocr,trans]>=3.1.0->paddleocr) (0.23.0)\n",
            "Collecting python-dotenv>=0.21.0 (from pydantic-settings<3.0.0,>=2.4.0->langchain-community>=0.2->paddlex[ie,multimodal,ocr,trans]>=3.1.0->paddleocr)\n",
            "  Downloading python_dotenv-1.1.1-py3-none-any.whl.metadata (24 kB)\n",
            "Requirement already satisfied: six>=1.5 in /usr/local/lib/python3.11/dist-packages (from python-dateutil>=2.8.2->pandas>=1.3->paddlex>=3.1.0->paddlex[ie,multimodal,ocr,trans]>=3.1.0->paddleocr) (1.17.0)\n",
            "Requirement already satisfied: greenlet>=1 in /usr/local/lib/python3.11/dist-packages (from SQLAlchemy<3,>=1.4->langchain>=0.2->paddlex[ie,multimodal,ocr,trans]>=3.1.0->paddleocr) (3.2.4)\n",
            "Requirement already satisfied: more-itertools in /usr/local/lib/python3.11/dist-packages (from cssutils->premailer->paddlex[ie,multimodal,ocr,trans]>=3.1.0->paddleocr) (10.7.0)\n",
            "Collecting mypy-extensions>=0.3.0 (from typing-inspect<1,>=0.4.0->dataclasses-json<0.7,>=0.5.7->langchain-community>=0.2->paddlex[ie,multimodal,ocr,trans]>=3.1.0->paddleocr)\n",
            "  Downloading mypy_extensions-1.1.0-py3-none-any.whl.metadata (1.1 kB)\n",
            "Downloading paddleocr-3.1.1-py3-none-any.whl (70 kB)\n",
            "\u001b[2K   \u001b[90m━━━━━━━━━━━━━━━━━━━━━━━━━━━━━━━━━━━━━━━━\u001b[0m \u001b[32m70.8/70.8 kB\u001b[0m \u001b[31m7.2 MB/s\u001b[0m eta \u001b[36m0:00:00\u001b[0m\n",
            "\u001b[?25hDownloading paddlepaddle-3.1.0-cp311-cp311-manylinux1_x86_64.whl (195.0 MB)\n",
            "\u001b[2K   \u001b[90m━━━━━━━━━━━━━━━━━━━━━━━━━━━━━━━━━━━━━━━━\u001b[0m \u001b[32m195.0/195.0 MB\u001b[0m \u001b[31m6.5 MB/s\u001b[0m eta \u001b[36m0:00:00\u001b[0m\n",
            "\u001b[?25hDownloading opt_einsum-3.3.0-py3-none-any.whl (65 kB)\n",
            "\u001b[2K   \u001b[90m━━━━━━━━━━━━━━━━━━━━━━━━━━━━━━━━━━━━━━━━\u001b[0m \u001b[32m65.5/65.5 kB\u001b[0m \u001b[31m6.4 MB/s\u001b[0m eta \u001b[36m0:00:00\u001b[0m\n",
            "\u001b[?25hDownloading paddlex-3.1.4-py3-none-any.whl (1.7 MB)\n",
            "\u001b[2K   \u001b[90m━━━━━━━━━━━━━━━━━━━━━━━━━━━━━━━━━━━━━━━━\u001b[0m \u001b[32m1.7/1.7 MB\u001b[0m \u001b[31m64.9 MB/s\u001b[0m eta \u001b[36m0:00:00\u001b[0m\n",
            "\u001b[?25hDownloading opencv_contrib_python-4.10.0.84-cp37-abi3-manylinux_2_17_x86_64.manylinux2014_x86_64.whl (68.7 MB)\n",
            "\u001b[2K   \u001b[90m━━━━━━━━━━━━━━━━━━━━━━━━━━━━━━━━━━━━━━━━\u001b[0m \u001b[32m68.7/68.7 MB\u001b[0m \u001b[31m11.4 MB/s\u001b[0m eta \u001b[36m0:00:00\u001b[0m\n",
            "\u001b[?25hDownloading langchain_community-0.3.27-py3-none-any.whl (2.5 MB)\n",
            "\u001b[2K   \u001b[90m━━━━━━━━━━━━━━━━━━━━━━━━━━━━━━━━━━━━━━━━\u001b[0m \u001b[32m2.5/2.5 MB\u001b[0m \u001b[31m56.1 MB/s\u001b[0m eta \u001b[36m0:00:00\u001b[0m\n",
            "\u001b[?25hDownloading langchain_openai-0.3.30-py3-none-any.whl (74 kB)\n",
            "\u001b[2K   \u001b[90m━━━━━━━━━━━━━━━━━━━━━━━━━━━━━━━━━━━━━━━━\u001b[0m \u001b[32m74.4/74.4 kB\u001b[0m \u001b[31m4.6 MB/s\u001b[0m eta \u001b[36m0:00:00\u001b[0m\n",
            "\u001b[?25hDownloading pypdfium2-4.30.0-py3-none-manylinux_2_17_x86_64.manylinux2014_x86_64.whl (2.8 MB)\n",
            "\u001b[2K   \u001b[90m━━━━━━━━━━━━━━━━━━━━━━━━━━━━━━━━━━━━━━━━\u001b[0m \u001b[32m2.8/2.8 MB\u001b[0m \u001b[31m65.0 MB/s\u001b[0m eta \u001b[36m0:00:00\u001b[0m\n",
            "\u001b[?25hDownloading colorlog-6.9.0-py3-none-any.whl (11 kB)\n",
            "Downloading ftfy-6.3.1-py3-none-any.whl (44 kB)\n",
            "\u001b[2K   \u001b[90m━━━━━━━━━━━━━━━━━━━━━━━━━━━━━━━━━━━━━━━━\u001b[0m \u001b[32m44.8/44.8 kB\u001b[0m \u001b[31m2.6 MB/s\u001b[0m eta \u001b[36m0:00:00\u001b[0m\n",
            "\u001b[?25hDownloading premailer-3.10.0-py2.py3-none-any.whl (19 kB)\n",
            "Downloading ruamel.yaml-0.18.14-py3-none-any.whl (118 kB)\n",
            "\u001b[2K   \u001b[90m━━━━━━━━━━━━━━━━━━━━━━━━━━━━━━━━━━━━━━━━\u001b[0m \u001b[32m118.6/118.6 kB\u001b[0m \u001b[31m11.0 MB/s\u001b[0m eta \u001b[36m0:00:00\u001b[0m\n",
            "\u001b[?25hDownloading ujson-5.10.0-cp311-cp311-manylinux_2_17_x86_64.manylinux2014_x86_64.whl (53 kB)\n",
            "\u001b[2K   \u001b[90m━━━━━━━━━━━━━━━━━━━━━━━━━━━━━━━━━━━━━━━━\u001b[0m \u001b[32m53.6/53.6 kB\u001b[0m \u001b[31m2.9 MB/s\u001b[0m eta \u001b[36m0:00:00\u001b[0m\n",
            "\u001b[?25hDownloading dataclasses_json-0.6.7-py3-none-any.whl (28 kB)\n",
            "Downloading httpx_sse-0.4.1-py3-none-any.whl (8.1 kB)\n",
            "Downloading pydantic_settings-2.10.1-py3-none-any.whl (45 kB)\n",
            "\u001b[2K   \u001b[90m━━━━━━━━━━━━━━━━━━━━━━━━━━━━━━━━━━━━━━━━\u001b[0m \u001b[32m45.2/45.2 kB\u001b[0m \u001b[31m4.1 MB/s\u001b[0m eta \u001b[36m0:00:00\u001b[0m\n",
            "\u001b[?25hDownloading ruamel.yaml.clib-0.2.12-cp311-cp311-manylinux_2_17_x86_64.manylinux2014_x86_64.whl (739 kB)\n",
            "\u001b[2K   \u001b[90m━━━━━━━━━━━━━━━━━━━━━━━━━━━━━━━━━━━━━━━━\u001b[0m \u001b[32m739.1/739.1 kB\u001b[0m \u001b[31m52.7 MB/s\u001b[0m eta \u001b[36m0:00:00\u001b[0m\n",
            "\u001b[?25hDownloading cssselect-1.3.0-py3-none-any.whl (18 kB)\n",
            "Downloading cssutils-2.11.1-py3-none-any.whl (385 kB)\n",
            "\u001b[2K   \u001b[90m━━━━━━━━━━━━━━━━━━━━━━━━━━━━━━━━━━━━━━━━\u001b[0m \u001b[32m385.7/385.7 kB\u001b[0m \u001b[31m32.4 MB/s\u001b[0m eta \u001b[36m0:00:00\u001b[0m\n",
            "\u001b[?25hDownloading marshmallow-3.26.1-py3-none-any.whl (50 kB)\n",
            "\u001b[2K   \u001b[90m━━━━━━━━━━━━━━━━━━━━━━━━━━━━━━━━━━━━━━━━\u001b[0m \u001b[32m50.9/50.9 kB\u001b[0m \u001b[31m4.9 MB/s\u001b[0m eta \u001b[36m0:00:00\u001b[0m\n",
            "\u001b[?25hDownloading python_dotenv-1.1.1-py3-none-any.whl (20 kB)\n",
            "Downloading typing_inspect-0.9.0-py3-none-any.whl (8.8 kB)\n",
            "Downloading mypy_extensions-1.1.0-py3-none-any.whl (5.0 kB)\n",
            "Building wheels for collected packages: GPUtil\n",
            "  Building wheel for GPUtil (setup.py) ... \u001b[?25l\u001b[?25hdone\n",
            "  Created wheel for GPUtil: filename=GPUtil-1.4.0-py3-none-any.whl size=7392 sha256=0c2f8b41193b38c69be8180baee14eaf7096ba52ecabb42eb591f8b6f437bf8c\n",
            "  Stored in directory: /root/.cache/pip/wheels/2b/4d/8f/55fb4f7b9b591891e8d3f72977c4ec6c7763b39c19f0861595\n",
            "Successfully built GPUtil\n",
            "Installing collected packages: GPUtil, ujson, ruamel.yaml.clib, python-dotenv, pypdfium2, opt_einsum, opencv-contrib-python, mypy-extensions, marshmallow, httpx-sse, ftfy, cssutils, cssselect, colorlog, typing-inspect, ruamel.yaml, premailer, pydantic-settings, paddlex, paddlepaddle, dataclasses-json, langchain-openai, langchain-community, paddleocr\n",
            "  Attempting uninstall: opt_einsum\n",
            "    Found existing installation: opt_einsum 3.4.0\n",
            "    Uninstalling opt_einsum-3.4.0:\n",
            "      Successfully uninstalled opt_einsum-3.4.0\n",
            "  Attempting uninstall: opencv-contrib-python\n",
            "    Found existing installation: opencv-contrib-python 4.12.0.88\n",
            "    Uninstalling opencv-contrib-python-4.12.0.88:\n",
            "      Successfully uninstalled opencv-contrib-python-4.12.0.88\n",
            "Successfully installed GPUtil-1.4.0 colorlog-6.9.0 cssselect-1.3.0 cssutils-2.11.1 dataclasses-json-0.6.7 ftfy-6.3.1 httpx-sse-0.4.1 langchain-community-0.3.27 langchain-openai-0.3.30 marshmallow-3.26.1 mypy-extensions-1.1.0 opencv-contrib-python-4.10.0.84 opt_einsum-3.3.0 paddleocr-3.1.1 paddlepaddle-3.1.0 paddlex-3.1.4 premailer-3.10.0 pydantic-settings-2.10.1 pypdfium2-4.30.0 python-dotenv-1.1.1 ruamel.yaml-0.18.14 ruamel.yaml.clib-0.2.12 typing-inspect-0.9.0 ujson-5.10.0\n"
          ]
        }
      ]
    },
    {
      "cell_type": "code",
      "execution_count": null,
      "metadata": {
        "id": "KLlDBRC_0vSn",
        "colab": {
          "base_uri": "https://localhost:8080/"
        },
        "outputId": "5f13090f-67a1-43ff-d9e6-ce801a4ad9f2"
      },
      "outputs": [
        {
          "output_type": "stream",
          "name": "stdout",
          "text": [
            "Creating new Ultralytics Settings v0.0.6 file ✅ \n",
            "View Ultralytics Settings with 'yolo settings' or at '/root/.config/Ultralytics/settings.json'\n",
            "Update Settings with 'yolo settings key=value', i.e. 'yolo settings runs_dir=path/to/dir'. For help see https://docs.ultralytics.com/quickstart/#ultralytics-settings.\n"
          ]
        }
      ],
      "source": [
        "from ultralytics import YOLO\n",
        "import easyocr\n",
        "import cv2\n",
        "import matplotlib.pyplot as plt\n",
        "import numpy as np"
      ]
    },
    {
      "cell_type": "code",
      "source": [
        "model=YOLO('yolov8n.pt')"
      ],
      "metadata": {
        "id": "03Y3zslC1ABC",
        "colab": {
          "base_uri": "https://localhost:8080/"
        },
        "outputId": "a0711faa-a815-4c41-aa63-873f0df0ff91"
      },
      "execution_count": null,
      "outputs": [
        {
          "output_type": "stream",
          "name": "stderr",
          "text": [
            "Downloading https://github.com/ultralytics/assets/releases/download/v8.3.0/yolov8n.pt to 'yolov8n.pt': 100%|██████████| 6.25M/6.25M [00:00<00:00, 57.8MB/s]\n"
          ]
        }
      ]
    },
    {
      "cell_type": "code",
      "source": [
        "result= model.train(data=\"/content/drive/MyDrive/Colab Notebooks/config1.yaml\", epochs=25)"
      ],
      "metadata": {
        "id": "xY9YkOfZlXyN",
        "colab": {
          "base_uri": "https://localhost:8080/"
        },
        "outputId": "8ecd1aab-94a9-4e28-8ad0-5d2d69afb943"
      },
      "execution_count": null,
      "outputs": [
        {
          "output_type": "stream",
          "name": "stdout",
          "text": [
            "Ultralytics 8.3.173 🚀 Python-3.11.13 torch-2.6.0+cu124 CUDA:0 (Tesla T4, 15095MiB)\n",
            "\u001b[34m\u001b[1mengine/trainer: \u001b[0magnostic_nms=False, amp=True, augment=False, auto_augment=randaugment, batch=16, bgr=0.0, box=7.5, cache=False, cfg=None, classes=None, close_mosaic=10, cls=0.5, conf=None, copy_paste=0.0, copy_paste_mode=flip, cos_lr=False, cutmix=0.0, data=/content/drive/MyDrive/Colab Notebooks/config1.yaml, degrees=0.0, deterministic=True, device=None, dfl=1.5, dnn=False, dropout=0.0, dynamic=False, embed=None, epochs=25, erasing=0.4, exist_ok=False, fliplr=0.5, flipud=0.0, format=torchscript, fraction=1.0, freeze=None, half=False, hsv_h=0.015, hsv_s=0.7, hsv_v=0.4, imgsz=640, int8=False, iou=0.7, keras=False, kobj=1.0, line_width=None, lr0=0.01, lrf=0.01, mask_ratio=4, max_det=300, mixup=0.0, mode=train, model=yolov8n.pt, momentum=0.937, mosaic=1.0, multi_scale=False, name=train3, nbs=64, nms=False, opset=None, optimize=False, optimizer=auto, overlap_mask=True, patience=100, perspective=0.0, plots=True, pose=12.0, pretrained=True, profile=False, project=None, rect=False, resume=False, retina_masks=False, save=True, save_conf=False, save_crop=False, save_dir=runs/detect/train3, save_frames=False, save_json=False, save_period=-1, save_txt=False, scale=0.5, seed=0, shear=0.0, show=False, show_boxes=True, show_conf=True, show_labels=True, simplify=True, single_cls=False, source=None, split=val, stream_buffer=False, task=detect, time=None, tracker=botsort.yaml, translate=0.1, val=True, verbose=True, vid_stride=1, visualize=False, warmup_bias_lr=0.1, warmup_epochs=3.0, warmup_momentum=0.8, weight_decay=0.0005, workers=8, workspace=None\n",
            "\n",
            "                   from  n    params  module                                       arguments                     \n",
            "  0                  -1  1       464  ultralytics.nn.modules.conv.Conv             [3, 16, 3, 2]                 \n",
            "  1                  -1  1      4672  ultralytics.nn.modules.conv.Conv             [16, 32, 3, 2]                \n",
            "  2                  -1  1      7360  ultralytics.nn.modules.block.C2f             [32, 32, 1, True]             \n",
            "  3                  -1  1     18560  ultralytics.nn.modules.conv.Conv             [32, 64, 3, 2]                \n",
            "  4                  -1  2     49664  ultralytics.nn.modules.block.C2f             [64, 64, 2, True]             \n",
            "  5                  -1  1     73984  ultralytics.nn.modules.conv.Conv             [64, 128, 3, 2]               \n",
            "  6                  -1  2    197632  ultralytics.nn.modules.block.C2f             [128, 128, 2, True]           \n",
            "  7                  -1  1    295424  ultralytics.nn.modules.conv.Conv             [128, 256, 3, 2]              \n",
            "  8                  -1  1    460288  ultralytics.nn.modules.block.C2f             [256, 256, 1, True]           \n",
            "  9                  -1  1    164608  ultralytics.nn.modules.block.SPPF            [256, 256, 5]                 \n",
            " 10                  -1  1         0  torch.nn.modules.upsampling.Upsample         [None, 2, 'nearest']          \n",
            " 11             [-1, 6]  1         0  ultralytics.nn.modules.conv.Concat           [1]                           \n",
            " 12                  -1  1    148224  ultralytics.nn.modules.block.C2f             [384, 128, 1]                 \n",
            " 13                  -1  1         0  torch.nn.modules.upsampling.Upsample         [None, 2, 'nearest']          \n",
            " 14             [-1, 4]  1         0  ultralytics.nn.modules.conv.Concat           [1]                           \n",
            " 15                  -1  1     37248  ultralytics.nn.modules.block.C2f             [192, 64, 1]                  \n",
            " 16                  -1  1     36992  ultralytics.nn.modules.conv.Conv             [64, 64, 3, 2]                \n",
            " 17            [-1, 12]  1         0  ultralytics.nn.modules.conv.Concat           [1]                           \n",
            " 18                  -1  1    123648  ultralytics.nn.modules.block.C2f             [192, 128, 1]                 \n",
            " 19                  -1  1    147712  ultralytics.nn.modules.conv.Conv             [128, 128, 3, 2]              \n",
            " 20             [-1, 9]  1         0  ultralytics.nn.modules.conv.Concat           [1]                           \n",
            " 21                  -1  1    493056  ultralytics.nn.modules.block.C2f             [384, 256, 1]                 \n",
            " 22        [15, 18, 21]  1    751507  ultralytics.nn.modules.head.Detect           [1, [64, 128, 256]]           \n",
            "Model summary: 129 layers, 3,011,043 parameters, 3,011,027 gradients, 8.2 GFLOPs\n",
            "\n",
            "Transferred 355/355 items from pretrained weights\n",
            "Freezing layer 'model.22.dfl.conv.weight'\n",
            "\u001b[34m\u001b[1mAMP: \u001b[0mrunning Automatic Mixed Precision (AMP) checks...\n",
            "\u001b[34m\u001b[1mAMP: \u001b[0mchecks passed ✅\n",
            "\u001b[34m\u001b[1mtrain: \u001b[0mFast image access ✅ (ping: 0.4±0.1 ms, read: 9.5±3.4 MB/s, size: 19.5 KB)\n"
          ]
        },
        {
          "output_type": "stream",
          "name": "stderr",
          "text": [
            "\u001b[34m\u001b[1mtrain: \u001b[0mScanning /content/drive/MyDrive/Colab Notebooks/license_data/labels/train.cache... 1986 images, 0 backgrounds, 0 corrupt: 100%|██████████| 1986/1986 [00:00<?, ?it/s]"
          ]
        },
        {
          "output_type": "stream",
          "name": "stdout",
          "text": [
            "\u001b[34m\u001b[1malbumentations: \u001b[0mBlur(p=0.01, blur_limit=(3, 7)), MedianBlur(p=0.01, blur_limit=(3, 7)), ToGray(p=0.01, method='weighted_average', num_output_channels=3), CLAHE(p=0.01, clip_limit=(1.0, 4.0), tile_grid_size=(8, 8))\n"
          ]
        },
        {
          "output_type": "stream",
          "name": "stderr",
          "text": [
            "\n"
          ]
        },
        {
          "output_type": "stream",
          "name": "stdout",
          "text": [
            "\u001b[34m\u001b[1mval: \u001b[0mFast image access ✅ (ping: 0.5±0.2 ms, read: 14.4±11.8 MB/s, size: 27.2 KB)\n"
          ]
        },
        {
          "output_type": "stream",
          "name": "stderr",
          "text": [
            "\u001b[34m\u001b[1mval: \u001b[0mScanning /content/drive/MyDrive/Colab Notebooks/license_data/labels/train.cache... 1986 images, 0 backgrounds, 0 corrupt: 100%|██████████| 1986/1986 [00:00<?, ?it/s]\n"
          ]
        },
        {
          "output_type": "stream",
          "name": "stdout",
          "text": [
            "Plotting labels to runs/detect/train3/labels.jpg... \n",
            "\u001b[34m\u001b[1moptimizer:\u001b[0m 'optimizer=auto' found, ignoring 'lr0=0.01' and 'momentum=0.937' and determining best 'optimizer', 'lr0' and 'momentum' automatically... \n",
            "\u001b[34m\u001b[1moptimizer:\u001b[0m AdamW(lr=0.002, momentum=0.9) with parameter groups 57 weight(decay=0.0), 64 weight(decay=0.0005), 63 bias(decay=0.0)\n",
            "Image sizes 640 train, 640 val\n",
            "Using 2 dataloader workers\n",
            "Logging results to \u001b[1mruns/detect/train3\u001b[0m\n",
            "Starting training for 25 epochs...\n",
            "\n",
            "      Epoch    GPU_mem   box_loss   cls_loss   dfl_loss  Instances       Size\n"
          ]
        },
        {
          "output_type": "stream",
          "name": "stderr",
          "text": [
            "       1/25      2.93G      1.098     0.5571      1.073          8        640: 100%|██████████| 125/125 [00:48<00:00,  2.59it/s]\n",
            "                 Class     Images  Instances      Box(P          R      mAP50  mAP50-95): 100%|██████████| 63/63 [00:25<00:00,  2.51it/s]\n"
          ]
        },
        {
          "output_type": "stream",
          "name": "stdout",
          "text": [
            "                   all       1986       2104      0.981      0.953      0.978      0.702\n",
            "\n",
            "      Epoch    GPU_mem   box_loss   cls_loss   dfl_loss  Instances       Size\n"
          ]
        },
        {
          "output_type": "stream",
          "name": "stderr",
          "text": [
            "       2/25      2.93G      1.128      0.583       1.08          4        640: 100%|██████████| 125/125 [00:42<00:00,  2.95it/s]\n",
            "                 Class     Images  Instances      Box(P          R      mAP50  mAP50-95): 100%|██████████| 63/63 [00:19<00:00,  3.22it/s]"
          ]
        },
        {
          "output_type": "stream",
          "name": "stdout",
          "text": [
            "                   all       1986       2104      0.972      0.941      0.969       0.67\n"
          ]
        },
        {
          "output_type": "stream",
          "name": "stderr",
          "text": [
            "\n"
          ]
        },
        {
          "output_type": "stream",
          "name": "stdout",
          "text": [
            "\n",
            "      Epoch    GPU_mem   box_loss   cls_loss   dfl_loss  Instances       Size\n"
          ]
        },
        {
          "output_type": "stream",
          "name": "stderr",
          "text": [
            "       3/25      2.93G       1.13     0.6057      1.093          5        640: 100%|██████████| 125/125 [00:42<00:00,  2.93it/s]\n",
            "                 Class     Images  Instances      Box(P          R      mAP50  mAP50-95): 100%|██████████| 63/63 [00:20<00:00,  3.01it/s]"
          ]
        },
        {
          "output_type": "stream",
          "name": "stdout",
          "text": [
            "                   all       1986       2104      0.958      0.935      0.969      0.673\n"
          ]
        },
        {
          "output_type": "stream",
          "name": "stderr",
          "text": [
            "\n"
          ]
        },
        {
          "output_type": "stream",
          "name": "stdout",
          "text": [
            "\n",
            "      Epoch    GPU_mem   box_loss   cls_loss   dfl_loss  Instances       Size\n"
          ]
        },
        {
          "output_type": "stream",
          "name": "stderr",
          "text": [
            "       4/25      2.93G      1.144     0.6076      1.098          3        640: 100%|██████████| 125/125 [00:42<00:00,  2.97it/s]\n",
            "                 Class     Images  Instances      Box(P          R      mAP50  mAP50-95): 100%|██████████| 63/63 [00:19<00:00,  3.20it/s]"
          ]
        },
        {
          "output_type": "stream",
          "name": "stdout",
          "text": [
            "                   all       1986       2104      0.974       0.94      0.969      0.668\n"
          ]
        },
        {
          "output_type": "stream",
          "name": "stderr",
          "text": [
            "\n"
          ]
        },
        {
          "output_type": "stream",
          "name": "stdout",
          "text": [
            "\n",
            "      Epoch    GPU_mem   box_loss   cls_loss   dfl_loss  Instances       Size\n"
          ]
        },
        {
          "output_type": "stream",
          "name": "stderr",
          "text": [
            "       5/25      2.93G      1.162     0.6257       1.11          6        640: 100%|██████████| 125/125 [00:43<00:00,  2.86it/s]\n",
            "                 Class     Images  Instances      Box(P          R      mAP50  mAP50-95): 100%|██████████| 63/63 [00:20<00:00,  3.09it/s]"
          ]
        },
        {
          "output_type": "stream",
          "name": "stdout",
          "text": [
            "                   all       1986       2104      0.959      0.932      0.965       0.67\n"
          ]
        },
        {
          "output_type": "stream",
          "name": "stderr",
          "text": [
            "\n"
          ]
        },
        {
          "output_type": "stream",
          "name": "stdout",
          "text": [
            "\n",
            "      Epoch    GPU_mem   box_loss   cls_loss   dfl_loss  Instances       Size\n"
          ]
        },
        {
          "output_type": "stream",
          "name": "stderr",
          "text": [
            "       6/25      2.93G      1.102      0.591      1.077          3        640: 100%|██████████| 125/125 [00:41<00:00,  2.98it/s]\n",
            "                 Class     Images  Instances      Box(P          R      mAP50  mAP50-95): 100%|██████████| 63/63 [00:19<00:00,  3.22it/s]"
          ]
        },
        {
          "output_type": "stream",
          "name": "stdout",
          "text": [
            "                   all       1986       2104      0.973      0.948      0.973       0.68\n"
          ]
        },
        {
          "output_type": "stream",
          "name": "stderr",
          "text": [
            "\n"
          ]
        },
        {
          "output_type": "stream",
          "name": "stdout",
          "text": [
            "\n",
            "      Epoch    GPU_mem   box_loss   cls_loss   dfl_loss  Instances       Size\n"
          ]
        },
        {
          "output_type": "stream",
          "name": "stderr",
          "text": [
            "       7/25      2.93G      1.139     0.5907      1.086          6        640: 100%|██████████| 125/125 [00:43<00:00,  2.85it/s]\n",
            "                 Class     Images  Instances      Box(P          R      mAP50  mAP50-95): 100%|██████████| 63/63 [00:19<00:00,  3.31it/s]"
          ]
        },
        {
          "output_type": "stream",
          "name": "stdout",
          "text": [
            "                   all       1986       2104      0.985      0.938      0.975      0.681\n"
          ]
        },
        {
          "output_type": "stream",
          "name": "stderr",
          "text": [
            "\n"
          ]
        },
        {
          "output_type": "stream",
          "name": "stdout",
          "text": [
            "\n",
            "      Epoch    GPU_mem   box_loss   cls_loss   dfl_loss  Instances       Size\n"
          ]
        },
        {
          "output_type": "stream",
          "name": "stderr",
          "text": [
            "       8/25      2.93G      1.102     0.5707      1.077          2        640: 100%|██████████| 125/125 [00:40<00:00,  3.08it/s]\n",
            "                 Class     Images  Instances      Box(P          R      mAP50  mAP50-95): 100%|██████████| 63/63 [00:21<00:00,  2.95it/s]"
          ]
        },
        {
          "output_type": "stream",
          "name": "stdout",
          "text": [
            "                   all       1986       2104      0.985      0.944      0.977      0.699\n"
          ]
        },
        {
          "output_type": "stream",
          "name": "stderr",
          "text": [
            "\n"
          ]
        },
        {
          "output_type": "stream",
          "name": "stdout",
          "text": [
            "\n",
            "      Epoch    GPU_mem   box_loss   cls_loss   dfl_loss  Instances       Size\n"
          ]
        },
        {
          "output_type": "stream",
          "name": "stderr",
          "text": [
            "       9/25      2.93G      1.096     0.5723      1.073          4        640: 100%|██████████| 125/125 [00:42<00:00,  2.97it/s]\n",
            "                 Class     Images  Instances      Box(P          R      mAP50  mAP50-95): 100%|██████████| 63/63 [00:19<00:00,  3.22it/s]"
          ]
        },
        {
          "output_type": "stream",
          "name": "stdout",
          "text": [
            "                   all       1986       2104      0.982      0.944      0.977      0.695\n"
          ]
        },
        {
          "output_type": "stream",
          "name": "stderr",
          "text": [
            "\n"
          ]
        },
        {
          "output_type": "stream",
          "name": "stdout",
          "text": [
            "\n",
            "      Epoch    GPU_mem   box_loss   cls_loss   dfl_loss  Instances       Size\n"
          ]
        },
        {
          "output_type": "stream",
          "name": "stderr",
          "text": [
            "      10/25      2.93G        1.1     0.5615       1.07          4        640: 100%|██████████| 125/125 [00:44<00:00,  2.81it/s]\n",
            "                 Class     Images  Instances      Box(P          R      mAP50  mAP50-95): 100%|██████████| 63/63 [00:19<00:00,  3.15it/s]"
          ]
        },
        {
          "output_type": "stream",
          "name": "stdout",
          "text": [
            "                   all       1986       2104      0.982      0.951      0.979      0.699\n"
          ]
        },
        {
          "output_type": "stream",
          "name": "stderr",
          "text": [
            "\n"
          ]
        },
        {
          "output_type": "stream",
          "name": "stdout",
          "text": [
            "\n",
            "      Epoch    GPU_mem   box_loss   cls_loss   dfl_loss  Instances       Size\n"
          ]
        },
        {
          "output_type": "stream",
          "name": "stderr",
          "text": [
            "      11/25      2.93G      1.069      0.549      1.069          2        640: 100%|██████████| 125/125 [00:42<00:00,  2.95it/s]\n",
            "                 Class     Images  Instances      Box(P          R      mAP50  mAP50-95): 100%|██████████| 63/63 [00:18<00:00,  3.41it/s]"
          ]
        },
        {
          "output_type": "stream",
          "name": "stdout",
          "text": [
            "                   all       1986       2104      0.979      0.959      0.981      0.703\n"
          ]
        },
        {
          "output_type": "stream",
          "name": "stderr",
          "text": [
            "\n"
          ]
        },
        {
          "output_type": "stream",
          "name": "stdout",
          "text": [
            "\n",
            "      Epoch    GPU_mem   box_loss   cls_loss   dfl_loss  Instances       Size\n"
          ]
        },
        {
          "output_type": "stream",
          "name": "stderr",
          "text": [
            "      12/25      2.93G      1.103     0.5548      1.078          1        640: 100%|██████████| 125/125 [00:42<00:00,  2.96it/s]\n",
            "                 Class     Images  Instances      Box(P          R      mAP50  mAP50-95): 100%|██████████| 63/63 [00:19<00:00,  3.19it/s]\n"
          ]
        },
        {
          "output_type": "stream",
          "name": "stdout",
          "text": [
            "                   all       1986       2104       0.98      0.959      0.979      0.705\n",
            "\n",
            "      Epoch    GPU_mem   box_loss   cls_loss   dfl_loss  Instances       Size\n"
          ]
        },
        {
          "output_type": "stream",
          "name": "stderr",
          "text": [
            "      13/25      2.93G      1.066     0.5298      1.059          8        640: 100%|██████████| 125/125 [00:41<00:00,  3.00it/s]\n",
            "                 Class     Images  Instances      Box(P          R      mAP50  mAP50-95): 100%|██████████| 63/63 [00:21<00:00,  2.92it/s]"
          ]
        },
        {
          "output_type": "stream",
          "name": "stdout",
          "text": [
            "                   all       1986       2104      0.983      0.962       0.98       0.71\n"
          ]
        },
        {
          "output_type": "stream",
          "name": "stderr",
          "text": [
            "\n"
          ]
        },
        {
          "output_type": "stream",
          "name": "stdout",
          "text": [
            "\n",
            "      Epoch    GPU_mem   box_loss   cls_loss   dfl_loss  Instances       Size\n"
          ]
        },
        {
          "output_type": "stream",
          "name": "stderr",
          "text": [
            "      14/25      2.93G      1.034       0.51       1.05          2        640: 100%|██████████| 125/125 [00:43<00:00,  2.90it/s]\n",
            "                 Class     Images  Instances      Box(P          R      mAP50  mAP50-95): 100%|██████████| 63/63 [00:20<00:00,  3.01it/s]"
          ]
        },
        {
          "output_type": "stream",
          "name": "stdout",
          "text": [
            "                   all       1986       2104      0.988      0.954      0.984      0.721\n"
          ]
        },
        {
          "output_type": "stream",
          "name": "stderr",
          "text": [
            "\n"
          ]
        },
        {
          "output_type": "stream",
          "name": "stdout",
          "text": [
            "\n",
            "      Epoch    GPU_mem   box_loss   cls_loss   dfl_loss  Instances       Size\n"
          ]
        },
        {
          "output_type": "stream",
          "name": "stderr",
          "text": [
            "      15/25      2.93G      1.039     0.5128      1.052          4        640: 100%|██████████| 125/125 [00:44<00:00,  2.82it/s]\n",
            "                 Class     Images  Instances      Box(P          R      mAP50  mAP50-95): 100%|██████████| 63/63 [00:18<00:00,  3.33it/s]"
          ]
        },
        {
          "output_type": "stream",
          "name": "stdout",
          "text": [
            "                   all       1986       2104      0.983      0.963      0.982      0.716\n"
          ]
        },
        {
          "output_type": "stream",
          "name": "stderr",
          "text": [
            "\n"
          ]
        },
        {
          "output_type": "stream",
          "name": "stdout",
          "text": [
            "Closing dataloader mosaic\n",
            "\u001b[34m\u001b[1malbumentations: \u001b[0mBlur(p=0.01, blur_limit=(3, 7)), MedianBlur(p=0.01, blur_limit=(3, 7)), ToGray(p=0.01, method='weighted_average', num_output_channels=3), CLAHE(p=0.01, clip_limit=(1.0, 4.0), tile_grid_size=(8, 8))\n",
            "\n",
            "      Epoch    GPU_mem   box_loss   cls_loss   dfl_loss  Instances       Size\n"
          ]
        },
        {
          "output_type": "stream",
          "name": "stderr",
          "text": [
            "      16/25      2.93G      1.045     0.4738      1.067          2        640: 100%|██████████| 125/125 [00:44<00:00,  2.83it/s]\n",
            "                 Class     Images  Instances      Box(P          R      mAP50  mAP50-95): 100%|██████████| 63/63 [00:18<00:00,  3.40it/s]"
          ]
        },
        {
          "output_type": "stream",
          "name": "stdout",
          "text": [
            "                   all       1986       2104       0.98      0.955      0.981      0.703\n"
          ]
        },
        {
          "output_type": "stream",
          "name": "stderr",
          "text": [
            "\n"
          ]
        },
        {
          "output_type": "stream",
          "name": "stdout",
          "text": [
            "\n",
            "      Epoch    GPU_mem   box_loss   cls_loss   dfl_loss  Instances       Size\n"
          ]
        },
        {
          "output_type": "stream",
          "name": "stderr",
          "text": [
            "      17/25      2.93G      1.044     0.4702      1.067          2        640: 100%|██████████| 125/125 [00:40<00:00,  3.10it/s]\n",
            "                 Class     Images  Instances      Box(P          R      mAP50  mAP50-95): 100%|██████████| 63/63 [00:19<00:00,  3.28it/s]\n"
          ]
        },
        {
          "output_type": "stream",
          "name": "stdout",
          "text": [
            "                   all       1986       2104       0.99      0.962      0.984      0.732\n",
            "\n",
            "      Epoch    GPU_mem   box_loss   cls_loss   dfl_loss  Instances       Size\n"
          ]
        },
        {
          "output_type": "stream",
          "name": "stderr",
          "text": [
            "      18/25      2.93G      1.033     0.4598      1.066          2        640: 100%|██████████| 125/125 [00:38<00:00,  3.27it/s]\n",
            "                 Class     Images  Instances      Box(P          R      mAP50  mAP50-95): 100%|██████████| 63/63 [00:19<00:00,  3.17it/s]"
          ]
        },
        {
          "output_type": "stream",
          "name": "stdout",
          "text": [
            "                   all       1986       2104      0.986      0.966      0.984      0.723\n"
          ]
        },
        {
          "output_type": "stream",
          "name": "stderr",
          "text": [
            "\n"
          ]
        },
        {
          "output_type": "stream",
          "name": "stdout",
          "text": [
            "\n",
            "      Epoch    GPU_mem   box_loss   cls_loss   dfl_loss  Instances       Size\n"
          ]
        },
        {
          "output_type": "stream",
          "name": "stderr",
          "text": [
            "      19/25      2.93G      1.009     0.4464      1.052          2        640: 100%|██████████| 125/125 [00:38<00:00,  3.25it/s]\n",
            "                 Class     Images  Instances      Box(P          R      mAP50  mAP50-95): 100%|██████████| 63/63 [00:19<00:00,  3.18it/s]"
          ]
        },
        {
          "output_type": "stream",
          "name": "stdout",
          "text": [
            "                   all       1986       2104      0.987      0.967      0.985      0.732\n"
          ]
        },
        {
          "output_type": "stream",
          "name": "stderr",
          "text": [
            "\n"
          ]
        },
        {
          "output_type": "stream",
          "name": "stdout",
          "text": [
            "\n",
            "      Epoch    GPU_mem   box_loss   cls_loss   dfl_loss  Instances       Size\n"
          ]
        },
        {
          "output_type": "stream",
          "name": "stderr",
          "text": [
            "      20/25      2.93G     0.9989     0.4328      1.042          2        640: 100%|██████████| 125/125 [00:40<00:00,  3.12it/s]\n",
            "                 Class     Images  Instances      Box(P          R      mAP50  mAP50-95): 100%|██████████| 63/63 [00:18<00:00,  3.49it/s]"
          ]
        },
        {
          "output_type": "stream",
          "name": "stdout",
          "text": [
            "                   all       1986       2104      0.985      0.968      0.983      0.724\n"
          ]
        },
        {
          "output_type": "stream",
          "name": "stderr",
          "text": [
            "\n"
          ]
        },
        {
          "output_type": "stream",
          "name": "stdout",
          "text": [
            "\n",
            "      Epoch    GPU_mem   box_loss   cls_loss   dfl_loss  Instances       Size\n"
          ]
        },
        {
          "output_type": "stream",
          "name": "stderr",
          "text": [
            "      21/25      2.93G     0.9934     0.4291       1.04          2        640: 100%|██████████| 125/125 [00:39<00:00,  3.13it/s]\n",
            "                 Class     Images  Instances      Box(P          R      mAP50  mAP50-95): 100%|██████████| 63/63 [00:18<00:00,  3.41it/s]"
          ]
        },
        {
          "output_type": "stream",
          "name": "stdout",
          "text": [
            "                   all       1986       2104       0.99      0.969      0.985      0.738\n"
          ]
        },
        {
          "output_type": "stream",
          "name": "stderr",
          "text": [
            "\n"
          ]
        },
        {
          "output_type": "stream",
          "name": "stdout",
          "text": [
            "\n",
            "      Epoch    GPU_mem   box_loss   cls_loss   dfl_loss  Instances       Size\n"
          ]
        },
        {
          "output_type": "stream",
          "name": "stderr",
          "text": [
            "      22/25      2.93G      0.989     0.4224      1.026          2        640: 100%|██████████| 125/125 [00:41<00:00,  3.05it/s]\n",
            "                 Class     Images  Instances      Box(P          R      mAP50  mAP50-95): 100%|██████████| 63/63 [00:18<00:00,  3.47it/s]"
          ]
        },
        {
          "output_type": "stream",
          "name": "stdout",
          "text": [
            "                   all       1986       2104      0.992      0.968      0.985      0.745\n"
          ]
        },
        {
          "output_type": "stream",
          "name": "stderr",
          "text": [
            "\n"
          ]
        },
        {
          "output_type": "stream",
          "name": "stdout",
          "text": [
            "\n",
            "      Epoch    GPU_mem   box_loss   cls_loss   dfl_loss  Instances       Size\n"
          ]
        },
        {
          "output_type": "stream",
          "name": "stderr",
          "text": [
            "      23/25      2.93G     0.9743     0.4075      1.024          2        640: 100%|██████████| 125/125 [00:40<00:00,  3.10it/s]\n",
            "                 Class     Images  Instances      Box(P          R      mAP50  mAP50-95): 100%|██████████| 63/63 [00:18<00:00,  3.37it/s]\n"
          ]
        },
        {
          "output_type": "stream",
          "name": "stdout",
          "text": [
            "                   all       1986       2104       0.99      0.967      0.986      0.747\n",
            "\n",
            "      Epoch    GPU_mem   box_loss   cls_loss   dfl_loss  Instances       Size\n"
          ]
        },
        {
          "output_type": "stream",
          "name": "stderr",
          "text": [
            "      24/25      2.93G      0.958     0.3987      1.017          2        640: 100%|██████████| 125/125 [00:38<00:00,  3.21it/s]\n",
            "                 Class     Images  Instances      Box(P          R      mAP50  mAP50-95): 100%|██████████| 63/63 [00:20<00:00,  3.07it/s]"
          ]
        },
        {
          "output_type": "stream",
          "name": "stdout",
          "text": [
            "                   all       1986       2104       0.99      0.971      0.986      0.753\n"
          ]
        },
        {
          "output_type": "stream",
          "name": "stderr",
          "text": [
            "\n"
          ]
        },
        {
          "output_type": "stream",
          "name": "stdout",
          "text": [
            "\n",
            "      Epoch    GPU_mem   box_loss   cls_loss   dfl_loss  Instances       Size\n"
          ]
        },
        {
          "output_type": "stream",
          "name": "stderr",
          "text": [
            "      25/25      2.93G     0.9519     0.3955      1.021          2        640: 100%|██████████| 125/125 [00:40<00:00,  3.11it/s]\n",
            "                 Class     Images  Instances      Box(P          R      mAP50  mAP50-95): 100%|██████████| 63/63 [00:19<00:00,  3.26it/s]"
          ]
        },
        {
          "output_type": "stream",
          "name": "stdout",
          "text": [
            "                   all       1986       2104      0.992      0.971      0.987      0.756\n"
          ]
        },
        {
          "output_type": "stream",
          "name": "stderr",
          "text": [
            "\n"
          ]
        },
        {
          "output_type": "stream",
          "name": "stdout",
          "text": [
            "\n",
            "25 epochs completed in 0.434 hours.\n",
            "Optimizer stripped from runs/detect/train3/weights/last.pt, 6.2MB\n",
            "Optimizer stripped from runs/detect/train3/weights/best.pt, 6.2MB\n",
            "\n",
            "Validating runs/detect/train3/weights/best.pt...\n",
            "Ultralytics 8.3.173 🚀 Python-3.11.13 torch-2.6.0+cu124 CUDA:0 (Tesla T4, 15095MiB)\n",
            "Model summary (fused): 72 layers, 3,005,843 parameters, 0 gradients, 8.1 GFLOPs\n"
          ]
        },
        {
          "output_type": "stream",
          "name": "stderr",
          "text": [
            "                 Class     Images  Instances      Box(P          R      mAP50  mAP50-95): 100%|██████████| 63/63 [00:19<00:00,  3.18it/s]\n"
          ]
        },
        {
          "output_type": "stream",
          "name": "stdout",
          "text": [
            "                   all       1986       2104      0.992      0.971      0.987      0.756\n",
            "Speed: 0.2ms preprocess, 2.0ms inference, 0.0ms loss, 2.4ms postprocess per image\n",
            "Results saved to \u001b[1mruns/detect/train3\u001b[0m\n"
          ]
        }
      ]
    },
    {
      "cell_type": "code",
      "source": [
        "!scp -r /content/runs '/content/drive/MyDrive/Colab Notebooks/license'"
      ],
      "metadata": {
        "id": "itoWh1ziAONB"
      },
      "execution_count": null,
      "outputs": []
    },
    {
      "cell_type": "code",
      "source": [
        "model = YOLO('/content/drive/MyDrive/Colab Notebooks/license/runs/detect/train3/weights/best.pt')"
      ],
      "metadata": {
        "id": "ToQcIsPU1Wom"
      },
      "execution_count": null,
      "outputs": []
    },
    {
      "cell_type": "code",
      "source": [
        "results = model('/content/drive/MyDrive/Colab Notebooks/download.jpeg', show=True)"
      ],
      "metadata": {
        "id": "LCCCff_656qN",
        "colab": {
          "base_uri": "https://localhost:8080/"
        },
        "outputId": "4d4e0491-b3ec-4121-db9c-a4bcee9ed586"
      },
      "execution_count": null,
      "outputs": [
        {
          "output_type": "stream",
          "name": "stdout",
          "text": [
            "WARNING ⚠️ Environment does not support cv2.imshow() or PIL Image.show()\n",
            "\n",
            "\n",
            "image 1/1 /content/drive/MyDrive/Colab Notebooks/download.jpeg: 480x640 1 License_Plate, 208.7ms\n",
            "Speed: 4.7ms preprocess, 208.7ms inference, 913.4ms postprocess per image at shape (1, 3, 480, 640)\n"
          ]
        }
      ]
    },
    {
      "cell_type": "code",
      "source": [
        "for r in results:\n",
        "    print(r.boxes)        # Detected boxes\n",
        "    print(r.names)        # Class names\n",
        "    print(r.probs)        # Class probabilities"
      ],
      "metadata": {
        "id": "8NIhsGfh6rP3",
        "colab": {
          "base_uri": "https://localhost:8080/"
        },
        "outputId": "ecd7e177-ee0e-4e34-882f-b273849596ef"
      },
      "execution_count": null,
      "outputs": [
        {
          "output_type": "stream",
          "name": "stdout",
          "text": [
            "ultralytics.engine.results.Boxes object with attributes:\n",
            "\n",
            "cls: tensor([0.], device='cuda:0')\n",
            "conf: tensor([0.8218], device='cuda:0')\n",
            "data: tensor([[ 75.4866,  72.8905, 185.7266, 145.6208,   0.8218,   0.0000]], device='cuda:0')\n",
            "id: None\n",
            "is_track: False\n",
            "orig_shape: (194, 259)\n",
            "shape: torch.Size([1, 6])\n",
            "xywh: tensor([[130.6066, 109.2557, 110.2400,  72.7304]], device='cuda:0')\n",
            "xywhn: tensor([[0.5043, 0.5632, 0.4256, 0.3749]], device='cuda:0')\n",
            "xyxy: tensor([[ 75.4866,  72.8905, 185.7266, 145.6208]], device='cuda:0')\n",
            "xyxyn: tensor([[0.2915, 0.3757, 0.7171, 0.7506]], device='cuda:0')\n",
            "{0: 'License_Plate'}\n",
            "None\n"
          ]
        }
      ]
    },
    {
      "cell_type": "code",
      "source": [
        "results[0].save(filename='/content/drive/MyDrive/Colab Notebooks/detected_image.jpg')"
      ],
      "metadata": {
        "colab": {
          "base_uri": "https://localhost:8080/",
          "height": 36
        },
        "id": "ysC7gJ8vRgKu",
        "outputId": "a65f5cde-4bd0-46a3-f33d-06f3d2b1a2fb"
      },
      "execution_count": null,
      "outputs": [
        {
          "output_type": "execute_result",
          "data": {
            "text/plain": [
              "'/content/drive/MyDrive/Colab Notebooks/detected_image.jpg'"
            ],
            "application/vnd.google.colaboratory.intrinsic+json": {
              "type": "string"
            }
          },
          "metadata": {},
          "execution_count": 7
        }
      ]
    },
    {
      "cell_type": "code",
      "source": [
        "model = YOLO('/content/drive/MyDrive/Colab Notebooks/license/runs/detect/train3/weights/best.pt')"
      ],
      "metadata": {
        "id": "6doEyyFeSC-E"
      },
      "execution_count": null,
      "outputs": []
    },
    {
      "cell_type": "code",
      "source": [
        "reader= easyocr.Reader(['en'])\n",
        "\n",
        "img_path='/content/drive/MyDrive/Colab Notebooks/download.jpeg'\n",
        "image=cv2.imread(img_path)"
      ],
      "metadata": {
        "colab": {
          "base_uri": "https://localhost:8080/"
        },
        "id": "21FNQegZObrl",
        "outputId": "375b35b3-a8ec-4362-fcda-cc2dcf659206"
      },
      "execution_count": null,
      "outputs": [
        {
          "output_type": "stream",
          "name": "stderr",
          "text": [
            "WARNING:easyocr.easyocr:Downloading detection model, please wait. This may take several minutes depending upon your network connection.\n"
          ]
        },
        {
          "output_type": "stream",
          "name": "stdout",
          "text": [
            "Progress: |██████████████████████████████████████████████████| 100.0% Complete"
          ]
        },
        {
          "output_type": "stream",
          "name": "stderr",
          "text": [
            "WARNING:easyocr.easyocr:Downloading recognition model, please wait. This may take several minutes depending upon your network connection.\n"
          ]
        },
        {
          "output_type": "stream",
          "name": "stdout",
          "text": [
            "\rProgress: |--------------------------------------------------| 0.0% Complete\rProgress: |--------------------------------------------------| 0.1% Complete\rProgress: |--------------------------------------------------| 0.1% Complete\rProgress: |--------------------------------------------------| 0.2% Complete\rProgress: |--------------------------------------------------| 0.2% Complete\rProgress: |--------------------------------------------------| 0.3% Complete\rProgress: |--------------------------------------------------| 0.4% Complete\rProgress: |--------------------------------------------------| 0.4% Complete\rProgress: |--------------------------------------------------| 0.5% Complete\rProgress: |--------------------------------------------------| 0.5% Complete\rProgress: |--------------------------------------------------| 0.6% Complete\rProgress: |--------------------------------------------------| 0.6% Complete\rProgress: |--------------------------------------------------| 0.7% Complete\rProgress: |--------------------------------------------------| 0.8% Complete\rProgress: |--------------------------------------------------| 0.8% Complete\rProgress: |--------------------------------------------------| 0.9% Complete\rProgress: |--------------------------------------------------| 0.9% Complete\rProgress: |--------------------------------------------------| 1.0% Complete\rProgress: |--------------------------------------------------| 1.1% Complete\rProgress: |--------------------------------------------------| 1.1% Complete\rProgress: |--------------------------------------------------| 1.2% Complete\rProgress: |--------------------------------------------------| 1.2% Complete\rProgress: |--------------------------------------------------| 1.3% Complete\rProgress: |--------------------------------------------------| 1.3% Complete\rProgress: |--------------------------------------------------| 1.4% Complete\rProgress: |--------------------------------------------------| 1.5% Complete\rProgress: |--------------------------------------------------| 1.5% Complete\rProgress: |--------------------------------------------------| 1.6% Complete\rProgress: |--------------------------------------------------| 1.6% Complete\rProgress: |--------------------------------------------------| 1.7% Complete\rProgress: |--------------------------------------------------| 1.8% Complete\rProgress: |--------------------------------------------------| 1.8% Complete\rProgress: |--------------------------------------------------| 1.9% Complete\rProgress: |--------------------------------------------------| 1.9% Complete\rProgress: |--------------------------------------------------| 2.0% Complete\rProgress: |█-------------------------------------------------| 2.0% Complete\rProgress: |█-------------------------------------------------| 2.1% Complete\rProgress: |█-------------------------------------------------| 2.2% Complete\rProgress: |█-------------------------------------------------| 2.2% Complete\rProgress: |█-------------------------------------------------| 2.3% Complete\rProgress: |█-------------------------------------------------| 2.3% Complete\rProgress: |█-------------------------------------------------| 2.4% Complete\rProgress: |█-------------------------------------------------| 2.5% Complete\rProgress: |█-------------------------------------------------| 2.5% Complete\rProgress: |█-------------------------------------------------| 2.6% Complete\rProgress: |█-------------------------------------------------| 2.6% Complete\rProgress: |█-------------------------------------------------| 2.7% Complete\rProgress: |█-------------------------------------------------| 2.7% Complete\rProgress: |█-------------------------------------------------| 2.8% Complete\rProgress: |█-------------------------------------------------| 2.9% Complete\rProgress: |█-------------------------------------------------| 2.9% Complete\rProgress: |█-------------------------------------------------| 3.0% Complete\rProgress: |█-------------------------------------------------| 3.0% Complete\rProgress: |█-------------------------------------------------| 3.1% Complete\rProgress: |█-------------------------------------------------| 3.2% Complete\rProgress: |█-------------------------------------------------| 3.2% Complete\rProgress: |█-------------------------------------------------| 3.3% Complete\rProgress: |█-------------------------------------------------| 3.3% Complete\rProgress: |█-------------------------------------------------| 3.4% Complete\rProgress: |█-------------------------------------------------| 3.4% Complete\rProgress: |█-------------------------------------------------| 3.5% Complete\rProgress: |█-------------------------------------------------| 3.6% Complete\rProgress: |█-------------------------------------------------| 3.6% Complete\rProgress: |█-------------------------------------------------| 3.7% Complete\rProgress: |█-------------------------------------------------| 3.7% Complete\rProgress: |█-------------------------------------------------| 3.8% Complete\rProgress: |█-------------------------------------------------| 3.9% Complete\rProgress: |█-------------------------------------------------| 3.9% Complete\rProgress: |█-------------------------------------------------| 4.0% Complete\rProgress: |██------------------------------------------------| 4.0% Complete\rProgress: |██------------------------------------------------| 4.1% Complete\rProgress: |██------------------------------------------------| 4.1% Complete\rProgress: |██------------------------------------------------| 4.2% Complete\rProgress: |██------------------------------------------------| 4.3% Complete\rProgress: |██------------------------------------------------| 4.3% Complete\rProgress: |██------------------------------------------------| 4.4% Complete\rProgress: |██------------------------------------------------| 4.4% Complete\rProgress: |██------------------------------------------------| 4.5% Complete\rProgress: |██------------------------------------------------| 4.6% Complete\rProgress: |██------------------------------------------------| 4.6% Complete\rProgress: |██------------------------------------------------| 4.7% Complete\rProgress: |██------------------------------------------------| 4.7% Complete\rProgress: |██------------------------------------------------| 4.8% Complete\rProgress: |██------------------------------------------------| 4.8% Complete\rProgress: |██------------------------------------------------| 4.9% Complete\rProgress: |██------------------------------------------------| 5.0% Complete\rProgress: |██------------------------------------------------| 5.0% Complete\rProgress: |██------------------------------------------------| 5.1% Complete\rProgress: |██------------------------------------------------| 5.1% Complete\rProgress: |██------------------------------------------------| 5.2% Complete\rProgress: |██------------------------------------------------| 5.3% Complete\rProgress: |██------------------------------------------------| 5.3% Complete\rProgress: |██------------------------------------------------| 5.4% Complete\rProgress: |██------------------------------------------------| 5.4% Complete\rProgress: |██------------------------------------------------| 5.5% Complete\rProgress: |██------------------------------------------------| 5.5% Complete\rProgress: |██------------------------------------------------| 5.6% Complete\rProgress: |██------------------------------------------------| 5.7% Complete\rProgress: |██------------------------------------------------| 5.7% Complete\rProgress: |██------------------------------------------------| 5.8% Complete\rProgress: |██------------------------------------------------| 5.8% Complete\rProgress: |██------------------------------------------------| 5.9% Complete\rProgress: |██------------------------------------------------| 6.0% Complete\rProgress: |███-----------------------------------------------| 6.0% Complete\rProgress: |███-----------------------------------------------| 6.1% Complete\rProgress: |███-----------------------------------------------| 6.1% Complete\rProgress: |███-----------------------------------------------| 6.2% Complete\rProgress: |███-----------------------------------------------| 6.2% Complete\rProgress: |███-----------------------------------------------| 6.3% Complete\rProgress: |███-----------------------------------------------| 6.4% Complete\rProgress: |███-----------------------------------------------| 6.4% Complete\rProgress: |███-----------------------------------------------| 6.5% Complete\rProgress: |███-----------------------------------------------| 6.5% Complete\rProgress: |███-----------------------------------------------| 6.6% Complete\rProgress: |███-----------------------------------------------| 6.7% Complete\rProgress: |███-----------------------------------------------| 6.7% Complete\rProgress: |███-----------------------------------------------| 6.8% Complete\rProgress: |███-----------------------------------------------| 6.8% Complete\rProgress: |███-----------------------------------------------| 6.9% Complete\rProgress: |███-----------------------------------------------| 6.9% Complete\rProgress: |███-----------------------------------------------| 7.0% Complete\rProgress: |███-----------------------------------------------| 7.1% Complete\rProgress: |███-----------------------------------------------| 7.1% Complete\rProgress: |███-----------------------------------------------| 7.2% Complete\rProgress: |███-----------------------------------------------| 7.2% Complete\rProgress: |███-----------------------------------------------| 7.3% Complete\rProgress: |███-----------------------------------------------| 7.4% Complete\rProgress: |███-----------------------------------------------| 7.4% Complete\rProgress: |███-----------------------------------------------| 7.5% Complete\rProgress: |███-----------------------------------------------| 7.5% Complete\rProgress: |███-----------------------------------------------| 7.6% Complete\rProgress: |███-----------------------------------------------| 7.6% Complete\rProgress: |███-----------------------------------------------| 7.7% Complete\rProgress: |███-----------------------------------------------| 7.8% Complete\rProgress: |███-----------------------------------------------| 7.8% Complete\rProgress: |███-----------------------------------------------| 7.9% Complete\rProgress: |███-----------------------------------------------| 7.9% Complete\rProgress: |███-----------------------------------------------| 8.0% Complete\rProgress: |████----------------------------------------------| 8.1% Complete\rProgress: |████----------------------------------------------| 8.1% Complete\rProgress: |████----------------------------------------------| 8.2% Complete\rProgress: |████----------------------------------------------| 8.2% Complete\rProgress: |████----------------------------------------------| 8.3% Complete\rProgress: |████----------------------------------------------| 8.3% Complete\rProgress: |████----------------------------------------------| 8.4% Complete\rProgress: |████----------------------------------------------| 8.5% Complete\rProgress: |████----------------------------------------------| 8.5% Complete\rProgress: |████----------------------------------------------| 8.6% Complete\rProgress: |████----------------------------------------------| 8.6% Complete\rProgress: |████----------------------------------------------| 8.7% Complete\rProgress: |████----------------------------------------------| 8.8% Complete\rProgress: |████----------------------------------------------| 8.8% Complete\rProgress: |████----------------------------------------------| 8.9% Complete\rProgress: |████----------------------------------------------| 8.9% Complete\rProgress: |████----------------------------------------------| 9.0% Complete\rProgress: |████----------------------------------------------| 9.0% Complete\rProgress: |████----------------------------------------------| 9.1% Complete\rProgress: |████----------------------------------------------| 9.2% Complete\rProgress: |████----------------------------------------------| 9.2% Complete\rProgress: |████----------------------------------------------| 9.3% Complete\rProgress: |████----------------------------------------------| 9.3% Complete\rProgress: |████----------------------------------------------| 9.4% Complete\rProgress: |████----------------------------------------------| 9.5% Complete\rProgress: |████----------------------------------------------| 9.5% Complete\rProgress: |████----------------------------------------------| 9.6% Complete\rProgress: |████----------------------------------------------| 9.6% Complete\rProgress: |████----------------------------------------------| 9.7% Complete\rProgress: |████----------------------------------------------| 9.7% Complete\rProgress: |████----------------------------------------------| 9.8% Complete\rProgress: |████----------------------------------------------| 9.9% Complete\rProgress: |████----------------------------------------------| 9.9% Complete\rProgress: |████----------------------------------------------| 10.0% Complete\rProgress: |█████---------------------------------------------| 10.0% Complete\rProgress: |█████---------------------------------------------| 10.1% Complete\rProgress: |█████---------------------------------------------| 10.2% Complete\rProgress: |█████---------------------------------------------| 10.2% Complete\rProgress: |█████---------------------------------------------| 10.3% Complete\rProgress: |█████---------------------------------------------| 10.3% Complete\rProgress: |█████---------------------------------------------| 10.4% Complete\rProgress: |█████---------------------------------------------| 10.4% Complete\rProgress: |█████---------------------------------------------| 10.5% Complete\rProgress: |█████---------------------------------------------| 10.6% Complete\rProgress: |█████---------------------------------------------| 10.6% Complete\rProgress: |█████---------------------------------------------| 10.7% Complete\rProgress: |█████---------------------------------------------| 10.7% Complete\rProgress: |█████---------------------------------------------| 10.8% Complete\rProgress: |█████---------------------------------------------| 10.9% Complete\rProgress: |█████---------------------------------------------| 10.9% Complete\rProgress: |█████---------------------------------------------| 11.0% Complete\rProgress: |█████---------------------------------------------| 11.0% Complete\rProgress: |█████---------------------------------------------| 11.1% Complete\rProgress: |█████---------------------------------------------| 11.1% Complete\rProgress: |█████---------------------------------------------| 11.2% Complete\rProgress: |█████---------------------------------------------| 11.3% Complete\rProgress: |█████---------------------------------------------| 11.3% Complete\rProgress: |█████---------------------------------------------| 11.4% Complete\rProgress: |█████---------------------------------------------| 11.4% Complete\rProgress: |█████---------------------------------------------| 11.5% Complete\rProgress: |█████---------------------------------------------| 11.6% Complete\rProgress: |█████---------------------------------------------| 11.6% Complete\rProgress: |█████---------------------------------------------| 11.7% Complete\rProgress: |█████---------------------------------------------| 11.7% Complete\rProgress: |█████---------------------------------------------| 11.8% Complete\rProgress: |█████---------------------------------------------| 11.8% Complete\rProgress: |█████---------------------------------------------| 11.9% Complete\rProgress: |█████---------------------------------------------| 12.0% Complete\rProgress: |██████--------------------------------------------| 12.0% Complete\rProgress: |██████--------------------------------------------| 12.1% Complete\rProgress: |██████--------------------------------------------| 12.1% Complete\rProgress: |██████--------------------------------------------| 12.2% Complete\rProgress: |██████--------------------------------------------| 12.3% Complete\rProgress: |██████--------------------------------------------| 12.3% Complete\rProgress: |██████--------------------------------------------| 12.4% Complete\rProgress: |██████--------------------------------------------| 12.4% Complete\rProgress: |██████--------------------------------------------| 12.5% Complete\rProgress: |██████--------------------------------------------| 12.5% Complete\rProgress: |██████--------------------------------------------| 12.6% Complete\rProgress: |██████--------------------------------------------| 12.7% Complete\rProgress: |██████--------------------------------------------| 12.7% Complete\rProgress: |██████--------------------------------------------| 12.8% Complete\rProgress: |██████--------------------------------------------| 12.8% Complete\rProgress: |██████--------------------------------------------| 12.9% Complete\rProgress: |██████--------------------------------------------| 13.0% Complete\rProgress: |██████--------------------------------------------| 13.0% Complete\rProgress: |██████--------------------------------------------| 13.1% Complete\rProgress: |██████--------------------------------------------| 13.1% Complete\rProgress: |██████--------------------------------------------| 13.2% Complete\rProgress: |██████--------------------------------------------| 13.2% Complete\rProgress: |██████--------------------------------------------| 13.3% Complete\rProgress: |██████--------------------------------------------| 13.4% Complete\rProgress: |██████--------------------------------------------| 13.4% Complete\rProgress: |██████--------------------------------------------| 13.5% Complete\rProgress: |██████--------------------------------------------| 13.5% Complete\rProgress: |██████--------------------------------------------| 13.6% Complete\rProgress: |██████--------------------------------------------| 13.7% Complete\rProgress: |██████--------------------------------------------| 13.7% Complete\rProgress: |██████--------------------------------------------| 13.8% Complete\rProgress: |██████--------------------------------------------| 13.8% Complete\rProgress: |██████--------------------------------------------| 13.9% Complete\rProgress: |██████--------------------------------------------| 13.9% Complete\rProgress: |███████-------------------------------------------| 14.0% Complete\rProgress: |███████-------------------------------------------| 14.1% Complete\rProgress: |███████-------------------------------------------| 14.1% Complete\rProgress: |███████-------------------------------------------| 14.2% Complete\rProgress: |███████-------------------------------------------| 14.2% Complete\rProgress: |███████-------------------------------------------| 14.3% Complete\rProgress: |███████-------------------------------------------| 14.4% Complete\rProgress: |███████-------------------------------------------| 14.4% Complete\rProgress: |███████-------------------------------------------| 14.5% Complete\rProgress: |███████-------------------------------------------| 14.5% Complete\rProgress: |███████-------------------------------------------| 14.6% Complete\rProgress: |███████-------------------------------------------| 14.6% Complete\rProgress: |███████-------------------------------------------| 14.7% Complete\rProgress: |███████-------------------------------------------| 14.8% Complete\rProgress: |███████-------------------------------------------| 14.8% Complete\rProgress: |███████-------------------------------------------| 14.9% Complete\rProgress: |███████-------------------------------------------| 14.9% Complete\rProgress: |███████-------------------------------------------| 15.0% Complete\rProgress: |███████-------------------------------------------| 15.1% Complete\rProgress: |███████-------------------------------------------| 15.1% Complete\rProgress: |███████-------------------------------------------| 15.2% Complete\rProgress: |███████-------------------------------------------| 15.2% Complete\rProgress: |███████-------------------------------------------| 15.3% Complete\rProgress: |███████-------------------------------------------| 15.3% Complete\rProgress: |███████-------------------------------------------| 15.4% Complete\rProgress: |███████-------------------------------------------| 15.5% Complete\rProgress: |███████-------------------------------------------| 15.5% Complete\rProgress: |███████-------------------------------------------| 15.6% Complete\rProgress: |███████-------------------------------------------| 15.6% Complete\rProgress: |███████-------------------------------------------| 15.7% Complete\rProgress: |███████-------------------------------------------| 15.8% Complete\rProgress: |███████-------------------------------------------| 15.8% Complete\rProgress: |███████-------------------------------------------| 15.9% Complete\rProgress: |███████-------------------------------------------| 15.9% Complete\rProgress: |███████-------------------------------------------| 16.0% Complete\rProgress: |████████------------------------------------------| 16.0% Complete\rProgress: |████████------------------------------------------| 16.1% Complete\rProgress: |████████------------------------------------------| 16.2% Complete\rProgress: |████████------------------------------------------| 16.2% Complete\rProgress: |████████------------------------------------------| 16.3% Complete\rProgress: |████████------------------------------------------| 16.3% Complete\rProgress: |████████------------------------------------------| 16.4% Complete\rProgress: |████████------------------------------------------| 16.5% Complete\rProgress: |████████------------------------------------------| 16.5% Complete\rProgress: |████████------------------------------------------| 16.6% Complete\rProgress: |████████------------------------------------------| 16.6% Complete\rProgress: |████████------------------------------------------| 16.7% Complete\rProgress: |████████------------------------------------------| 16.7% Complete\rProgress: |████████------------------------------------------| 16.8% Complete\rProgress: |████████------------------------------------------| 16.9% Complete\rProgress: |████████------------------------------------------| 16.9% Complete\rProgress: |████████------------------------------------------| 17.0% Complete\rProgress: |████████------------------------------------------| 17.0% Complete\rProgress: |████████------------------------------------------| 17.1% Complete\rProgress: |████████------------------------------------------| 17.2% Complete\rProgress: |████████------------------------------------------| 17.2% Complete\rProgress: |████████------------------------------------------| 17.3% Complete\rProgress: |████████------------------------------------------| 17.3% Complete\rProgress: |████████------------------------------------------| 17.4% Complete\rProgress: |████████------------------------------------------| 17.4% Complete\rProgress: |████████------------------------------------------| 17.5% Complete\rProgress: |████████------------------------------------------| 17.6% Complete\rProgress: |████████------------------------------------------| 17.6% Complete\rProgress: |████████------------------------------------------| 17.7% Complete\rProgress: |████████------------------------------------------| 17.7% Complete\rProgress: |████████------------------------------------------| 17.8% Complete\rProgress: |████████------------------------------------------| 17.9% Complete\rProgress: |████████------------------------------------------| 17.9% Complete\rProgress: |████████------------------------------------------| 18.0% Complete\rProgress: |█████████-----------------------------------------| 18.0% Complete\rProgress: |█████████-----------------------------------------| 18.1% Complete\rProgress: |█████████-----------------------------------------| 18.1% Complete\rProgress: |█████████-----------------------------------------| 18.2% Complete\rProgress: |█████████-----------------------------------------| 18.3% Complete\rProgress: |█████████-----------------------------------------| 18.3% Complete\rProgress: |█████████-----------------------------------------| 18.4% Complete\rProgress: |█████████-----------------------------------------| 18.4% Complete\rProgress: |█████████-----------------------------------------| 18.5% Complete\rProgress: |█████████-----------------------------------------| 18.6% Complete\rProgress: |█████████-----------------------------------------| 18.6% Complete\rProgress: |█████████-----------------------------------------| 18.7% Complete\rProgress: |█████████-----------------------------------------| 18.7% Complete\rProgress: |█████████-----------------------------------------| 18.8% Complete\rProgress: |█████████-----------------------------------------| 18.8% Complete\rProgress: |█████████-----------------------------------------| 18.9% Complete\rProgress: |█████████-----------------------------------------| 19.0% Complete\rProgress: |█████████-----------------------------------------| 19.0% Complete\rProgress: |█████████-----------------------------------------| 19.1% Complete\rProgress: |█████████-----------------------------------------| 19.1% Complete\rProgress: |█████████-----------------------------------------| 19.2% Complete\rProgress: |█████████-----------------------------------------| 19.3% Complete\rProgress: |█████████-----------------------------------------| 19.3% Complete\rProgress: |█████████-----------------------------------------| 19.4% Complete\rProgress: |█████████-----------------------------------------| 19.4% Complete\rProgress: |█████████-----------------------------------------| 19.5% Complete\rProgress: |█████████-----------------------------------------| 19.5% Complete\rProgress: |█████████-----------------------------------------| 19.6% Complete\rProgress: |█████████-----------------------------------------| 19.7% Complete\rProgress: |█████████-----------------------------------------| 19.7% Complete\rProgress: |█████████-----------------------------------------| 19.8% Complete\rProgress: |█████████-----------------------------------------| 19.8% Complete\rProgress: |█████████-----------------------------------------| 19.9% Complete\rProgress: |█████████-----------------------------------------| 20.0% Complete\rProgress: |██████████----------------------------------------| 20.0% Complete\rProgress: |██████████----------------------------------------| 20.1% Complete\rProgress: |██████████----------------------------------------| 20.1% Complete\rProgress: |██████████----------------------------------------| 20.2% Complete\rProgress: |██████████----------------------------------------| 20.2% Complete\rProgress: |██████████----------------------------------------| 20.3% Complete\rProgress: |██████████----------------------------------------| 20.4% Complete\rProgress: |██████████----------------------------------------| 20.4% Complete\rProgress: |██████████----------------------------------------| 20.5% Complete\rProgress: |██████████----------------------------------------| 20.5% Complete\rProgress: |██████████----------------------------------------| 20.6% Complete\rProgress: |██████████----------------------------------------| 20.7% Complete\rProgress: |██████████----------------------------------------| 20.7% Complete\rProgress: |██████████----------------------------------------| 20.8% Complete\rProgress: |██████████----------------------------------------| 20.8% Complete\rProgress: |██████████----------------------------------------| 20.9% Complete\rProgress: |██████████----------------------------------------| 20.9% Complete\rProgress: |██████████----------------------------------------| 21.0% Complete\rProgress: |██████████----------------------------------------| 21.1% Complete\rProgress: |██████████----------------------------------------| 21.1% Complete\rProgress: |██████████----------------------------------------| 21.2% Complete\rProgress: |██████████----------------------------------------| 21.2% Complete\rProgress: |██████████----------------------------------------| 21.3% Complete\rProgress: |██████████----------------------------------------| 21.4% Complete\rProgress: |██████████----------------------------------------| 21.4% Complete\rProgress: |██████████----------------------------------------| 21.5% Complete\rProgress: |██████████----------------------------------------| 21.5% Complete\rProgress: |██████████----------------------------------------| 21.6% Complete\rProgress: |██████████----------------------------------------| 21.6% Complete\rProgress: |██████████----------------------------------------| 21.7% Complete\rProgress: |██████████----------------------------------------| 21.8% Complete\rProgress: |██████████----------------------------------------| 21.8% Complete\rProgress: |██████████----------------------------------------| 21.9% Complete\rProgress: |██████████----------------------------------------| 21.9% Complete\rProgress: |██████████----------------------------------------| 22.0% Complete\rProgress: |███████████---------------------------------------| 22.1% Complete\rProgress: |███████████---------------------------------------| 22.1% Complete\rProgress: |███████████---------------------------------------| 22.2% Complete\rProgress: |███████████---------------------------------------| 22.2% Complete\rProgress: |███████████---------------------------------------| 22.3% Complete\rProgress: |███████████---------------------------------------| 22.3% Complete\rProgress: |███████████---------------------------------------| 22.4% Complete\rProgress: |███████████---------------------------------------| 22.5% Complete\rProgress: |███████████---------------------------------------| 22.5% Complete\rProgress: |███████████---------------------------------------| 22.6% Complete\rProgress: |███████████---------------------------------------| 22.6% Complete\rProgress: |███████████---------------------------------------| 22.7% Complete\rProgress: |███████████---------------------------------------| 22.8% Complete\rProgress: |███████████---------------------------------------| 22.8% Complete\rProgress: |███████████---------------------------------------| 22.9% Complete\rProgress: |███████████---------------------------------------| 22.9% Complete\rProgress: |███████████---------------------------------------| 23.0% Complete\rProgress: |███████████---------------------------------------| 23.0% Complete\rProgress: |███████████---------------------------------------| 23.1% Complete\rProgress: |███████████---------------------------------------| 23.2% Complete\rProgress: |███████████---------------------------------------| 23.2% Complete\rProgress: |███████████---------------------------------------| 23.3% Complete\rProgress: |███████████---------------------------------------| 23.3% Complete\rProgress: |███████████---------------------------------------| 23.4% Complete\rProgress: |███████████---------------------------------------| 23.5% Complete\rProgress: |███████████---------------------------------------| 23.5% Complete\rProgress: |███████████---------------------------------------| 23.6% Complete\rProgress: |███████████---------------------------------------| 23.6% Complete\rProgress: |███████████---------------------------------------| 23.7% Complete\rProgress: |███████████---------------------------------------| 23.7% Complete\rProgress: |███████████---------------------------------------| 23.8% Complete\rProgress: |███████████---------------------------------------| 23.9% Complete\rProgress: |███████████---------------------------------------| 23.9% Complete\rProgress: |███████████---------------------------------------| 24.0% Complete\rProgress: |████████████--------------------------------------| 24.0% Complete\rProgress: |████████████--------------------------------------| 24.1% Complete\rProgress: |████████████--------------------------------------| 24.2% Complete\rProgress: |████████████--------------------------------------| 24.2% Complete\rProgress: |████████████--------------------------------------| 24.3% Complete\rProgress: |████████████--------------------------------------| 24.3% Complete\rProgress: |████████████--------------------------------------| 24.4% Complete\rProgress: |████████████--------------------------------------| 24.4% Complete\rProgress: |████████████--------------------------------------| 24.5% Complete\rProgress: |████████████--------------------------------------| 24.6% Complete\rProgress: |████████████--------------------------------------| 24.6% Complete\rProgress: |████████████--------------------------------------| 24.7% Complete\rProgress: |████████████--------------------------------------| 24.7% Complete\rProgress: |████████████--------------------------------------| 24.8% Complete\rProgress: |████████████--------------------------------------| 24.9% Complete\rProgress: |████████████--------------------------------------| 24.9% Complete\rProgress: |████████████--------------------------------------| 25.0% Complete\rProgress: |████████████--------------------------------------| 25.0% Complete\rProgress: |████████████--------------------------------------| 25.1% Complete\rProgress: |████████████--------------------------------------| 25.1% Complete\rProgress: |████████████--------------------------------------| 25.2% Complete\rProgress: |████████████--------------------------------------| 25.3% Complete\rProgress: |████████████--------------------------------------| 25.3% Complete\rProgress: |████████████--------------------------------------| 25.4% Complete\rProgress: |████████████--------------------------------------| 25.4% Complete\rProgress: |████████████--------------------------------------| 25.5% Complete\rProgress: |████████████--------------------------------------| 25.6% Complete\rProgress: |████████████--------------------------------------| 25.6% Complete\rProgress: |████████████--------------------------------------| 25.7% Complete\rProgress: |████████████--------------------------------------| 25.7% Complete\rProgress: |████████████--------------------------------------| 25.8% Complete\rProgress: |████████████--------------------------------------| 25.8% Complete\rProgress: |████████████--------------------------------------| 25.9% Complete\rProgress: |████████████--------------------------------------| 26.0% Complete\rProgress: |█████████████-------------------------------------| 26.0% Complete\rProgress: |█████████████-------------------------------------| 26.1% Complete\rProgress: |█████████████-------------------------------------| 26.1% Complete\rProgress: |█████████████-------------------------------------| 26.2% Complete\rProgress: |█████████████-------------------------------------| 26.3% Complete\rProgress: |█████████████-------------------------------------| 26.3% Complete\rProgress: |█████████████-------------------------------------| 26.4% Complete\rProgress: |█████████████-------------------------------------| 26.4% Complete\rProgress: |█████████████-------------------------------------| 26.5% Complete\rProgress: |█████████████-------------------------------------| 26.5% Complete\rProgress: |█████████████-------------------------------------| 26.6% Complete\rProgress: |█████████████-------------------------------------| 26.7% Complete\rProgress: |█████████████-------------------------------------| 26.7% Complete\rProgress: |█████████████-------------------------------------| 26.8% Complete\rProgress: |█████████████-------------------------------------| 26.8% Complete\rProgress: |█████████████-------------------------------------| 26.9% Complete\rProgress: |█████████████-------------------------------------| 27.0% Complete\rProgress: |█████████████-------------------------------------| 27.0% Complete\rProgress: |█████████████-------------------------------------| 27.1% Complete\rProgress: |█████████████-------------------------------------| 27.1% Complete\rProgress: |█████████████-------------------------------------| 27.2% Complete\rProgress: |█████████████-------------------------------------| 27.2% Complete\rProgress: |█████████████-------------------------------------| 27.3% Complete\rProgress: |█████████████-------------------------------------| 27.4% Complete\rProgress: |█████████████-------------------------------------| 27.4% Complete\rProgress: |█████████████-------------------------------------| 27.5% Complete\rProgress: |█████████████-------------------------------------| 27.5% Complete\rProgress: |█████████████-------------------------------------| 27.6% Complete\rProgress: |█████████████-------------------------------------| 27.7% Complete\rProgress: |█████████████-------------------------------------| 27.7% Complete\rProgress: |█████████████-------------------------------------| 27.8% Complete\rProgress: |█████████████-------------------------------------| 27.8% Complete\rProgress: |█████████████-------------------------------------| 27.9% Complete\rProgress: |█████████████-------------------------------------| 27.9% Complete\rProgress: |██████████████------------------------------------| 28.0% Complete\rProgress: |██████████████------------------------------------| 28.1% Complete\rProgress: |██████████████------------------------------------| 28.1% Complete\rProgress: |██████████████------------------------------------| 28.2% Complete\rProgress: |██████████████------------------------------------| 28.2% Complete\rProgress: |██████████████------------------------------------| 28.3% Complete\rProgress: |██████████████------------------------------------| 28.4% Complete\rProgress: |██████████████------------------------------------| 28.4% Complete\rProgress: |██████████████------------------------------------| 28.5% Complete\rProgress: |██████████████------------------------------------| 28.5% Complete\rProgress: |██████████████------------------------------------| 28.6% Complete\rProgress: |██████████████------------------------------------| 28.6% Complete\rProgress: |██████████████------------------------------------| 28.7% Complete\rProgress: |██████████████------------------------------------| 28.8% Complete\rProgress: |██████████████------------------------------------| 28.8% Complete\rProgress: |██████████████------------------------------------| 28.9% Complete\rProgress: |██████████████------------------------------------| 28.9% Complete\rProgress: |██████████████------------------------------------| 29.0% Complete\rProgress: |██████████████------------------------------------| 29.1% Complete\rProgress: |██████████████------------------------------------| 29.1% Complete\rProgress: |██████████████------------------------------------| 29.2% Complete\rProgress: |██████████████------------------------------------| 29.2% Complete\rProgress: |██████████████------------------------------------| 29.3% Complete\rProgress: |██████████████------------------------------------| 29.3% Complete\rProgress: |██████████████------------------------------------| 29.4% Complete\rProgress: |██████████████------------------------------------| 29.5% Complete\rProgress: |██████████████------------------------------------| 29.5% Complete\rProgress: |██████████████------------------------------------| 29.6% Complete\rProgress: |██████████████------------------------------------| 29.6% Complete\rProgress: |██████████████------------------------------------| 29.7% Complete\rProgress: |██████████████------------------------------------| 29.8% Complete\rProgress: |██████████████------------------------------------| 29.8% Complete\rProgress: |██████████████------------------------------------| 29.9% Complete\rProgress: |██████████████------------------------------------| 29.9% Complete\rProgress: |██████████████------------------------------------| 30.0% Complete\rProgress: |███████████████-----------------------------------| 30.0% Complete\rProgress: |███████████████-----------------------------------| 30.1% Complete\rProgress: |███████████████-----------------------------------| 30.2% Complete\rProgress: |███████████████-----------------------------------| 30.2% Complete\rProgress: |███████████████-----------------------------------| 30.3% Complete\rProgress: |███████████████-----------------------------------| 30.3% Complete\rProgress: |███████████████-----------------------------------| 30.4% Complete\rProgress: |███████████████-----------------------------------| 30.5% Complete\rProgress: |███████████████-----------------------------------| 30.5% Complete\rProgress: |███████████████-----------------------------------| 30.6% Complete\rProgress: |███████████████-----------------------------------| 30.6% Complete\rProgress: |███████████████-----------------------------------| 30.7% Complete\rProgress: |███████████████-----------------------------------| 30.7% Complete\rProgress: |███████████████-----------------------------------| 30.8% Complete\rProgress: |███████████████-----------------------------------| 30.9% Complete\rProgress: |███████████████-----------------------------------| 30.9% Complete\rProgress: |███████████████-----------------------------------| 31.0% Complete\rProgress: |███████████████-----------------------------------| 31.0% Complete\rProgress: |███████████████-----------------------------------| 31.1% Complete\rProgress: |███████████████-----------------------------------| 31.2% Complete\rProgress: |███████████████-----------------------------------| 31.2% Complete\rProgress: |███████████████-----------------------------------| 31.3% Complete\rProgress: |███████████████-----------------------------------| 31.3% Complete\rProgress: |███████████████-----------------------------------| 31.4% Complete\rProgress: |███████████████-----------------------------------| 31.4% Complete\rProgress: |███████████████-----------------------------------| 31.5% Complete\rProgress: |███████████████-----------------------------------| 31.6% Complete\rProgress: |███████████████-----------------------------------| 31.6% Complete\rProgress: |███████████████-----------------------------------| 31.7% Complete\rProgress: |███████████████-----------------------------------| 31.7% Complete\rProgress: |███████████████-----------------------------------| 31.8% Complete\rProgress: |███████████████-----------------------------------| 31.9% Complete\rProgress: |███████████████-----------------------------------| 31.9% Complete\rProgress: |███████████████-----------------------------------| 32.0% Complete\rProgress: |████████████████----------------------------------| 32.0% Complete\rProgress: |████████████████----------------------------------| 32.1% Complete\rProgress: |████████████████----------------------------------| 32.1% Complete\rProgress: |████████████████----------------------------------| 32.2% Complete\rProgress: |████████████████----------------------------------| 32.3% Complete\rProgress: |████████████████----------------------------------| 32.3% Complete\rProgress: |████████████████----------------------------------| 32.4% Complete\rProgress: |████████████████----------------------------------| 32.4% Complete\rProgress: |████████████████----------------------------------| 32.5% Complete\rProgress: |████████████████----------------------------------| 32.6% Complete\rProgress: |████████████████----------------------------------| 32.6% Complete\rProgress: |████████████████----------------------------------| 32.7% Complete\rProgress: |████████████████----------------------------------| 32.7% Complete\rProgress: |████████████████----------------------------------| 32.8% Complete\rProgress: |████████████████----------------------------------| 32.8% Complete\rProgress: |████████████████----------------------------------| 32.9% Complete\rProgress: |████████████████----------------------------------| 33.0% Complete\rProgress: |████████████████----------------------------------| 33.0% Complete\rProgress: |████████████████----------------------------------| 33.1% Complete\rProgress: |████████████████----------------------------------| 33.1% Complete\rProgress: |████████████████----------------------------------| 33.2% Complete\rProgress: |████████████████----------------------------------| 33.3% Complete\rProgress: |████████████████----------------------------------| 33.3% Complete\rProgress: |████████████████----------------------------------| 33.4% Complete\rProgress: |████████████████----------------------------------| 33.4% Complete\rProgress: |████████████████----------------------------------| 33.5% Complete\rProgress: |████████████████----------------------------------| 33.5% Complete\rProgress: |████████████████----------------------------------| 33.6% Complete\rProgress: |████████████████----------------------------------| 33.7% Complete\rProgress: |████████████████----------------------------------| 33.7% Complete\rProgress: |████████████████----------------------------------| 33.8% Complete\rProgress: |████████████████----------------------------------| 33.8% Complete\rProgress: |████████████████----------------------------------| 33.9% Complete\rProgress: |████████████████----------------------------------| 34.0% Complete\rProgress: |█████████████████---------------------------------| 34.0% Complete\rProgress: |█████████████████---------------------------------| 34.1% Complete\rProgress: |█████████████████---------------------------------| 34.1% Complete\rProgress: |█████████████████---------------------------------| 34.2% Complete\rProgress: |█████████████████---------------------------------| 34.2% Complete\rProgress: |█████████████████---------------------------------| 34.3% Complete\rProgress: |█████████████████---------------------------------| 34.4% Complete\rProgress: |█████████████████---------------------------------| 34.4% Complete\rProgress: |█████████████████---------------------------------| 34.5% Complete\rProgress: |█████████████████---------------------------------| 34.5% Complete\rProgress: |█████████████████---------------------------------| 34.6% Complete\rProgress: |█████████████████---------------------------------| 34.7% Complete\rProgress: |█████████████████---------------------------------| 34.7% Complete\rProgress: |█████████████████---------------------------------| 34.8% Complete\rProgress: |█████████████████---------------------------------| 34.8% Complete\rProgress: |█████████████████---------------------------------| 34.9% Complete\rProgress: |█████████████████---------------------------------| 34.9% Complete\rProgress: |█████████████████---------------------------------| 35.0% Complete\rProgress: |█████████████████---------------------------------| 35.1% Complete\rProgress: |█████████████████---------------------------------| 35.1% Complete\rProgress: |█████████████████---------------------------------| 35.2% Complete\rProgress: |█████████████████---------------------------------| 35.2% Complete\rProgress: |█████████████████---------------------------------| 35.3% Complete\rProgress: |█████████████████---------------------------------| 35.4% Complete\rProgress: |█████████████████---------------------------------| 35.4% Complete\rProgress: |█████████████████---------------------------------| 35.5% Complete\rProgress: |█████████████████---------------------------------| 35.5% Complete\rProgress: |█████████████████---------------------------------| 35.6% Complete\rProgress: |█████████████████---------------------------------| 35.6% Complete\rProgress: |█████████████████---------------------------------| 35.7% Complete\rProgress: |█████████████████---------------------------------| 35.8% Complete\rProgress: |█████████████████---------------------------------| 35.8% Complete\rProgress: |█████████████████---------------------------------| 35.9% Complete\rProgress: |█████████████████---------------------------------| 35.9% Complete\rProgress: |█████████████████---------------------------------| 36.0% Complete\rProgress: |██████████████████--------------------------------| 36.1% Complete\rProgress: |██████████████████--------------------------------| 36.1% Complete\rProgress: |██████████████████--------------------------------| 36.2% Complete\rProgress: |██████████████████--------------------------------| 36.2% Complete\rProgress: |██████████████████--------------------------------| 36.3% Complete\rProgress: |██████████████████--------------------------------| 36.3% Complete\rProgress: |██████████████████--------------------------------| 36.4% Complete\rProgress: |██████████████████--------------------------------| 36.5% Complete\rProgress: |██████████████████--------------------------------| 36.5% Complete\rProgress: |██████████████████--------------------------------| 36.6% Complete\rProgress: |██████████████████--------------------------------| 36.6% Complete\rProgress: |██████████████████--------------------------------| 36.7% Complete\rProgress: |██████████████████--------------------------------| 36.8% Complete\rProgress: |██████████████████--------------------------------| 36.8% Complete\rProgress: |██████████████████--------------------------------| 36.9% Complete\rProgress: |██████████████████--------------------------------| 36.9% Complete\rProgress: |██████████████████--------------------------------| 37.0% Complete\rProgress: |██████████████████--------------------------------| 37.0% Complete\rProgress: |██████████████████--------------------------------| 37.1% Complete\rProgress: |██████████████████--------------------------------| 37.2% Complete\rProgress: |██████████████████--------------------------------| 37.2% Complete\rProgress: |██████████████████--------------------------------| 37.3% Complete\rProgress: |██████████████████--------------------------------| 37.3% Complete\rProgress: |██████████████████--------------------------------| 37.4% Complete\rProgress: |██████████████████--------------------------------| 37.5% Complete\rProgress: |██████████████████--------------------------------| 37.5% Complete\rProgress: |██████████████████--------------------------------| 37.6% Complete\rProgress: |██████████████████--------------------------------| 37.6% Complete\rProgress: |██████████████████--------------------------------| 37.7% Complete\rProgress: |██████████████████--------------------------------| 37.7% Complete\rProgress: |██████████████████--------------------------------| 37.8% Complete\rProgress: |██████████████████--------------------------------| 37.9% Complete\rProgress: |██████████████████--------------------------------| 37.9% Complete\rProgress: |██████████████████--------------------------------| 38.0% Complete\rProgress: |███████████████████-------------------------------| 38.0% Complete\rProgress: |███████████████████-------------------------------| 38.1% Complete\rProgress: |███████████████████-------------------------------| 38.2% Complete\rProgress: |███████████████████-------------------------------| 38.2% Complete\rProgress: |███████████████████-------------------------------| 38.3% Complete\rProgress: |███████████████████-------------------------------| 38.3% Complete\rProgress: |███████████████████-------------------------------| 38.4% Complete\rProgress: |███████████████████-------------------------------| 38.4% Complete\rProgress: |███████████████████-------------------------------| 38.5% Complete\rProgress: |███████████████████-------------------------------| 38.6% Complete\rProgress: |███████████████████-------------------------------| 38.6% Complete\rProgress: |███████████████████-------------------------------| 38.7% Complete\rProgress: |███████████████████-------------------------------| 38.7% Complete\rProgress: |███████████████████-------------------------------| 38.8% Complete\rProgress: |███████████████████-------------------------------| 38.9% Complete\rProgress: |███████████████████-------------------------------| 38.9% Complete\rProgress: |███████████████████-------------------------------| 39.0% Complete\rProgress: |███████████████████-------------------------------| 39.0% Complete\rProgress: |███████████████████-------------------------------| 39.1% Complete\rProgress: |███████████████████-------------------------------| 39.1% Complete\rProgress: |███████████████████-------------------------------| 39.2% Complete\rProgress: |███████████████████-------------------------------| 39.3% Complete\rProgress: |███████████████████-------------------------------| 39.3% Complete\rProgress: |███████████████████-------------------------------| 39.4% Complete\rProgress: |███████████████████-------------------------------| 39.4% Complete\rProgress: |███████████████████-------------------------------| 39.5% Complete\rProgress: |███████████████████-------------------------------| 39.6% Complete\rProgress: |███████████████████-------------------------------| 39.6% Complete\rProgress: |███████████████████-------------------------------| 39.7% Complete\rProgress: |███████████████████-------------------------------| 39.7% Complete\rProgress: |███████████████████-------------------------------| 39.8% Complete\rProgress: |███████████████████-------------------------------| 39.8% Complete\rProgress: |███████████████████-------------------------------| 39.9% Complete\rProgress: |███████████████████-------------------------------| 40.0% Complete\rProgress: |████████████████████------------------------------| 40.0% Complete\rProgress: |████████████████████------------------------------| 40.1% Complete\rProgress: |████████████████████------------------------------| 40.1% Complete\rProgress: |████████████████████------------------------------| 40.2% Complete\rProgress: |████████████████████------------------------------| 40.3% Complete\rProgress: |████████████████████------------------------------| 40.3% Complete\rProgress: |████████████████████------------------------------| 40.4% Complete\rProgress: |████████████████████------------------------------| 40.4% Complete\rProgress: |████████████████████------------------------------| 40.5% Complete\rProgress: |████████████████████------------------------------| 40.5% Complete\rProgress: |████████████████████------------------------------| 40.6% Complete\rProgress: |████████████████████------------------------------| 40.7% Complete\rProgress: |████████████████████------------------------------| 40.7% Complete\rProgress: |████████████████████------------------------------| 40.8% Complete\rProgress: |████████████████████------------------------------| 40.8% Complete\rProgress: |████████████████████------------------------------| 40.9% Complete\rProgress: |████████████████████------------------------------| 41.0% Complete\rProgress: |████████████████████------------------------------| 41.0% Complete\rProgress: |████████████████████------------------------------| 41.1% Complete\rProgress: |████████████████████------------------------------| 41.1% Complete\rProgress: |████████████████████------------------------------| 41.2% Complete\rProgress: |████████████████████------------------------------| 41.2% Complete\rProgress: |████████████████████------------------------------| 41.3% Complete\rProgress: |████████████████████------------------------------| 41.4% Complete\rProgress: |████████████████████------------------------------| 41.4% Complete\rProgress: |████████████████████------------------------------| 41.5% Complete\rProgress: |████████████████████------------------------------| 41.5% Complete\rProgress: |████████████████████------------------------------| 41.6% Complete\rProgress: |████████████████████------------------------------| 41.7% Complete\rProgress: |████████████████████------------------------------| 41.7% Complete\rProgress: |████████████████████------------------------------| 41.8% Complete\rProgress: |████████████████████------------------------------| 41.8% Complete\rProgress: |████████████████████------------------------------| 41.9% Complete\rProgress: |████████████████████------------------------------| 41.9% Complete\rProgress: |█████████████████████-----------------------------| 42.0% Complete\rProgress: |█████████████████████-----------------------------| 42.1% Complete\rProgress: |█████████████████████-----------------------------| 42.1% Complete\rProgress: |█████████████████████-----------------------------| 42.2% Complete\rProgress: |█████████████████████-----------------------------| 42.2% Complete\rProgress: |█████████████████████-----------------------------| 42.3% Complete\rProgress: |█████████████████████-----------------------------| 42.4% Complete\rProgress: |█████████████████████-----------------------------| 42.4% Complete\rProgress: |█████████████████████-----------------------------| 42.5% Complete\rProgress: |█████████████████████-----------------------------| 42.5% Complete\rProgress: |█████████████████████-----------------------------| 42.6% Complete\rProgress: |█████████████████████-----------------------------| 42.6% Complete\rProgress: |█████████████████████-----------------------------| 42.7% Complete\rProgress: |█████████████████████-----------------------------| 42.8% Complete\rProgress: |█████████████████████-----------------------------| 42.8% Complete\rProgress: |█████████████████████-----------------------------| 42.9% Complete\rProgress: |█████████████████████-----------------------------| 42.9% Complete\rProgress: |█████████████████████-----------------------------| 43.0% Complete\rProgress: |█████████████████████-----------------------------| 43.1% Complete\rProgress: |█████████████████████-----------------------------| 43.1% Complete\rProgress: |█████████████████████-----------------------------| 43.2% Complete\rProgress: |█████████████████████-----------------------------| 43.2% Complete\rProgress: |█████████████████████-----------------------------| 43.3% Complete\rProgress: |█████████████████████-----------------------------| 43.3% Complete\rProgress: |█████████████████████-----------------------------| 43.4% Complete\rProgress: |█████████████████████-----------------------------| 43.5% Complete\rProgress: |█████████████████████-----------------------------| 43.5% Complete\rProgress: |█████████████████████-----------------------------| 43.6% Complete\rProgress: |█████████████████████-----------------------------| 43.6% Complete\rProgress: |█████████████████████-----------------------------| 43.7% Complete\rProgress: |█████████████████████-----------------------------| 43.8% Complete\rProgress: |█████████████████████-----------------------------| 43.8% Complete\rProgress: |█████████████████████-----------------------------| 43.9% Complete\rProgress: |█████████████████████-----------------------------| 43.9% Complete\rProgress: |█████████████████████-----------------------------| 44.0% Complete\rProgress: |██████████████████████----------------------------| 44.0% Complete\rProgress: |██████████████████████----------------------------| 44.1% Complete\rProgress: |██████████████████████----------------------------| 44.2% Complete\rProgress: |██████████████████████----------------------------| 44.2% Complete\rProgress: |██████████████████████----------------------------| 44.3% Complete\rProgress: |██████████████████████----------------------------| 44.3% Complete\rProgress: |██████████████████████----------------------------| 44.4% Complete\rProgress: |██████████████████████----------------------------| 44.5% Complete\rProgress: |██████████████████████----------------------------| 44.5% Complete\rProgress: |██████████████████████----------------------------| 44.6% Complete\rProgress: |██████████████████████----------------------------| 44.6% Complete\rProgress: |██████████████████████----------------------------| 44.7% Complete\rProgress: |██████████████████████----------------------------| 44.7% Complete\rProgress: |██████████████████████----------------------------| 44.8% Complete\rProgress: |██████████████████████----------------------------| 44.9% Complete\rProgress: |██████████████████████----------------------------| 44.9% Complete\rProgress: |██████████████████████----------------------------| 45.0% Complete\rProgress: |██████████████████████----------------------------| 45.0% Complete\rProgress: |██████████████████████----------------------------| 45.1% Complete\rProgress: |██████████████████████----------------------------| 45.2% Complete\rProgress: |██████████████████████----------------------------| 45.2% Complete\rProgress: |██████████████████████----------------------------| 45.3% Complete\rProgress: |██████████████████████----------------------------| 45.3% Complete\rProgress: |██████████████████████----------------------------| 45.4% Complete\rProgress: |██████████████████████----------------------------| 45.4% Complete\rProgress: |██████████████████████----------------------------| 45.5% Complete\rProgress: |██████████████████████----------------------------| 45.6% Complete\rProgress: |██████████████████████----------------------------| 45.6% Complete\rProgress: |██████████████████████----------------------------| 45.7% Complete\rProgress: |██████████████████████----------------------------| 45.7% Complete\rProgress: |██████████████████████----------------------------| 45.8% Complete\rProgress: |██████████████████████----------------------------| 45.9% Complete\rProgress: |██████████████████████----------------------------| 45.9% Complete\rProgress: |██████████████████████----------------------------| 46.0% Complete\rProgress: |███████████████████████---------------------------| 46.0% Complete\rProgress: |███████████████████████---------------------------| 46.1% Complete\rProgress: |███████████████████████---------------------------| 46.1% Complete\rProgress: |███████████████████████---------------------------| 46.2% Complete\rProgress: |███████████████████████---------------------------| 46.3% Complete\rProgress: |███████████████████████---------------------------| 46.3% Complete\rProgress: |███████████████████████---------------------------| 46.4% Complete\rProgress: |███████████████████████---------------------------| 46.4% Complete\rProgress: |███████████████████████---------------------------| 46.5% Complete\rProgress: |███████████████████████---------------------------| 46.6% Complete\rProgress: |███████████████████████---------------------------| 46.6% Complete\rProgress: |███████████████████████---------------------------| 46.7% Complete\rProgress: |███████████████████████---------------------------| 46.7% Complete\rProgress: |███████████████████████---------------------------| 46.8% Complete\rProgress: |███████████████████████---------------------------| 46.8% Complete\rProgress: |███████████████████████---------------------------| 46.9% Complete\rProgress: |███████████████████████---------------------------| 47.0% Complete\rProgress: |███████████████████████---------------------------| 47.0% Complete\rProgress: |███████████████████████---------------------------| 47.1% Complete\rProgress: |███████████████████████---------------------------| 47.1% Complete\rProgress: |███████████████████████---------------------------| 47.2% Complete\rProgress: |███████████████████████---------------------------| 47.3% Complete\rProgress: |███████████████████████---------------------------| 47.3% Complete\rProgress: |███████████████████████---------------------------| 47.4% Complete\rProgress: |███████████████████████---------------------------| 47.4% Complete\rProgress: |███████████████████████---------------------------| 47.5% Complete\rProgress: |███████████████████████---------------------------| 47.6% Complete\rProgress: |███████████████████████---------------------------| 47.6% Complete\rProgress: |███████████████████████---------------------------| 47.7% Complete\rProgress: |███████████████████████---------------------------| 47.7% Complete\rProgress: |███████████████████████---------------------------| 47.8% Complete\rProgress: |███████████████████████---------------------------| 47.8% Complete\rProgress: |███████████████████████---------------------------| 47.9% Complete\rProgress: |███████████████████████---------------------------| 48.0% Complete\rProgress: |████████████████████████--------------------------| 48.0% Complete\rProgress: |████████████████████████--------------------------| 48.1% Complete\rProgress: |████████████████████████--------------------------| 48.1% Complete\rProgress: |████████████████████████--------------------------| 48.2% Complete\rProgress: |████████████████████████--------------------------| 48.3% Complete\rProgress: |████████████████████████--------------------------| 48.3% Complete\rProgress: |████████████████████████--------------------------| 48.4% Complete\rProgress: |████████████████████████--------------------------| 48.4% Complete\rProgress: |████████████████████████--------------------------| 48.5% Complete\rProgress: |████████████████████████--------------------------| 48.5% Complete\rProgress: |████████████████████████--------------------------| 48.6% Complete\rProgress: |████████████████████████--------------------------| 48.7% Complete\rProgress: |████████████████████████--------------------------| 48.7% Complete\rProgress: |████████████████████████--------------------------| 48.8% Complete\rProgress: |████████████████████████--------------------------| 48.8% Complete\rProgress: |████████████████████████--------------------------| 48.9% Complete\rProgress: |████████████████████████--------------------------| 49.0% Complete\rProgress: |████████████████████████--------------------------| 49.0% Complete\rProgress: |████████████████████████--------------------------| 49.1% Complete\rProgress: |████████████████████████--------------------------| 49.1% Complete\rProgress: |████████████████████████--------------------------| 49.2% Complete\rProgress: |████████████████████████--------------------------| 49.2% Complete\rProgress: |████████████████████████--------------------------| 49.3% Complete\rProgress: |████████████████████████--------------------------| 49.4% Complete\rProgress: |████████████████████████--------------------------| 49.4% Complete\rProgress: |████████████████████████--------------------------| 49.5% Complete\rProgress: |████████████████████████--------------------------| 49.5% Complete\rProgress: |████████████████████████--------------------------| 49.6% Complete\rProgress: |████████████████████████--------------------------| 49.7% Complete\rProgress: |████████████████████████--------------------------| 49.7% Complete\rProgress: |████████████████████████--------------------------| 49.8% Complete\rProgress: |████████████████████████--------------------------| 49.8% Complete\rProgress: |████████████████████████--------------------------| 49.9% Complete\rProgress: |████████████████████████--------------------------| 49.9% Complete\rProgress: |█████████████████████████-------------------------| 50.0% Complete\rProgress: |█████████████████████████-------------------------| 50.1% Complete\rProgress: |█████████████████████████-------------------------| 50.1% Complete\rProgress: |█████████████████████████-------------------------| 50.2% Complete\rProgress: |█████████████████████████-------------------------| 50.2% Complete\rProgress: |█████████████████████████-------------------------| 50.3% Complete\rProgress: |█████████████████████████-------------------------| 50.4% Complete\rProgress: |█████████████████████████-------------------------| 50.4% Complete\rProgress: |█████████████████████████-------------------------| 50.5% Complete\rProgress: |█████████████████████████-------------------------| 50.5% Complete\rProgress: |█████████████████████████-------------------------| 50.6% Complete\rProgress: |█████████████████████████-------------------------| 50.6% Complete\rProgress: |█████████████████████████-------------------------| 50.7% Complete\rProgress: |█████████████████████████-------------------------| 50.8% Complete\rProgress: |█████████████████████████-------------------------| 50.8% Complete\rProgress: |█████████████████████████-------------------------| 50.9% Complete\rProgress: |█████████████████████████-------------------------| 50.9% Complete\rProgress: |█████████████████████████-------------------------| 51.0% Complete\rProgress: |█████████████████████████-------------------------| 51.1% Complete\rProgress: |█████████████████████████-------------------------| 51.1% Complete\rProgress: |█████████████████████████-------------------------| 51.2% Complete\rProgress: |█████████████████████████-------------------------| 51.2% Complete\rProgress: |█████████████████████████-------------------------| 51.3% Complete\rProgress: |█████████████████████████-------------------------| 51.3% Complete\rProgress: |█████████████████████████-------------------------| 51.4% Complete\rProgress: |█████████████████████████-------------------------| 51.5% Complete\rProgress: |█████████████████████████-------------------------| 51.5% Complete\rProgress: |█████████████████████████-------------------------| 51.6% Complete\rProgress: |█████████████████████████-------------------------| 51.6% Complete\rProgress: |█████████████████████████-------------------------| 51.7% Complete\rProgress: |█████████████████████████-------------------------| 51.8% Complete\rProgress: |█████████████████████████-------------------------| 51.8% Complete\rProgress: |█████████████████████████-------------------------| 51.9% Complete\rProgress: |█████████████████████████-------------------------| 51.9% Complete\rProgress: |█████████████████████████-------------------------| 52.0% Complete\rProgress: |██████████████████████████------------------------| 52.0% Complete\rProgress: |██████████████████████████------------------------| 52.1% Complete\rProgress: |██████████████████████████------------------------| 52.2% Complete\rProgress: |██████████████████████████------------------------| 52.2% Complete\rProgress: |██████████████████████████------------------------| 52.3% Complete\rProgress: |██████████████████████████------------------------| 52.3% Complete\rProgress: |██████████████████████████------------------------| 52.4% Complete\rProgress: |██████████████████████████------------------------| 52.5% Complete\rProgress: |██████████████████████████------------------------| 52.5% Complete\rProgress: |██████████████████████████------------------------| 52.6% Complete\rProgress: |██████████████████████████------------------------| 52.6% Complete\rProgress: |██████████████████████████------------------------| 52.7% Complete\rProgress: |██████████████████████████------------------------| 52.7% Complete\rProgress: |██████████████████████████------------------------| 52.8% Complete\rProgress: |██████████████████████████------------------------| 52.9% Complete\rProgress: |██████████████████████████------------------------| 52.9% Complete\rProgress: |██████████████████████████------------------------| 53.0% Complete\rProgress: |██████████████████████████------------------------| 53.0% Complete\rProgress: |██████████████████████████------------------------| 53.1% Complete\rProgress: |██████████████████████████------------------------| 53.2% Complete\rProgress: |██████████████████████████------------------------| 53.2% Complete\rProgress: |██████████████████████████------------------------| 53.3% Complete\rProgress: |██████████████████████████------------------------| 53.3% Complete\rProgress: |██████████████████████████------------------------| 53.4% Complete\rProgress: |██████████████████████████------------------------| 53.4% Complete\rProgress: |██████████████████████████------------------------| 53.5% Complete\rProgress: |██████████████████████████------------------------| 53.6% Complete\rProgress: |██████████████████████████------------------------| 53.6% Complete\rProgress: |██████████████████████████------------------------| 53.7% Complete\rProgress: |██████████████████████████------------------------| 53.7% Complete\rProgress: |██████████████████████████------------------------| 53.8% Complete\rProgress: |██████████████████████████------------------------| 53.9% Complete\rProgress: |██████████████████████████------------------------| 53.9% Complete\rProgress: |██████████████████████████------------------------| 54.0% Complete\rProgress: |███████████████████████████-----------------------| 54.0% Complete\rProgress: |███████████████████████████-----------------------| 54.1% Complete\rProgress: |███████████████████████████-----------------------| 54.1% Complete\rProgress: |███████████████████████████-----------------------| 54.2% Complete\rProgress: |███████████████████████████-----------------------| 54.3% Complete\rProgress: |███████████████████████████-----------------------| 54.3% Complete\rProgress: |███████████████████████████-----------------------| 54.4% Complete\rProgress: |███████████████████████████-----------------------| 54.4% Complete\rProgress: |███████████████████████████-----------------------| 54.5% Complete\rProgress: |███████████████████████████-----------------------| 54.6% Complete\rProgress: |███████████████████████████-----------------------| 54.6% Complete\rProgress: |███████████████████████████-----------------------| 54.7% Complete\rProgress: |███████████████████████████-----------------------| 54.7% Complete\rProgress: |███████████████████████████-----------------------| 54.8% Complete\rProgress: |███████████████████████████-----------------------| 54.8% Complete\rProgress: |███████████████████████████-----------------------| 54.9% Complete\rProgress: |███████████████████████████-----------------------| 55.0% Complete\rProgress: |███████████████████████████-----------------------| 55.0% Complete\rProgress: |███████████████████████████-----------------------| 55.1% Complete\rProgress: |███████████████████████████-----------------------| 55.1% Complete\rProgress: |███████████████████████████-----------------------| 55.2% Complete\rProgress: |███████████████████████████-----------------------| 55.3% Complete\rProgress: |███████████████████████████-----------------------| 55.3% Complete\rProgress: |███████████████████████████-----------------------| 55.4% Complete\rProgress: |███████████████████████████-----------------------| 55.4% Complete\rProgress: |███████████████████████████-----------------------| 55.5% Complete\rProgress: |███████████████████████████-----------------------| 55.5% Complete\rProgress: |███████████████████████████-----------------------| 55.6% Complete\rProgress: |███████████████████████████-----------------------| 55.7% Complete\rProgress: |███████████████████████████-----------------------| 55.7% Complete\rProgress: |███████████████████████████-----------------------| 55.8% Complete\rProgress: |███████████████████████████-----------------------| 55.8% Complete\rProgress: |███████████████████████████-----------------------| 55.9% Complete\rProgress: |███████████████████████████-----------------------| 56.0% Complete\rProgress: |████████████████████████████----------------------| 56.0% Complete\rProgress: |████████████████████████████----------------------| 56.1% Complete\rProgress: |████████████████████████████----------------------| 56.1% Complete\rProgress: |████████████████████████████----------------------| 56.2% Complete\rProgress: |████████████████████████████----------------------| 56.2% Complete\rProgress: |████████████████████████████----------------------| 56.3% Complete\rProgress: |████████████████████████████----------------------| 56.4% Complete\rProgress: |████████████████████████████----------------------| 56.4% Complete\rProgress: |████████████████████████████----------------------| 56.5% Complete\rProgress: |████████████████████████████----------------------| 56.5% Complete\rProgress: |████████████████████████████----------------------| 56.6% Complete\rProgress: |████████████████████████████----------------------| 56.7% Complete\rProgress: |████████████████████████████----------------------| 56.7% Complete\rProgress: |████████████████████████████----------------------| 56.8% Complete\rProgress: |████████████████████████████----------------------| 56.8% Complete\rProgress: |████████████████████████████----------------------| 56.9% Complete\rProgress: |████████████████████████████----------------------| 56.9% Complete\rProgress: |████████████████████████████----------------------| 57.0% Complete\rProgress: |████████████████████████████----------------------| 57.1% Complete\rProgress: |████████████████████████████----------------------| 57.1% Complete\rProgress: |████████████████████████████----------------------| 57.2% Complete\rProgress: |████████████████████████████----------------------| 57.2% Complete\rProgress: |████████████████████████████----------------------| 57.3% Complete\rProgress: |████████████████████████████----------------------| 57.4% Complete\rProgress: |████████████████████████████----------------------| 57.4% Complete\rProgress: |████████████████████████████----------------------| 57.5% Complete\rProgress: |████████████████████████████----------------------| 57.5% Complete\rProgress: |████████████████████████████----------------------| 57.6% Complete\rProgress: |████████████████████████████----------------------| 57.6% Complete\rProgress: |████████████████████████████----------------------| 57.7% Complete\rProgress: |████████████████████████████----------------------| 57.8% Complete\rProgress: |████████████████████████████----------------------| 57.8% Complete\rProgress: |████████████████████████████----------------------| 57.9% Complete\rProgress: |████████████████████████████----------------------| 57.9% Complete\rProgress: |████████████████████████████----------------------| 58.0% Complete\rProgress: |█████████████████████████████---------------------| 58.1% Complete\rProgress: |█████████████████████████████---------------------| 58.1% Complete\rProgress: |█████████████████████████████---------------------| 58.2% Complete\rProgress: |█████████████████████████████---------------------| 58.2% Complete\rProgress: |█████████████████████████████---------------------| 58.3% Complete\rProgress: |█████████████████████████████---------------------| 58.3% Complete\rProgress: |█████████████████████████████---------------------| 58.4% Complete\rProgress: |█████████████████████████████---------------------| 58.5% Complete\rProgress: |█████████████████████████████---------------------| 58.5% Complete\rProgress: |█████████████████████████████---------------------| 58.6% Complete\rProgress: |█████████████████████████████---------------------| 58.6% Complete\rProgress: |█████████████████████████████---------------------| 58.7% Complete\rProgress: |█████████████████████████████---------------------| 58.8% Complete\rProgress: |█████████████████████████████---------------------| 58.8% Complete\rProgress: |█████████████████████████████---------------------| 58.9% Complete\rProgress: |█████████████████████████████---------------------| 58.9% Complete\rProgress: |█████████████████████████████---------------------| 59.0% Complete\rProgress: |█████████████████████████████---------------------| 59.0% Complete\rProgress: |█████████████████████████████---------------------| 59.1% Complete\rProgress: |█████████████████████████████---------------------| 59.2% Complete\rProgress: |█████████████████████████████---------------------| 59.2% Complete\rProgress: |█████████████████████████████---------------------| 59.3% Complete\rProgress: |█████████████████████████████---------------------| 59.3% Complete\rProgress: |█████████████████████████████---------------------| 59.4% Complete\rProgress: |█████████████████████████████---------------------| 59.5% Complete\rProgress: |█████████████████████████████---------------------| 59.5% Complete\rProgress: |█████████████████████████████---------------------| 59.6% Complete\rProgress: |█████████████████████████████---------------------| 59.6% Complete\rProgress: |█████████████████████████████---------------------| 59.7% Complete\rProgress: |█████████████████████████████---------------------| 59.7% Complete\rProgress: |█████████████████████████████---------------------| 59.8% Complete\rProgress: |█████████████████████████████---------------------| 59.9% Complete\rProgress: |█████████████████████████████---------------------| 59.9% Complete\rProgress: |█████████████████████████████---------------------| 60.0% Complete\rProgress: |██████████████████████████████--------------------| 60.0% Complete\rProgress: |██████████████████████████████--------------------| 60.1% Complete\rProgress: |██████████████████████████████--------------------| 60.2% Complete\rProgress: |██████████████████████████████--------------------| 60.2% Complete\rProgress: |██████████████████████████████--------------------| 60.3% Complete\rProgress: |██████████████████████████████--------------------| 60.3% Complete\rProgress: |██████████████████████████████--------------------| 60.4% Complete\rProgress: |██████████████████████████████--------------------| 60.4% Complete\rProgress: |██████████████████████████████--------------------| 60.5% Complete\rProgress: |██████████████████████████████--------------------| 60.6% Complete\rProgress: |██████████████████████████████--------------------| 60.6% Complete\rProgress: |██████████████████████████████--------------------| 60.7% Complete\rProgress: |██████████████████████████████--------------------| 60.7% Complete\rProgress: |██████████████████████████████--------------------| 60.8% Complete\rProgress: |██████████████████████████████--------------------| 60.9% Complete\rProgress: |██████████████████████████████--------------------| 60.9% Complete\rProgress: |██████████████████████████████--------------------| 61.0% Complete\rProgress: |██████████████████████████████--------------------| 61.0% Complete\rProgress: |██████████████████████████████--------------------| 61.1% Complete\rProgress: |██████████████████████████████--------------------| 61.1% Complete\rProgress: |██████████████████████████████--------------------| 61.2% Complete\rProgress: |██████████████████████████████--------------------| 61.3% Complete\rProgress: |██████████████████████████████--------------------| 61.3% Complete\rProgress: |██████████████████████████████--------------------| 61.4% Complete\rProgress: |██████████████████████████████--------------------| 61.4% Complete\rProgress: |██████████████████████████████--------------------| 61.5% Complete\rProgress: |██████████████████████████████--------------------| 61.6% Complete\rProgress: |██████████████████████████████--------------------| 61.6% Complete\rProgress: |██████████████████████████████--------------------| 61.7% Complete\rProgress: |██████████████████████████████--------------------| 61.7% Complete\rProgress: |██████████████████████████████--------------------| 61.8% Complete\rProgress: |██████████████████████████████--------------------| 61.8% Complete\rProgress: |██████████████████████████████--------------------| 61.9% Complete\rProgress: |██████████████████████████████--------------------| 62.0% Complete\rProgress: |███████████████████████████████-------------------| 62.0% Complete\rProgress: |███████████████████████████████-------------------| 62.1% Complete\rProgress: |███████████████████████████████-------------------| 62.1% Complete\rProgress: |███████████████████████████████-------------------| 62.2% Complete\rProgress: |███████████████████████████████-------------------| 62.3% Complete\rProgress: |███████████████████████████████-------------------| 62.3% Complete\rProgress: |███████████████████████████████-------------------| 62.4% Complete\rProgress: |███████████████████████████████-------------------| 62.4% Complete\rProgress: |███████████████████████████████-------------------| 62.5% Complete\rProgress: |███████████████████████████████-------------------| 62.5% Complete\rProgress: |███████████████████████████████-------------------| 62.6% Complete\rProgress: |███████████████████████████████-------------------| 62.7% Complete\rProgress: |███████████████████████████████-------------------| 62.7% Complete\rProgress: |███████████████████████████████-------------------| 62.8% Complete\rProgress: |███████████████████████████████-------------------| 62.8% Complete\rProgress: |███████████████████████████████-------------------| 62.9% Complete\rProgress: |███████████████████████████████-------------------| 63.0% Complete\rProgress: |███████████████████████████████-------------------| 63.0% Complete\rProgress: |███████████████████████████████-------------------| 63.1% Complete\rProgress: |███████████████████████████████-------------------| 63.1% Complete\rProgress: |███████████████████████████████-------------------| 63.2% Complete\rProgress: |███████████████████████████████-------------------| 63.2% Complete\rProgress: |███████████████████████████████-------------------| 63.3% Complete\rProgress: |███████████████████████████████-------------------| 63.4% Complete\rProgress: |███████████████████████████████-------------------| 63.4% Complete\rProgress: |███████████████████████████████-------------------| 63.5% Complete\rProgress: |███████████████████████████████-------------------| 63.5% Complete\rProgress: |███████████████████████████████-------------------| 63.6% Complete\rProgress: |███████████████████████████████-------------------| 63.7% Complete\rProgress: |███████████████████████████████-------------------| 63.7% Complete\rProgress: |███████████████████████████████-------------------| 63.8% Complete\rProgress: |███████████████████████████████-------------------| 63.8% Complete\rProgress: |███████████████████████████████-------------------| 63.9% Complete\rProgress: |███████████████████████████████-------------------| 63.9% Complete\rProgress: |████████████████████████████████------------------| 64.0% Complete\rProgress: |████████████████████████████████------------------| 64.1% Complete\rProgress: |████████████████████████████████------------------| 64.1% Complete\rProgress: |████████████████████████████████------------------| 64.2% Complete\rProgress: |████████████████████████████████------------------| 64.2% Complete\rProgress: |████████████████████████████████------------------| 64.3% Complete\rProgress: |████████████████████████████████------------------| 64.4% Complete\rProgress: |████████████████████████████████------------------| 64.4% Complete\rProgress: |████████████████████████████████------------------| 64.5% Complete\rProgress: |████████████████████████████████------------------| 64.5% Complete\rProgress: |████████████████████████████████------------------| 64.6% Complete\rProgress: |████████████████████████████████------------------| 64.6% Complete\rProgress: |████████████████████████████████------------------| 64.7% Complete\rProgress: |████████████████████████████████------------------| 64.8% Complete\rProgress: |████████████████████████████████------------------| 64.8% Complete\rProgress: |████████████████████████████████------------------| 64.9% Complete\rProgress: |████████████████████████████████------------------| 64.9% Complete\rProgress: |████████████████████████████████------------------| 65.0% Complete\rProgress: |████████████████████████████████------------------| 65.1% Complete\rProgress: |████████████████████████████████------------------| 65.1% Complete\rProgress: |████████████████████████████████------------------| 65.2% Complete\rProgress: |████████████████████████████████------------------| 65.2% Complete\rProgress: |████████████████████████████████------------------| 65.3% Complete\rProgress: |████████████████████████████████------------------| 65.3% Complete\rProgress: |████████████████████████████████------------------| 65.4% Complete\rProgress: |████████████████████████████████------------------| 65.5% Complete\rProgress: |████████████████████████████████------------------| 65.5% Complete\rProgress: |████████████████████████████████------------------| 65.6% Complete\rProgress: |████████████████████████████████------------------| 65.6% Complete\rProgress: |████████████████████████████████------------------| 65.7% Complete\rProgress: |████████████████████████████████------------------| 65.8% Complete\rProgress: |████████████████████████████████------------------| 65.8% Complete\rProgress: |████████████████████████████████------------------| 65.9% Complete\rProgress: |████████████████████████████████------------------| 65.9% Complete\rProgress: |████████████████████████████████------------------| 66.0% Complete\rProgress: |█████████████████████████████████-----------------| 66.0% Complete\rProgress: |█████████████████████████████████-----------------| 66.1% Complete\rProgress: |█████████████████████████████████-----------------| 66.2% Complete\rProgress: |█████████████████████████████████-----------------| 66.2% Complete\rProgress: |█████████████████████████████████-----------------| 66.3% Complete\rProgress: |█████████████████████████████████-----------------| 66.3% Complete\rProgress: |█████████████████████████████████-----------------| 66.4% Complete\rProgress: |█████████████████████████████████-----------------| 66.5% Complete\rProgress: |█████████████████████████████████-----------------| 66.5% Complete\rProgress: |█████████████████████████████████-----------------| 66.6% Complete\rProgress: |█████████████████████████████████-----------------| 66.6% Complete\rProgress: |█████████████████████████████████-----------------| 66.7% Complete\rProgress: |█████████████████████████████████-----------------| 66.7% Complete\rProgress: |█████████████████████████████████-----------------| 66.8% Complete\rProgress: |█████████████████████████████████-----------------| 66.9% Complete\rProgress: |█████████████████████████████████-----------------| 66.9% Complete\rProgress: |█████████████████████████████████-----------------| 67.0% Complete\rProgress: |█████████████████████████████████-----------------| 67.0% Complete\rProgress: |█████████████████████████████████-----------------| 67.1% Complete\rProgress: |█████████████████████████████████-----------------| 67.2% Complete\rProgress: |█████████████████████████████████-----------------| 67.2% Complete\rProgress: |█████████████████████████████████-----------------| 67.3% Complete\rProgress: |█████████████████████████████████-----------------| 67.3% Complete\rProgress: |█████████████████████████████████-----------------| 67.4% Complete\rProgress: |█████████████████████████████████-----------------| 67.4% Complete\rProgress: |█████████████████████████████████-----------------| 67.5% Complete\rProgress: |█████████████████████████████████-----------------| 67.6% Complete\rProgress: |█████████████████████████████████-----------------| 67.6% Complete\rProgress: |█████████████████████████████████-----------------| 67.7% Complete\rProgress: |█████████████████████████████████-----------------| 67.7% Complete\rProgress: |█████████████████████████████████-----------------| 67.8% Complete\rProgress: |█████████████████████████████████-----------------| 67.9% Complete\rProgress: |█████████████████████████████████-----------------| 67.9% Complete\rProgress: |█████████████████████████████████-----------------| 68.0% Complete\rProgress: |██████████████████████████████████----------------| 68.0% Complete\rProgress: |██████████████████████████████████----------------| 68.1% Complete\rProgress: |██████████████████████████████████----------------| 68.1% Complete\rProgress: |██████████████████████████████████----------------| 68.2% Complete\rProgress: |██████████████████████████████████----------------| 68.3% Complete\rProgress: |██████████████████████████████████----------------| 68.3% Complete\rProgress: |██████████████████████████████████----------------| 68.4% Complete\rProgress: |██████████████████████████████████----------------| 68.4% Complete\rProgress: |██████████████████████████████████----------------| 68.5% Complete\rProgress: |██████████████████████████████████----------------| 68.6% Complete\rProgress: |██████████████████████████████████----------------| 68.6% Complete\rProgress: |██████████████████████████████████----------------| 68.7% Complete\rProgress: |██████████████████████████████████----------------| 68.7% Complete\rProgress: |██████████████████████████████████----------------| 68.8% Complete\rProgress: |██████████████████████████████████----------------| 68.8% Complete\rProgress: |██████████████████████████████████----------------| 68.9% Complete\rProgress: |██████████████████████████████████----------------| 69.0% Complete\rProgress: |██████████████████████████████████----------------| 69.0% Complete\rProgress: |██████████████████████████████████----------------| 69.1% Complete\rProgress: |██████████████████████████████████----------------| 69.1% Complete\rProgress: |██████████████████████████████████----------------| 69.2% Complete\rProgress: |██████████████████████████████████----------------| 69.3% Complete\rProgress: |██████████████████████████████████----------------| 69.3% Complete\rProgress: |██████████████████████████████████----------------| 69.4% Complete\rProgress: |██████████████████████████████████----------------| 69.4% Complete\rProgress: |██████████████████████████████████----------------| 69.5% Complete\rProgress: |██████████████████████████████████----------------| 69.5% Complete\rProgress: |██████████████████████████████████----------------| 69.6% Complete\rProgress: |██████████████████████████████████----------------| 69.7% Complete\rProgress: |██████████████████████████████████----------------| 69.7% Complete\rProgress: |██████████████████████████████████----------------| 69.8% Complete\rProgress: |██████████████████████████████████----------------| 69.8% Complete\rProgress: |██████████████████████████████████----------------| 69.9% Complete\rProgress: |██████████████████████████████████----------------| 70.0% Complete\rProgress: |███████████████████████████████████---------------| 70.0% Complete\rProgress: |███████████████████████████████████---------------| 70.1% Complete\rProgress: |███████████████████████████████████---------------| 70.1% Complete\rProgress: |███████████████████████████████████---------------| 70.2% Complete\rProgress: |███████████████████████████████████---------------| 70.2% Complete\rProgress: |███████████████████████████████████---------------| 70.3% Complete\rProgress: |███████████████████████████████████---------------| 70.4% Complete\rProgress: |███████████████████████████████████---------------| 70.4% Complete\rProgress: |███████████████████████████████████---------------| 70.5% Complete\rProgress: |███████████████████████████████████---------------| 70.5% Complete\rProgress: |███████████████████████████████████---------------| 70.6% Complete\rProgress: |███████████████████████████████████---------------| 70.7% Complete\rProgress: |███████████████████████████████████---------------| 70.7% Complete\rProgress: |███████████████████████████████████---------------| 70.8% Complete\rProgress: |███████████████████████████████████---------------| 70.8% Complete\rProgress: |███████████████████████████████████---------------| 70.9% Complete\rProgress: |███████████████████████████████████---------------| 70.9% Complete\rProgress: |███████████████████████████████████---------------| 71.0% Complete\rProgress: |███████████████████████████████████---------------| 71.1% Complete\rProgress: |███████████████████████████████████---------------| 71.1% Complete\rProgress: |███████████████████████████████████---------------| 71.2% Complete\rProgress: |███████████████████████████████████---------------| 71.2% Complete\rProgress: |███████████████████████████████████---------------| 71.3% Complete\rProgress: |███████████████████████████████████---------------| 71.4% Complete\rProgress: |███████████████████████████████████---------------| 71.4% Complete\rProgress: |███████████████████████████████████---------------| 71.5% Complete\rProgress: |███████████████████████████████████---------------| 71.5% Complete\rProgress: |███████████████████████████████████---------------| 71.6% Complete\rProgress: |███████████████████████████████████---------------| 71.6% Complete\rProgress: |███████████████████████████████████---------------| 71.7% Complete\rProgress: |███████████████████████████████████---------------| 71.8% Complete\rProgress: |███████████████████████████████████---------------| 71.8% Complete\rProgress: |███████████████████████████████████---------------| 71.9% Complete\rProgress: |███████████████████████████████████---------------| 71.9% Complete\rProgress: |███████████████████████████████████---------------| 72.0% Complete\rProgress: |████████████████████████████████████--------------| 72.1% Complete\rProgress: |████████████████████████████████████--------------| 72.1% Complete\rProgress: |████████████████████████████████████--------------| 72.2% Complete\rProgress: |████████████████████████████████████--------------| 72.2% Complete\rProgress: |████████████████████████████████████--------------| 72.3% Complete\rProgress: |████████████████████████████████████--------------| 72.3% Complete\rProgress: |████████████████████████████████████--------------| 72.4% Complete\rProgress: |████████████████████████████████████--------------| 72.5% Complete\rProgress: |████████████████████████████████████--------------| 72.5% Complete\rProgress: |████████████████████████████████████--------------| 72.6% Complete\rProgress: |████████████████████████████████████--------------| 72.6% Complete\rProgress: |████████████████████████████████████--------------| 72.7% Complete\rProgress: |████████████████████████████████████--------------| 72.8% Complete\rProgress: |████████████████████████████████████--------------| 72.8% Complete\rProgress: |████████████████████████████████████--------------| 72.9% Complete\rProgress: |████████████████████████████████████--------------| 72.9% Complete\rProgress: |████████████████████████████████████--------------| 73.0% Complete\rProgress: |████████████████████████████████████--------------| 73.0% Complete\rProgress: |████████████████████████████████████--------------| 73.1% Complete\rProgress: |████████████████████████████████████--------------| 73.2% Complete\rProgress: |████████████████████████████████████--------------| 73.2% Complete\rProgress: |████████████████████████████████████--------------| 73.3% Complete\rProgress: |████████████████████████████████████--------------| 73.3% Complete\rProgress: |████████████████████████████████████--------------| 73.4% Complete\rProgress: |████████████████████████████████████--------------| 73.5% Complete\rProgress: |████████████████████████████████████--------------| 73.5% Complete\rProgress: |████████████████████████████████████--------------| 73.6% Complete\rProgress: |████████████████████████████████████--------------| 73.6% Complete\rProgress: |████████████████████████████████████--------------| 73.7% Complete\rProgress: |████████████████████████████████████--------------| 73.7% Complete\rProgress: |████████████████████████████████████--------------| 73.8% Complete\rProgress: |████████████████████████████████████--------------| 73.9% Complete\rProgress: |████████████████████████████████████--------------| 73.9% Complete\rProgress: |████████████████████████████████████--------------| 74.0% Complete\rProgress: |█████████████████████████████████████-------------| 74.0% Complete\rProgress: |█████████████████████████████████████-------------| 74.1% Complete\rProgress: |█████████████████████████████████████-------------| 74.2% Complete\rProgress: |█████████████████████████████████████-------------| 74.2% Complete\rProgress: |█████████████████████████████████████-------------| 74.3% Complete\rProgress: |█████████████████████████████████████-------------| 74.3% Complete\rProgress: |█████████████████████████████████████-------------| 74.4% Complete\rProgress: |█████████████████████████████████████-------------| 74.4% Complete\rProgress: |█████████████████████████████████████-------------| 74.5% Complete\rProgress: |█████████████████████████████████████-------------| 74.6% Complete\rProgress: |█████████████████████████████████████-------------| 74.6% Complete\rProgress: |█████████████████████████████████████-------------| 74.7% Complete\rProgress: |█████████████████████████████████████-------------| 74.7% Complete\rProgress: |█████████████████████████████████████-------------| 74.8% Complete\rProgress: |█████████████████████████████████████-------------| 74.9% Complete\rProgress: |█████████████████████████████████████-------------| 74.9% Complete\rProgress: |█████████████████████████████████████-------------| 75.0% Complete\rProgress: |█████████████████████████████████████-------------| 75.0% Complete\rProgress: |█████████████████████████████████████-------------| 75.1% Complete\rProgress: |█████████████████████████████████████-------------| 75.1% Complete\rProgress: |█████████████████████████████████████-------------| 75.2% Complete\rProgress: |█████████████████████████████████████-------------| 75.3% Complete\rProgress: |█████████████████████████████████████-------------| 75.3% Complete\rProgress: |█████████████████████████████████████-------------| 75.4% Complete\rProgress: |█████████████████████████████████████-------------| 75.4% Complete\rProgress: |█████████████████████████████████████-------------| 75.5% Complete\rProgress: |█████████████████████████████████████-------------| 75.6% Complete\rProgress: |█████████████████████████████████████-------------| 75.6% Complete\rProgress: |█████████████████████████████████████-------------| 75.7% Complete\rProgress: |█████████████████████████████████████-------------| 75.7% Complete\rProgress: |█████████████████████████████████████-------------| 75.8% Complete\rProgress: |█████████████████████████████████████-------------| 75.8% Complete\rProgress: |█████████████████████████████████████-------------| 75.9% Complete\rProgress: |█████████████████████████████████████-------------| 76.0% Complete\rProgress: |██████████████████████████████████████------------| 76.0% Complete\rProgress: |██████████████████████████████████████------------| 76.1% Complete\rProgress: |██████████████████████████████████████------------| 76.1% Complete\rProgress: |██████████████████████████████████████------------| 76.2% Complete\rProgress: |██████████████████████████████████████------------| 76.3% Complete\rProgress: |██████████████████████████████████████------------| 76.3% Complete\rProgress: |██████████████████████████████████████------------| 76.4% Complete\rProgress: |██████████████████████████████████████------------| 76.4% Complete\rProgress: |██████████████████████████████████████------------| 76.5% Complete\rProgress: |██████████████████████████████████████------------| 76.5% Complete\rProgress: |██████████████████████████████████████------------| 76.6% Complete\rProgress: |██████████████████████████████████████------------| 76.7% Complete\rProgress: |██████████████████████████████████████------------| 76.7% Complete\rProgress: |██████████████████████████████████████------------| 76.8% Complete\rProgress: |██████████████████████████████████████------------| 76.8% Complete\rProgress: |██████████████████████████████████████------------| 76.9% Complete\rProgress: |██████████████████████████████████████------------| 77.0% Complete\rProgress: |██████████████████████████████████████------------| 77.0% Complete\rProgress: |██████████████████████████████████████------------| 77.1% Complete\rProgress: |██████████████████████████████████████------------| 77.1% Complete\rProgress: |██████████████████████████████████████------------| 77.2% Complete\rProgress: |██████████████████████████████████████------------| 77.2% Complete\rProgress: |██████████████████████████████████████------------| 77.3% Complete\rProgress: |██████████████████████████████████████------------| 77.4% Complete\rProgress: |██████████████████████████████████████------------| 77.4% Complete\rProgress: |██████████████████████████████████████------------| 77.5% Complete\rProgress: |██████████████████████████████████████------------| 77.5% Complete\rProgress: |██████████████████████████████████████------------| 77.6% Complete\rProgress: |██████████████████████████████████████------------| 77.7% Complete\rProgress: |██████████████████████████████████████------------| 77.7% Complete\rProgress: |██████████████████████████████████████------------| 77.8% Complete\rProgress: |██████████████████████████████████████------------| 77.8% Complete\rProgress: |██████████████████████████████████████------------| 77.9% Complete\rProgress: |██████████████████████████████████████------------| 77.9% Complete\rProgress: |███████████████████████████████████████-----------| 78.0% Complete\rProgress: |███████████████████████████████████████-----------| 78.1% Complete\rProgress: |███████████████████████████████████████-----------| 78.1% Complete\rProgress: |███████████████████████████████████████-----------| 78.2% Complete\rProgress: |███████████████████████████████████████-----------| 78.2% Complete\rProgress: |███████████████████████████████████████-----------| 78.3% Complete\rProgress: |███████████████████████████████████████-----------| 78.4% Complete\rProgress: |███████████████████████████████████████-----------| 78.4% Complete\rProgress: |███████████████████████████████████████-----------| 78.5% Complete\rProgress: |███████████████████████████████████████-----------| 78.5% Complete\rProgress: |███████████████████████████████████████-----------| 78.6% Complete\rProgress: |███████████████████████████████████████-----------| 78.6% Complete\rProgress: |███████████████████████████████████████-----------| 78.7% Complete\rProgress: |███████████████████████████████████████-----------| 78.8% Complete\rProgress: |███████████████████████████████████████-----------| 78.8% Complete\rProgress: |███████████████████████████████████████-----------| 78.9% Complete\rProgress: |███████████████████████████████████████-----------| 78.9% Complete\rProgress: |███████████████████████████████████████-----------| 79.0% Complete\rProgress: |███████████████████████████████████████-----------| 79.1% Complete\rProgress: |███████████████████████████████████████-----------| 79.1% Complete\rProgress: |███████████████████████████████████████-----------| 79.2% Complete\rProgress: |███████████████████████████████████████-----------| 79.2% Complete\rProgress: |███████████████████████████████████████-----------| 79.3% Complete\rProgress: |███████████████████████████████████████-----------| 79.3% Complete\rProgress: |███████████████████████████████████████-----------| 79.4% Complete\rProgress: |███████████████████████████████████████-----------| 79.5% Complete\rProgress: |███████████████████████████████████████-----------| 79.5% Complete\rProgress: |███████████████████████████████████████-----------| 79.6% Complete\rProgress: |███████████████████████████████████████-----------| 79.6% Complete\rProgress: |███████████████████████████████████████-----------| 79.7% Complete\rProgress: |███████████████████████████████████████-----------| 79.8% Complete\rProgress: |███████████████████████████████████████-----------| 79.8% Complete\rProgress: |███████████████████████████████████████-----------| 79.9% Complete\rProgress: |███████████████████████████████████████-----------| 79.9% Complete\rProgress: |███████████████████████████████████████-----------| 80.0% Complete\rProgress: |████████████████████████████████████████----------| 80.0% Complete\rProgress: |████████████████████████████████████████----------| 80.1% Complete\rProgress: |████████████████████████████████████████----------| 80.2% Complete\rProgress: |████████████████████████████████████████----------| 80.2% Complete\rProgress: |████████████████████████████████████████----------| 80.3% Complete\rProgress: |████████████████████████████████████████----------| 80.3% Complete\rProgress: |████████████████████████████████████████----------| 80.4% Complete\rProgress: |████████████████████████████████████████----------| 80.5% Complete\rProgress: |████████████████████████████████████████----------| 80.5% Complete\rProgress: |████████████████████████████████████████----------| 80.6% Complete\rProgress: |████████████████████████████████████████----------| 80.6% Complete\rProgress: |████████████████████████████████████████----------| 80.7% Complete\rProgress: |████████████████████████████████████████----------| 80.7% Complete\rProgress: |████████████████████████████████████████----------| 80.8% Complete\rProgress: |████████████████████████████████████████----------| 80.9% Complete\rProgress: |████████████████████████████████████████----------| 80.9% Complete\rProgress: |████████████████████████████████████████----------| 81.0% Complete\rProgress: |████████████████████████████████████████----------| 81.0% Complete\rProgress: |████████████████████████████████████████----------| 81.1% Complete\rProgress: |████████████████████████████████████████----------| 81.2% Complete\rProgress: |████████████████████████████████████████----------| 81.2% Complete\rProgress: |████████████████████████████████████████----------| 81.3% Complete\rProgress: |████████████████████████████████████████----------| 81.3% Complete\rProgress: |████████████████████████████████████████----------| 81.4% Complete\rProgress: |████████████████████████████████████████----------| 81.4% Complete\rProgress: |████████████████████████████████████████----------| 81.5% Complete\rProgress: |████████████████████████████████████████----------| 81.6% Complete\rProgress: |████████████████████████████████████████----------| 81.6% Complete\rProgress: |████████████████████████████████████████----------| 81.7% Complete\rProgress: |████████████████████████████████████████----------| 81.7% Complete\rProgress: |████████████████████████████████████████----------| 81.8% Complete\rProgress: |████████████████████████████████████████----------| 81.9% Complete\rProgress: |████████████████████████████████████████----------| 81.9% Complete\rProgress: |████████████████████████████████████████----------| 82.0% Complete\rProgress: |█████████████████████████████████████████---------| 82.0% Complete\rProgress: |█████████████████████████████████████████---------| 82.1% Complete\rProgress: |█████████████████████████████████████████---------| 82.1% Complete\rProgress: |█████████████████████████████████████████---------| 82.2% Complete\rProgress: |█████████████████████████████████████████---------| 82.3% Complete\rProgress: |█████████████████████████████████████████---------| 82.3% Complete\rProgress: |█████████████████████████████████████████---------| 82.4% Complete\rProgress: |█████████████████████████████████████████---------| 82.4% Complete\rProgress: |█████████████████████████████████████████---------| 82.5% Complete\rProgress: |█████████████████████████████████████████---------| 82.6% Complete\rProgress: |█████████████████████████████████████████---------| 82.6% Complete\rProgress: |█████████████████████████████████████████---------| 82.7% Complete\rProgress: |█████████████████████████████████████████---------| 82.7% Complete\rProgress: |█████████████████████████████████████████---------| 82.8% Complete\rProgress: |█████████████████████████████████████████---------| 82.8% Complete\rProgress: |█████████████████████████████████████████---------| 82.9% Complete\rProgress: |█████████████████████████████████████████---------| 83.0% Complete\rProgress: |█████████████████████████████████████████---------| 83.0% Complete\rProgress: |█████████████████████████████████████████---------| 83.1% Complete\rProgress: |█████████████████████████████████████████---------| 83.1% Complete\rProgress: |█████████████████████████████████████████---------| 83.2% Complete\rProgress: |█████████████████████████████████████████---------| 83.3% Complete\rProgress: |█████████████████████████████████████████---------| 83.3% Complete\rProgress: |█████████████████████████████████████████---------| 83.4% Complete\rProgress: |█████████████████████████████████████████---------| 83.4% Complete\rProgress: |█████████████████████████████████████████---------| 83.5% Complete\rProgress: |█████████████████████████████████████████---------| 83.5% Complete\rProgress: |█████████████████████████████████████████---------| 83.6% Complete\rProgress: |█████████████████████████████████████████---------| 83.7% Complete\rProgress: |█████████████████████████████████████████---------| 83.7% Complete\rProgress: |█████████████████████████████████████████---------| 83.8% Complete\rProgress: |█████████████████████████████████████████---------| 83.8% Complete\rProgress: |█████████████████████████████████████████---------| 83.9% Complete\rProgress: |█████████████████████████████████████████---------| 84.0% Complete\rProgress: |██████████████████████████████████████████--------| 84.0% Complete\rProgress: |██████████████████████████████████████████--------| 84.1% Complete\rProgress: |██████████████████████████████████████████--------| 84.1% Complete\rProgress: |██████████████████████████████████████████--------| 84.2% Complete\rProgress: |██████████████████████████████████████████--------| 84.2% Complete\rProgress: |██████████████████████████████████████████--------| 84.3% Complete\rProgress: |██████████████████████████████████████████--------| 84.4% Complete\rProgress: |██████████████████████████████████████████--------| 84.4% Complete\rProgress: |██████████████████████████████████████████--------| 84.5% Complete\rProgress: |██████████████████████████████████████████--------| 84.5% Complete\rProgress: |██████████████████████████████████████████--------| 84.6% Complete\rProgress: |██████████████████████████████████████████--------| 84.7% Complete\rProgress: |██████████████████████████████████████████--------| 84.7% Complete\rProgress: |██████████████████████████████████████████--------| 84.8% Complete\rProgress: |██████████████████████████████████████████--------| 84.8% Complete\rProgress: |██████████████████████████████████████████--------| 84.9% Complete\rProgress: |██████████████████████████████████████████--------| 84.9% Complete\rProgress: |██████████████████████████████████████████--------| 85.0% Complete\rProgress: |██████████████████████████████████████████--------| 85.1% Complete\rProgress: |██████████████████████████████████████████--------| 85.1% Complete\rProgress: |██████████████████████████████████████████--------| 85.2% Complete\rProgress: |██████████████████████████████████████████--------| 85.2% Complete\rProgress: |██████████████████████████████████████████--------| 85.3% Complete\rProgress: |██████████████████████████████████████████--------| 85.4% Complete\rProgress: |██████████████████████████████████████████--------| 85.4% Complete\rProgress: |██████████████████████████████████████████--------| 85.5% Complete\rProgress: |██████████████████████████████████████████--------| 85.5% Complete\rProgress: |██████████████████████████████████████████--------| 85.6% Complete\rProgress: |██████████████████████████████████████████--------| 85.6% Complete\rProgress: |██████████████████████████████████████████--------| 85.7% Complete\rProgress: |██████████████████████████████████████████--------| 85.8% Complete\rProgress: |██████████████████████████████████████████--------| 85.8% Complete\rProgress: |██████████████████████████████████████████--------| 85.9% Complete\rProgress: |██████████████████████████████████████████--------| 85.9% Complete\rProgress: |██████████████████████████████████████████--------| 86.0% Complete\rProgress: |███████████████████████████████████████████-------| 86.1% Complete\rProgress: |███████████████████████████████████████████-------| 86.1% Complete\rProgress: |███████████████████████████████████████████-------| 86.2% Complete\rProgress: |███████████████████████████████████████████-------| 86.2% Complete\rProgress: |███████████████████████████████████████████-------| 86.3% Complete\rProgress: |███████████████████████████████████████████-------| 86.3% Complete\rProgress: |███████████████████████████████████████████-------| 86.4% Complete\rProgress: |███████████████████████████████████████████-------| 86.5% Complete\rProgress: |███████████████████████████████████████████-------| 86.5% Complete\rProgress: |███████████████████████████████████████████-------| 86.6% Complete\rProgress: |███████████████████████████████████████████-------| 86.6% Complete\rProgress: |███████████████████████████████████████████-------| 86.7% Complete\rProgress: |███████████████████████████████████████████-------| 86.8% Complete\rProgress: |███████████████████████████████████████████-------| 86.8% Complete\rProgress: |███████████████████████████████████████████-------| 86.9% Complete\rProgress: |███████████████████████████████████████████-------| 86.9% Complete\rProgress: |███████████████████████████████████████████-------| 87.0% Complete\rProgress: |███████████████████████████████████████████-------| 87.0% Complete\rProgress: |███████████████████████████████████████████-------| 87.1% Complete\rProgress: |███████████████████████████████████████████-------| 87.2% Complete\rProgress: |███████████████████████████████████████████-------| 87.2% Complete\rProgress: |███████████████████████████████████████████-------| 87.3% Complete\rProgress: |███████████████████████████████████████████-------| 87.3% Complete\rProgress: |███████████████████████████████████████████-------| 87.4% Complete\rProgress: |███████████████████████████████████████████-------| 87.5% Complete\rProgress: |███████████████████████████████████████████-------| 87.5% Complete\rProgress: |███████████████████████████████████████████-------| 87.6% Complete\rProgress: |███████████████████████████████████████████-------| 87.6% Complete\rProgress: |███████████████████████████████████████████-------| 87.7% Complete\rProgress: |███████████████████████████████████████████-------| 87.7% Complete\rProgress: |███████████████████████████████████████████-------| 87.8% Complete\rProgress: |███████████████████████████████████████████-------| 87.9% Complete\rProgress: |███████████████████████████████████████████-------| 87.9% Complete\rProgress: |███████████████████████████████████████████-------| 88.0% Complete\rProgress: |████████████████████████████████████████████------| 88.0% Complete\rProgress: |████████████████████████████████████████████------| 88.1% Complete\rProgress: |████████████████████████████████████████████------| 88.2% Complete\rProgress: |████████████████████████████████████████████------| 88.2% Complete\rProgress: |████████████████████████████████████████████------| 88.3% Complete\rProgress: |████████████████████████████████████████████------| 88.3% Complete\rProgress: |████████████████████████████████████████████------| 88.4% Complete\rProgress: |████████████████████████████████████████████------| 88.4% Complete\rProgress: |████████████████████████████████████████████------| 88.5% Complete\rProgress: |████████████████████████████████████████████------| 88.6% Complete\rProgress: |████████████████████████████████████████████------| 88.6% Complete\rProgress: |████████████████████████████████████████████------| 88.7% Complete\rProgress: |████████████████████████████████████████████------| 88.7% Complete\rProgress: |████████████████████████████████████████████------| 88.8% Complete\rProgress: |████████████████████████████████████████████------| 88.9% Complete\rProgress: |████████████████████████████████████████████------| 88.9% Complete\rProgress: |████████████████████████████████████████████------| 89.0% Complete\rProgress: |████████████████████████████████████████████------| 89.0% Complete\rProgress: |████████████████████████████████████████████------| 89.1% Complete\rProgress: |████████████████████████████████████████████------| 89.1% Complete\rProgress: |████████████████████████████████████████████------| 89.2% Complete\rProgress: |████████████████████████████████████████████------| 89.3% Complete\rProgress: |████████████████████████████████████████████------| 89.3% Complete\rProgress: |████████████████████████████████████████████------| 89.4% Complete\rProgress: |████████████████████████████████████████████------| 89.4% Complete\rProgress: |████████████████████████████████████████████------| 89.5% Complete\rProgress: |████████████████████████████████████████████------| 89.6% Complete\rProgress: |████████████████████████████████████████████------| 89.6% Complete\rProgress: |████████████████████████████████████████████------| 89.7% Complete\rProgress: |████████████████████████████████████████████------| 89.7% Complete\rProgress: |████████████████████████████████████████████------| 89.8% Complete\rProgress: |████████████████████████████████████████████------| 89.8% Complete\rProgress: |████████████████████████████████████████████------| 89.9% Complete\rProgress: |████████████████████████████████████████████------| 90.0% Complete\rProgress: |█████████████████████████████████████████████-----| 90.0% Complete\rProgress: |█████████████████████████████████████████████-----| 90.1% Complete\rProgress: |█████████████████████████████████████████████-----| 90.1% Complete\rProgress: |█████████████████████████████████████████████-----| 90.2% Complete\rProgress: |█████████████████████████████████████████████-----| 90.3% Complete\rProgress: |█████████████████████████████████████████████-----| 90.3% Complete\rProgress: |█████████████████████████████████████████████-----| 90.4% Complete\rProgress: |█████████████████████████████████████████████-----| 90.4% Complete\rProgress: |█████████████████████████████████████████████-----| 90.5% Complete\rProgress: |█████████████████████████████████████████████-----| 90.5% Complete\rProgress: |█████████████████████████████████████████████-----| 90.6% Complete\rProgress: |█████████████████████████████████████████████-----| 90.7% Complete\rProgress: |█████████████████████████████████████████████-----| 90.7% Complete\rProgress: |█████████████████████████████████████████████-----| 90.8% Complete\rProgress: |█████████████████████████████████████████████-----| 90.8% Complete\rProgress: |█████████████████████████████████████████████-----| 90.9% Complete\rProgress: |█████████████████████████████████████████████-----| 91.0% Complete\rProgress: |█████████████████████████████████████████████-----| 91.0% Complete\rProgress: |█████████████████████████████████████████████-----| 91.1% Complete\rProgress: |█████████████████████████████████████████████-----| 91.1% Complete\rProgress: |█████████████████████████████████████████████-----| 91.2% Complete\rProgress: |█████████████████████████████████████████████-----| 91.2% Complete\rProgress: |█████████████████████████████████████████████-----| 91.3% Complete\rProgress: |█████████████████████████████████████████████-----| 91.4% Complete\rProgress: |█████████████████████████████████████████████-----| 91.4% Complete\rProgress: |█████████████████████████████████████████████-----| 91.5% Complete\rProgress: |█████████████████████████████████████████████-----| 91.5% Complete\rProgress: |█████████████████████████████████████████████-----| 91.6% Complete\rProgress: |█████████████████████████████████████████████-----| 91.7% Complete\rProgress: |█████████████████████████████████████████████-----| 91.7% Complete\rProgress: |█████████████████████████████████████████████-----| 91.8% Complete\rProgress: |█████████████████████████████████████████████-----| 91.8% Complete\rProgress: |█████████████████████████████████████████████-----| 91.9% Complete\rProgress: |█████████████████████████████████████████████-----| 91.9% Complete\rProgress: |██████████████████████████████████████████████----| 92.0% Complete\rProgress: |██████████████████████████████████████████████----| 92.1% Complete\rProgress: |██████████████████████████████████████████████----| 92.1% Complete\rProgress: |██████████████████████████████████████████████----| 92.2% Complete\rProgress: |██████████████████████████████████████████████----| 92.2% Complete\rProgress: |██████████████████████████████████████████████----| 92.3% Complete\rProgress: |██████████████████████████████████████████████----| 92.4% Complete\rProgress: |██████████████████████████████████████████████----| 92.4% Complete\rProgress: |██████████████████████████████████████████████----| 92.5% Complete\rProgress: |██████████████████████████████████████████████----| 92.5% Complete\rProgress: |██████████████████████████████████████████████----| 92.6% Complete\rProgress: |██████████████████████████████████████████████----| 92.6% Complete\rProgress: |██████████████████████████████████████████████----| 92.7% Complete\rProgress: |██████████████████████████████████████████████----| 92.8% Complete\rProgress: |██████████████████████████████████████████████----| 92.8% Complete\rProgress: |██████████████████████████████████████████████----| 92.9% Complete\rProgress: |██████████████████████████████████████████████----| 92.9% Complete\rProgress: |██████████████████████████████████████████████----| 93.0% Complete\rProgress: |██████████████████████████████████████████████----| 93.1% Complete\rProgress: |██████████████████████████████████████████████----| 93.1% Complete\rProgress: |██████████████████████████████████████████████----| 93.2% Complete\rProgress: |██████████████████████████████████████████████----| 93.2% Complete\rProgress: |██████████████████████████████████████████████----| 93.3% Complete\rProgress: |██████████████████████████████████████████████----| 93.3% Complete\rProgress: |██████████████████████████████████████████████----| 93.4% Complete\rProgress: |██████████████████████████████████████████████----| 93.5% Complete\rProgress: |██████████████████████████████████████████████----| 93.5% Complete\rProgress: |██████████████████████████████████████████████----| 93.6% Complete\rProgress: |██████████████████████████████████████████████----| 93.6% Complete\rProgress: |██████████████████████████████████████████████----| 93.7% Complete\rProgress: |██████████████████████████████████████████████----| 93.8% Complete\rProgress: |██████████████████████████████████████████████----| 93.8% Complete\rProgress: |██████████████████████████████████████████████----| 93.9% Complete\rProgress: |██████████████████████████████████████████████----| 93.9% Complete\rProgress: |██████████████████████████████████████████████----| 94.0% Complete\rProgress: |███████████████████████████████████████████████---| 94.0% Complete\rProgress: |███████████████████████████████████████████████---| 94.1% Complete\rProgress: |███████████████████████████████████████████████---| 94.2% Complete\rProgress: |███████████████████████████████████████████████---| 94.2% Complete\rProgress: |███████████████████████████████████████████████---| 94.3% Complete\rProgress: |███████████████████████████████████████████████---| 94.3% Complete\rProgress: |███████████████████████████████████████████████---| 94.4% Complete\rProgress: |███████████████████████████████████████████████---| 94.5% Complete\rProgress: |███████████████████████████████████████████████---| 94.5% Complete\rProgress: |███████████████████████████████████████████████---| 94.6% Complete\rProgress: |███████████████████████████████████████████████---| 94.6% Complete\rProgress: |███████████████████████████████████████████████---| 94.7% Complete\rProgress: |███████████████████████████████████████████████---| 94.8% Complete\rProgress: |███████████████████████████████████████████████---| 94.8% Complete\rProgress: |███████████████████████████████████████████████---| 94.9% Complete\rProgress: |███████████████████████████████████████████████---| 94.9% Complete\rProgress: |███████████████████████████████████████████████---| 95.0% Complete\rProgress: |███████████████████████████████████████████████---| 95.0% Complete\rProgress: |███████████████████████████████████████████████---| 95.1% Complete\rProgress: |███████████████████████████████████████████████---| 95.2% Complete\rProgress: |███████████████████████████████████████████████---| 95.2% Complete\rProgress: |███████████████████████████████████████████████---| 95.3% Complete\rProgress: |███████████████████████████████████████████████---| 95.3% Complete\rProgress: |███████████████████████████████████████████████---| 95.4% Complete\rProgress: |███████████████████████████████████████████████---| 95.5% Complete\rProgress: |███████████████████████████████████████████████---| 95.5% Complete\rProgress: |███████████████████████████████████████████████---| 95.6% Complete\rProgress: |███████████████████████████████████████████████---| 95.6% Complete\rProgress: |███████████████████████████████████████████████---| 95.7% Complete\rProgress: |███████████████████████████████████████████████---| 95.7% Complete\rProgress: |███████████████████████████████████████████████---| 95.8% Complete\rProgress: |███████████████████████████████████████████████---| 95.9% Complete\rProgress: |███████████████████████████████████████████████---| 95.9% Complete\rProgress: |███████████████████████████████████████████████---| 96.0% Complete\rProgress: |████████████████████████████████████████████████--| 96.0% Complete\rProgress: |████████████████████████████████████████████████--| 96.1% Complete\rProgress: |████████████████████████████████████████████████--| 96.2% Complete\rProgress: |████████████████████████████████████████████████--| 96.2% Complete\rProgress: |████████████████████████████████████████████████--| 96.3% Complete\rProgress: |████████████████████████████████████████████████--| 96.3% Complete\rProgress: |████████████████████████████████████████████████--| 96.4% Complete\rProgress: |████████████████████████████████████████████████--| 96.4% Complete\rProgress: |████████████████████████████████████████████████--| 96.5% Complete\rProgress: |████████████████████████████████████████████████--| 96.6% Complete\rProgress: |████████████████████████████████████████████████--| 96.6% Complete\rProgress: |████████████████████████████████████████████████--| 96.7% Complete\rProgress: |████████████████████████████████████████████████--| 96.7% Complete\rProgress: |████████████████████████████████████████████████--| 96.8% Complete\rProgress: |████████████████████████████████████████████████--| 96.9% Complete\rProgress: |████████████████████████████████████████████████--| 96.9% Complete\rProgress: |████████████████████████████████████████████████--| 97.0% Complete\rProgress: |████████████████████████████████████████████████--| 97.0% Complete\rProgress: |████████████████████████████████████████████████--| 97.1% Complete\rProgress: |████████████████████████████████████████████████--| 97.1% Complete\rProgress: |████████████████████████████████████████████████--| 97.2% Complete\rProgress: |████████████████████████████████████████████████--| 97.3% Complete\rProgress: |████████████████████████████████████████████████--| 97.3% Complete\rProgress: |████████████████████████████████████████████████--| 97.4% Complete\rProgress: |████████████████████████████████████████████████--| 97.4% Complete\rProgress: |████████████████████████████████████████████████--| 97.5% Complete\rProgress: |████████████████████████████████████████████████--| 97.6% Complete\rProgress: |████████████████████████████████████████████████--| 97.6% Complete\rProgress: |████████████████████████████████████████████████--| 97.7% Complete\rProgress: |████████████████████████████████████████████████--| 97.7% Complete\rProgress: |████████████████████████████████████████████████--| 97.8% Complete\rProgress: |████████████████████████████████████████████████--| 97.8% Complete\rProgress: |████████████████████████████████████████████████--| 97.9% Complete\rProgress: |████████████████████████████████████████████████--| 98.0% Complete\rProgress: |█████████████████████████████████████████████████-| 98.0% Complete\rProgress: |█████████████████████████████████████████████████-| 98.1% Complete\rProgress: |█████████████████████████████████████████████████-| 98.1% Complete\rProgress: |█████████████████████████████████████████████████-| 98.2% Complete\rProgress: |█████████████████████████████████████████████████-| 98.3% Complete\rProgress: |█████████████████████████████████████████████████-| 98.3% Complete\rProgress: |█████████████████████████████████████████████████-| 98.4% Complete\rProgress: |█████████████████████████████████████████████████-| 98.4% Complete\rProgress: |█████████████████████████████████████████████████-| 98.5% Complete\rProgress: |█████████████████████████████████████████████████-| 98.5% Complete\rProgress: |█████████████████████████████████████████████████-| 98.6% Complete\rProgress: |█████████████████████████████████████████████████-| 98.7% Complete\rProgress: |█████████████████████████████████████████████████-| 98.7% Complete\rProgress: |█████████████████████████████████████████████████-| 98.8% Complete\rProgress: |█████████████████████████████████████████████████-| 98.8% Complete\rProgress: |█████████████████████████████████████████████████-| 98.9% Complete\rProgress: |█████████████████████████████████████████████████-| 99.0% Complete\rProgress: |█████████████████████████████████████████████████-| 99.0% Complete\rProgress: |█████████████████████████████████████████████████-| 99.1% Complete\rProgress: |█████████████████████████████████████████████████-| 99.1% Complete\rProgress: |█████████████████████████████████████████████████-| 99.2% Complete\rProgress: |█████████████████████████████████████████████████-| 99.2% Complete\rProgress: |█████████████████████████████████████████████████-| 99.3% Complete\rProgress: |█████████████████████████████████████████████████-| 99.4% Complete\rProgress: |█████████████████████████████████████████████████-| 99.4% Complete\rProgress: |█████████████████████████████████████████████████-| 99.5% Complete\rProgress: |█████████████████████████████████████████████████-| 99.5% Complete\rProgress: |█████████████████████████████████████████████████-| 99.6% Complete\rProgress: |█████████████████████████████████████████████████-| 99.7% Complete\rProgress: |█████████████████████████████████████████████████-| 99.7% Complete\rProgress: |█████████████████████████████████████████████████-| 99.8% Complete\rProgress: |█████████████████████████████████████████████████-| 99.8% Complete\rProgress: |█████████████████████████████████████████████████-| 99.9% Complete\rProgress: |█████████████████████████████████████████████████-| 99.9% Complete\rProgress: |██████████████████████████████████████████████████| 100.0% Complete"
          ]
        }
      ]
    },
    {
      "cell_type": "code",
      "source": [
        "import cv2\n",
        "import csv\n",
        "from datetime import datetime\n",
        "from ultralytics import YOLO\n",
        "from paddleocr import PaddleOCR\n",
        "\n",
        "# Load YOLO model (trained for license plate detection)\n",
        "yolo_model = YOLO(\"/content/drive/MyDrive/Colab Notebooks/license/runs/detect/train3/weights/best.pt\")\n",
        "\n",
        "# Load PaddleOCR\n",
        "ocr = PaddleOCR(use_angle_cls=True, lang='en')\n",
        "\n",
        "# Image path\n",
        "img_path = \"/content/drive/MyDrive/Colab Notebooks/download.jpeg\"\n",
        "img = cv2.imread(img_path)\n",
        "\n",
        "# CSV file setup\n",
        "csv_file = \"/content/drive/MyDrive/Colab Notebooks/plate_texts.csv\"\n",
        "with open(csv_file, mode='w', newline='') as f:\n",
        "    writer = csv.writer(f)\n",
        "    writer.writerow([\"Timestamp\", \"Plate_ID\", \"Detected_Texts\", \"Avg_Confidence\"])  # header\n",
        "\n",
        "\n",
        "# Function to log OCR results into CSV\n",
        "def log_ocr_texts_combined(ocr, image, csv_file, plate_id):\n",
        "    result = ocr.ocr(image)\n",
        "\n",
        "    if result and isinstance(result, list):\n",
        "        all_texts = []\n",
        "        all_scores = []\n",
        "\n",
        "        for res in result:\n",
        "            if \"rec_texts\" in res:\n",
        "                all_texts.extend(res[\"rec_texts\"])\n",
        "                all_scores.extend([float(s) for s in res[\"rec_scores\"]])\n",
        "\n",
        "        if all_texts:\n",
        "            timestamp = datetime.now().strftime(\"%Y-%m-%d %H:%M:%S\")\n",
        "            combined_text = \" | \".join(all_texts)\n",
        "            avg_confidence = sum(all_scores) / len(all_scores)\n",
        "\n",
        "            # Print on screen\n",
        "            print(f\"[{timestamp}] PlateID {plate_id} → Texts: {combined_text}, Avg Confidence: {avg_confidence:.2f}\")\n",
        "\n",
        "            # Write to CSV\n",
        "            with open(csv_file, mode='a', newline='') as f:\n",
        "                writer = csv.writer(f)\n",
        "                writer.writerow([timestamp, plate_id, combined_text, f\"{avg_confidence:.2f}\"])\n",
        "\n",
        "\n",
        "# Detect license plates with YOLO and process with OCR\n",
        "plate_id = 1\n",
        "results = yolo_model(img)\n",
        "\n",
        "for r in results:\n",
        "    for box in r.boxes:\n",
        "        x1, y1, x2, y2 = map(int, box.xyxy[0])  # bounding box\n",
        "        plate = img[y1:y2, x1:x2]\n",
        "\n",
        "        log_ocr_texts_combined(ocr, plate, csv_file, plate_id)\n",
        "        plate_id += 1\n"
      ],
      "metadata": {
        "colab": {
          "base_uri": "https://localhost:8080/",
          "height": 527,
          "referenced_widgets": [
            "c524a19c36264ac58fe101ef8f62bd30",
            "21719e1c8a6f4609abb0e0912ae59857",
            "bf5e63cfedc145448f8871c6037ffe7b",
            "5ee365b2a62f4aab82901611051c6dd4",
            "fc9644f420c2436bbfa21d7221ddcff7",
            "f8028f7203b94d85a443332f7dc7d727",
            "094ca8a78cc4438ba35082443181147a",
            "dd8c2754560b455cb6ea63cb9d8f8cf7",
            "e8e22a95f3ff497389aecf8be563dddd",
            "84328ab60c4e4ce9aab3a45937f55c3e",
            "32de7ec713f64c14ad166ab59e715045",
            "b985d441f0484794a90a09e6118dbb79",
            "99408cc7ae5e4c3584f7e4fade83496e",
            "f4189253334f44af9ffcd1a74fc94def",
            "440c9afae9a94b17bebe6ed963aa36bb",
            "280565a44aaf4065b931db29ba9fd695",
            "81a8935ffec94650a9a1329226362b44",
            "caa222cb5a7840f3854bd6003f9eda22",
            "ab769935a3744a16a1c0d8e16231c757",
            "eb82f1c082154d0888ffe5514b78797b",
            "e4363fc741924e5ca7e1a6761679ead6",
            "f5785b6f89fd43bd8e7eb462305f32e0",
            "71d6df0df0f6465db0c020edb2edbaf7",
            "e89ad57bf86546aca67df726c6bbd4f6",
            "b9bb3c77f0d5465dbe5650c9195d419d",
            "fd2bf15fcbf9488ebfa57e446f583560",
            "d5160db3bc394cc1af04bb1aa49b1636",
            "fc1ae1b177374e9ca3d2eaf24831ea1f",
            "4d2f3d63b0764f6e82720973d996f4f3",
            "2618077109ef4994bbaec0d0f939fc04",
            "6f1f83d8a43942a0a9e094594859e67c",
            "7b77e0e156dc4bd4acdb34a28cff8d34",
            "0f8d699da96147e5983b7a58856471a0",
            "8b372061120a4da796b7dd056dee8ea2",
            "2171bfda993f4ea19d070dc86f2b41d3",
            "77f62130f9eb4e2f874891d8eac1ef49",
            "039d5ff8a59b48b4976b435a444db718",
            "be3ca27f4f304312a4a8487a0c049649",
            "e9b2958577844826afa148231129c153",
            "e38debdb25f24fff9dd090e326295e41",
            "b2ed1e3ebe7544158eb4fad79d8be01c",
            "2aececdfbb66450e874369fc2c0383c9",
            "612959cbe1bc441e887cc539c3db1688",
            "de1a0f2a91254569bcabef07678e0ff0",
            "430b415857fe4f7b97992432fb624ccf",
            "5dd0203f0b1944c88f75978e9f7ae447",
            "6f37f8e994e941c5ab93bf4b4d456206",
            "1091414925374349980077ced1278fa1",
            "31e9a18c94614b0eacb8a985a825cd0f",
            "4efcf81e77b1407ab9bb8b210c0709c7",
            "d7ffd758eb0a4de6b6416bc426b3dcea",
            "eb4638c6c1e1410e9065c3599b1d016b",
            "0aec0e234aed4d359b50e3bbe51bbdff",
            "42050b75b6b54539a0e0ff5a1c5586fb",
            "52cbac4a4c9c4d71b495b24fcdb8ece5"
          ]
        },
        "id": "1OFQXinbmKEf",
        "outputId": "cfa170a8-b09d-4072-b15d-5576fb3b20c7"
      },
      "execution_count": null,
      "outputs": [
        {
          "output_type": "stream",
          "name": "stderr",
          "text": [
            "/tmp/ipython-input-2954428293.py:11: DeprecationWarning: The parameter `use_angle_cls` has been deprecated and will be removed in the future. Please use `use_textline_orientation` instead.\n",
            "  ocr = PaddleOCR(use_angle_cls=True, lang='en')\n",
            "\u001b[32mCreating model: ('PP-LCNet_x1_0_doc_ori', None)\u001b[0m\n",
            "\u001b[32mUsing official model (PP-LCNet_x1_0_doc_ori), the model files will be automatically downloaded and saved in /root/.paddlex/official_models.\u001b[0m\n"
          ]
        },
        {
          "output_type": "display_data",
          "data": {
            "text/plain": [
              "Fetching 6 files:   0%|          | 0/6 [00:00<?, ?it/s]"
            ],
            "application/vnd.jupyter.widget-view+json": {
              "version_major": 2,
              "version_minor": 0,
              "model_id": "c524a19c36264ac58fe101ef8f62bd30"
            }
          },
          "metadata": {}
        },
        {
          "output_type": "stream",
          "name": "stderr",
          "text": [
            "\u001b[32mCreating model: ('UVDoc', None)\u001b[0m\n",
            "\u001b[33mThe model(UVDoc) is not supported to run in MKLDNN mode! Using `paddle` instead!\u001b[0m\n",
            "\u001b[32mUsing official model (UVDoc), the model files will be automatically downloaded and saved in /root/.paddlex/official_models.\u001b[0m\n"
          ]
        },
        {
          "output_type": "display_data",
          "data": {
            "text/plain": [
              "Fetching 6 files:   0%|          | 0/6 [00:00<?, ?it/s]"
            ],
            "application/vnd.jupyter.widget-view+json": {
              "version_major": 2,
              "version_minor": 0,
              "model_id": "b985d441f0484794a90a09e6118dbb79"
            }
          },
          "metadata": {}
        },
        {
          "output_type": "stream",
          "name": "stderr",
          "text": [
            "\u001b[32mCreating model: ('PP-LCNet_x1_0_textline_ori', None)\u001b[0m\n",
            "\u001b[32mUsing official model (PP-LCNet_x1_0_textline_ori), the model files will be automatically downloaded and saved in /root/.paddlex/official_models.\u001b[0m\n"
          ]
        },
        {
          "output_type": "display_data",
          "data": {
            "text/plain": [
              "Fetching 6 files:   0%|          | 0/6 [00:00<?, ?it/s]"
            ],
            "application/vnd.jupyter.widget-view+json": {
              "version_major": 2,
              "version_minor": 0,
              "model_id": "71d6df0df0f6465db0c020edb2edbaf7"
            }
          },
          "metadata": {}
        },
        {
          "output_type": "stream",
          "name": "stderr",
          "text": [
            "\u001b[32mCreating model: ('PP-OCRv5_server_det', None)\u001b[0m\n",
            "\u001b[32mUsing official model (PP-OCRv5_server_det), the model files will be automatically downloaded and saved in /root/.paddlex/official_models.\u001b[0m\n"
          ]
        },
        {
          "output_type": "display_data",
          "data": {
            "text/plain": [
              "Fetching 6 files:   0%|          | 0/6 [00:00<?, ?it/s]"
            ],
            "application/vnd.jupyter.widget-view+json": {
              "version_major": 2,
              "version_minor": 0,
              "model_id": "8b372061120a4da796b7dd056dee8ea2"
            }
          },
          "metadata": {}
        },
        {
          "output_type": "stream",
          "name": "stderr",
          "text": [
            "\u001b[32mCreating model: ('PP-OCRv5_server_rec', None)\u001b[0m\n",
            "\u001b[32mUsing official model (PP-OCRv5_server_rec), the model files will be automatically downloaded and saved in /root/.paddlex/official_models.\u001b[0m\n"
          ]
        },
        {
          "output_type": "display_data",
          "data": {
            "text/plain": [
              "Fetching 6 files:   0%|          | 0/6 [00:00<?, ?it/s]"
            ],
            "application/vnd.jupyter.widget-view+json": {
              "version_major": 2,
              "version_minor": 0,
              "model_id": "430b415857fe4f7b97992432fb624ccf"
            }
          },
          "metadata": {}
        },
        {
          "output_type": "stream",
          "name": "stdout",
          "text": [
            "\n",
            "0: 480x640 1 License_Plate, 11.8ms\n",
            "Speed: 2.6ms preprocess, 11.8ms inference, 1.6ms postprocess per image at shape (1, 3, 480, 640)\n"
          ]
        },
        {
          "output_type": "stream",
          "name": "stderr",
          "text": [
            "/tmp/ipython-input-2954428293.py:26: DeprecationWarning: Please use `predict` instead.\n",
            "  result = ocr.ocr(image)\n"
          ]
        },
        {
          "output_type": "stream",
          "name": "stdout",
          "text": [
            "[2025-08-16 11:17:30] PlateID 1 → Texts: MRSNOOPY | EMPIRESTATE, Avg Confidence: 0.97\n"
          ]
        }
      ]
    }
  ]
}